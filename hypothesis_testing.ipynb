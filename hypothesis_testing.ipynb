{
  "nbformat": 4,
  "nbformat_minor": 0,
  "metadata": {
    "colab": {
      "name": "hypothesis_testing.ipynb",
      "provenance": [],
      "collapsed_sections": []
    },
    "kernelspec": {
      "name": "python3",
      "display_name": "Python 3"
    },
    "language_info": {
      "name": "python"
    }
  },
  "cells": [
    {
      "cell_type": "code",
      "metadata": {
        "id": "RcLIm1fQpOjH"
      },
      "source": [
        "import pandas as pd\n",
        "import numpy as np\n",
        "import matplotlib.pyplot as plt\n",
        "import seaborn as sns\n",
        "from sklearn.impute import KNNImputer\n",
        "from sklearn.linear_model import LinearRegression\n",
        "import plotly.graph_objs as go\n",
        "import plotly.express as px\n",
        "from scipy.stats import shapiro\n",
        "from scipy.stats import normaltest\n",
        "from scipy.stats import chi2_contingency\n",
        "from scipy.stats import chi2\n",
        "import scipy.stats as stats\n",
        "from numpy import median\n",
        "from numpy import std\n",
        "\n",
        "from scipy import stats\n"
      ],
      "execution_count": 1,
      "outputs": []
    },
    {
      "cell_type": "code",
      "metadata": {
        "id": "b3FMhdWYp8AQ"
      },
      "source": [
        "path='//content/drive/MyDrive/DataSets'\n",
        "df=pd.read_csv(path+'/marketing_data.csv', sep=',')"
      ],
      "execution_count": 2,
      "outputs": []
    },
    {
      "cell_type": "markdown",
      "metadata": {
        "id": "vx0a8kegrjfV"
      },
      "source": [
        "#Getting familiar with data"
      ]
    },
    {
      "cell_type": "code",
      "metadata": {
        "colab": {
          "base_uri": "https://localhost:8080/"
        },
        "id": "ceYs7bJWrPMv",
        "outputId": "2b78dec7-cdc7-4698-d0b0-10cdd223f63d"
      },
      "source": [
        "df.info()\n"
      ],
      "execution_count": 3,
      "outputs": [
        {
          "output_type": "stream",
          "name": "stdout",
          "text": [
            "<class 'pandas.core.frame.DataFrame'>\n",
            "RangeIndex: 2240 entries, 0 to 2239\n",
            "Data columns (total 28 columns):\n",
            " #   Column               Non-Null Count  Dtype \n",
            "---  ------               --------------  ----- \n",
            " 0   ID                   2240 non-null   int64 \n",
            " 1   Year_Birth           2240 non-null   int64 \n",
            " 2   Education            2240 non-null   object\n",
            " 3   Marital_Status       2240 non-null   object\n",
            " 4    Income              2216 non-null   object\n",
            " 5   Kidhome              2240 non-null   int64 \n",
            " 6   Teenhome             2240 non-null   int64 \n",
            " 7   Dt_Customer          2240 non-null   object\n",
            " 8   Recency              2240 non-null   int64 \n",
            " 9   MntWines             2240 non-null   int64 \n",
            " 10  MntFruits            2240 non-null   int64 \n",
            " 11  MntMeatProducts      2240 non-null   int64 \n",
            " 12  MntFishProducts      2240 non-null   int64 \n",
            " 13  MntSweetProducts     2240 non-null   int64 \n",
            " 14  MntGoldProds         2240 non-null   int64 \n",
            " 15  NumDealsPurchases    2240 non-null   int64 \n",
            " 16  NumWebPurchases      2240 non-null   int64 \n",
            " 17  NumCatalogPurchases  2240 non-null   int64 \n",
            " 18  NumStorePurchases    2240 non-null   int64 \n",
            " 19  NumWebVisitsMonth    2240 non-null   int64 \n",
            " 20  AcceptedCmp3         2240 non-null   int64 \n",
            " 21  AcceptedCmp4         2240 non-null   int64 \n",
            " 22  AcceptedCmp5         2240 non-null   int64 \n",
            " 23  AcceptedCmp1         2240 non-null   int64 \n",
            " 24  AcceptedCmp2         2240 non-null   int64 \n",
            " 25  Response             2240 non-null   int64 \n",
            " 26  Complain             2240 non-null   int64 \n",
            " 27  Country              2240 non-null   object\n",
            "dtypes: int64(23), object(5)\n",
            "memory usage: 490.1+ KB\n"
          ]
        }
      ]
    },
    {
      "cell_type": "code",
      "metadata": {
        "id": "feyV-2gGr1_-"
      },
      "source": [
        "#we can see that the column' Income', has an exra 'space' it's name. This mistake could cause problems in further analysis, \n",
        "#so we need to rename it. And change the data type\n",
        "df.rename(columns={' Income ':'Income'}, inplace=True)\n",
        "df['Income']=df['Income'].str.replace('$','').str.replace(',','')\n",
        "df['Income']=df['Income'].astype(float)"
      ],
      "execution_count": null,
      "outputs": []
    },
    {
      "cell_type": "code",
      "metadata": {
        "id": "deF5uiApsrgX"
      },
      "source": [
        "#Let's create some useful columns to better understand the dataset and reveal interesting information\n",
        "\n",
        "#Age\n",
        "df['Age']=2021-df['Year_Birth']\n",
        "\n",
        "#Total Amount spended\n",
        "df['Spending']=df.MntWines+df.MntFruits+df.MntMeatProducts+df.MntFishProducts+df.MntSweetProducts+df.MntGoldProds\n",
        "\n",
        "#total of children  at home\n",
        "df['Children'] = df.Kidhome+df.Teenhome"
      ],
      "execution_count": 10,
      "outputs": []
    },
    {
      "cell_type": "code",
      "metadata": {
        "id": "le6Xw9sGu4VA"
      },
      "source": [
        "#total years of education \n",
        "df.Education.unique().tolist()\n",
        "years_edu={'Education': ['Graduation', 'PhD', '2n Cycle', 'Master', 'Basic'],\n",
        "           'Edu_years':[14,21,12,17,6]}\n",
        "years_edu=pd.DataFrame(years_edu)\n",
        "df=pd.merge(df,years_edu,on='Education')\n"
      ],
      "execution_count": 11,
      "outputs": []
    },
    {
      "cell_type": "markdown",
      "metadata": {
        "id": "2sJ76Yhit_NP"
      },
      "source": [
        "##Dealing with missing values\n",
        "There are different techniques to deal with missing values, in this case I decided to try a KNN Imputer."
      ]
    },
    {
      "cell_type": "code",
      "metadata": {
        "colab": {
          "base_uri": "https://localhost:8080/"
        },
        "id": "t188N45RrRBo",
        "outputId": "244da3e7-da2d-456e-e5de-8cb2c6eaa571"
      },
      "source": [
        "#looking for missing values\n",
        "df.isna().sum()"
      ],
      "execution_count": 8,
      "outputs": [
        {
          "output_type": "execute_result",
          "data": {
            "text/plain": [
              "ID                      0\n",
              "Year_Birth              0\n",
              "Education               0\n",
              "Marital_Status          0\n",
              "Income                 24\n",
              "Kidhome                 0\n",
              "Teenhome                0\n",
              "Dt_Customer             0\n",
              "Recency                 0\n",
              "MntWines                0\n",
              "MntFruits               0\n",
              "MntMeatProducts         0\n",
              "MntFishProducts         0\n",
              "MntSweetProducts        0\n",
              "MntGoldProds            0\n",
              "NumDealsPurchases       0\n",
              "NumWebPurchases         0\n",
              "NumCatalogPurchases     0\n",
              "NumStorePurchases       0\n",
              "NumWebVisitsMonth       0\n",
              "AcceptedCmp3            0\n",
              "AcceptedCmp4            0\n",
              "AcceptedCmp5            0\n",
              "AcceptedCmp1            0\n",
              "AcceptedCmp2            0\n",
              "Response                0\n",
              "Complain                0\n",
              "Country                 0\n",
              "dtype: int64"
            ]
          },
          "metadata": {},
          "execution_count": 8
        }
      ]
    },
    {
      "cell_type": "code",
      "metadata": {
        "colab": {
          "base_uri": "https://localhost:8080/"
        },
        "id": "hivspfIpBaA3",
        "outputId": "fee49c49-5cfc-4b65-8534-38d3b351dbf1"
      },
      "source": [
        "#Complete missing values with KNN Imputation\n",
        "imputer = KNNImputer()\n",
        "imputer = KNNImputer(n_neighbors=5,metric='nan_euclidean')\n",
        "# fit on the dataset\n",
        "imputer.fit(df[['Income','Age','Edu_years']])\n",
        "# transform the dataset\n",
        "X = imputer.transform(df[['Income','Age','Edu_years']])\n",
        "Income_impute=pd.DataFrame(X,columns=['Income','Age','Edu_years'])\n",
        "df['Income']=Income_impute['Income'].reset_index(drop=True)\n",
        "df.isnull().sum()"
      ],
      "execution_count": 12,
      "outputs": [
        {
          "output_type": "execute_result",
          "data": {
            "text/plain": [
              "ID                     0\n",
              "Year_Birth             0\n",
              "Education              0\n",
              "Marital_Status         0\n",
              "Income                 0\n",
              "Kidhome                0\n",
              "Teenhome               0\n",
              "Dt_Customer            0\n",
              "Recency                0\n",
              "MntWines               0\n",
              "MntFruits              0\n",
              "MntMeatProducts        0\n",
              "MntFishProducts        0\n",
              "MntSweetProducts       0\n",
              "MntGoldProds           0\n",
              "NumDealsPurchases      0\n",
              "NumWebPurchases        0\n",
              "NumCatalogPurchases    0\n",
              "NumStorePurchases      0\n",
              "NumWebVisitsMonth      0\n",
              "AcceptedCmp3           0\n",
              "AcceptedCmp4           0\n",
              "AcceptedCmp5           0\n",
              "AcceptedCmp1           0\n",
              "AcceptedCmp2           0\n",
              "Response               0\n",
              "Complain               0\n",
              "Country                0\n",
              "Age                    0\n",
              "Spending               0\n",
              "Children               0\n",
              "Edu_years              0\n",
              "dtype: int64"
            ]
          },
          "metadata": {},
          "execution_count": 12
        }
      ]
    },
    {
      "cell_type": "markdown",
      "metadata": {
        "id": "RqsBvTC602fh"
      },
      "source": [
        "#Statistical summary"
      ]
    },
    {
      "cell_type": "code",
      "metadata": {
        "colab": {
          "base_uri": "https://localhost:8080/",
          "height": 290
        },
        "id": "kU5KkNWlxsaX",
        "outputId": "437e7828-449e-4f3e-a7ba-ef7c99eaa291"
      },
      "source": [
        "pd.options.display.float_format='{:.2f}'.format\n",
        "df[['Income','Age','Spending','Children','Edu_years']].describe()\n"
      ],
      "execution_count": 13,
      "outputs": [
        {
          "output_type": "execute_result",
          "data": {
            "text/html": [
              "<div>\n",
              "<style scoped>\n",
              "    .dataframe tbody tr th:only-of-type {\n",
              "        vertical-align: middle;\n",
              "    }\n",
              "\n",
              "    .dataframe tbody tr th {\n",
              "        vertical-align: top;\n",
              "    }\n",
              "\n",
              "    .dataframe thead th {\n",
              "        text-align: right;\n",
              "    }\n",
              "</style>\n",
              "<table border=\"1\" class=\"dataframe\">\n",
              "  <thead>\n",
              "    <tr style=\"text-align: right;\">\n",
              "      <th></th>\n",
              "      <th>Income</th>\n",
              "      <th>Age</th>\n",
              "      <th>Spending</th>\n",
              "      <th>Children</th>\n",
              "      <th>Edu_years</th>\n",
              "    </tr>\n",
              "  </thead>\n",
              "  <tbody>\n",
              "    <tr>\n",
              "      <th>count</th>\n",
              "      <td>2240.00</td>\n",
              "      <td>2240.00</td>\n",
              "      <td>2240.00</td>\n",
              "      <td>2240.00</td>\n",
              "      <td>2240.00</td>\n",
              "    </tr>\n",
              "    <tr>\n",
              "      <th>mean</th>\n",
              "      <td>52209.72</td>\n",
              "      <td>52.19</td>\n",
              "      <td>605.80</td>\n",
              "      <td>0.95</td>\n",
              "      <td>15.64</td>\n",
              "    </tr>\n",
              "    <tr>\n",
              "      <th>std</th>\n",
              "      <td>25060.99</td>\n",
              "      <td>11.98</td>\n",
              "      <td>602.25</td>\n",
              "      <td>0.75</td>\n",
              "      <td>3.37</td>\n",
              "    </tr>\n",
              "    <tr>\n",
              "      <th>min</th>\n",
              "      <td>1730.00</td>\n",
              "      <td>25.00</td>\n",
              "      <td>5.00</td>\n",
              "      <td>0.00</td>\n",
              "      <td>6.00</td>\n",
              "    </tr>\n",
              "    <tr>\n",
              "      <th>25%</th>\n",
              "      <td>35434.75</td>\n",
              "      <td>44.00</td>\n",
              "      <td>68.75</td>\n",
              "      <td>0.00</td>\n",
              "      <td>14.00</td>\n",
              "    </tr>\n",
              "    <tr>\n",
              "      <th>50%</th>\n",
              "      <td>51369.00</td>\n",
              "      <td>51.00</td>\n",
              "      <td>396.00</td>\n",
              "      <td>1.00</td>\n",
              "      <td>14.00</td>\n",
              "    </tr>\n",
              "    <tr>\n",
              "      <th>75%</th>\n",
              "      <td>68289.75</td>\n",
              "      <td>62.00</td>\n",
              "      <td>1045.50</td>\n",
              "      <td>1.00</td>\n",
              "      <td>17.00</td>\n",
              "    </tr>\n",
              "    <tr>\n",
              "      <th>max</th>\n",
              "      <td>666666.00</td>\n",
              "      <td>128.00</td>\n",
              "      <td>2525.00</td>\n",
              "      <td>3.00</td>\n",
              "      <td>21.00</td>\n",
              "    </tr>\n",
              "  </tbody>\n",
              "</table>\n",
              "</div>"
            ],
            "text/plain": [
              "         Income     Age  Spending  Children  Edu_years\n",
              "count   2240.00 2240.00   2240.00   2240.00    2240.00\n",
              "mean   52209.72   52.19    605.80      0.95      15.64\n",
              "std    25060.99   11.98    602.25      0.75       3.37\n",
              "min     1730.00   25.00      5.00      0.00       6.00\n",
              "25%    35434.75   44.00     68.75      0.00      14.00\n",
              "50%    51369.00   51.00    396.00      1.00      14.00\n",
              "75%    68289.75   62.00   1045.50      1.00      17.00\n",
              "max   666666.00  128.00   2525.00      3.00      21.00"
            ]
          },
          "metadata": {},
          "execution_count": 13
        }
      ]
    },
    {
      "cell_type": "code",
      "metadata": {
        "id": "bbMu_E15KNGJ",
        "colab": {
          "base_uri": "https://localhost:8080/",
          "height": 408
        },
        "outputId": "782c9ca4-88a0-4f36-9c4f-e0dfba3b669c"
      },
      "source": [
        "df_plot=df[['Income','Age','Spending','Children','Edu_years']]\n",
        "df_plot_melt=pd.melt(df_plot,value_vars=df_plot)\n",
        "df_plot_melt"
      ],
      "execution_count": 14,
      "outputs": [
        {
          "output_type": "execute_result",
          "data": {
            "text/html": [
              "<div>\n",
              "<style scoped>\n",
              "    .dataframe tbody tr th:only-of-type {\n",
              "        vertical-align: middle;\n",
              "    }\n",
              "\n",
              "    .dataframe tbody tr th {\n",
              "        vertical-align: top;\n",
              "    }\n",
              "\n",
              "    .dataframe thead th {\n",
              "        text-align: right;\n",
              "    }\n",
              "</style>\n",
              "<table border=\"1\" class=\"dataframe\">\n",
              "  <thead>\n",
              "    <tr style=\"text-align: right;\">\n",
              "      <th></th>\n",
              "      <th>variable</th>\n",
              "      <th>value</th>\n",
              "    </tr>\n",
              "  </thead>\n",
              "  <tbody>\n",
              "    <tr>\n",
              "      <th>0</th>\n",
              "      <td>Income</td>\n",
              "      <td>84835.00</td>\n",
              "    </tr>\n",
              "    <tr>\n",
              "      <th>1</th>\n",
              "      <td>Income</td>\n",
              "      <td>57091.00</td>\n",
              "    </tr>\n",
              "    <tr>\n",
              "      <th>2</th>\n",
              "      <td>Income</td>\n",
              "      <td>67267.00</td>\n",
              "    </tr>\n",
              "    <tr>\n",
              "      <th>3</th>\n",
              "      <td>Income</td>\n",
              "      <td>32474.00</td>\n",
              "    </tr>\n",
              "    <tr>\n",
              "      <th>4</th>\n",
              "      <td>Income</td>\n",
              "      <td>21474.00</td>\n",
              "    </tr>\n",
              "    <tr>\n",
              "      <th>...</th>\n",
              "      <td>...</td>\n",
              "      <td>...</td>\n",
              "    </tr>\n",
              "    <tr>\n",
              "      <th>11195</th>\n",
              "      <td>Edu_years</td>\n",
              "      <td>6.00</td>\n",
              "    </tr>\n",
              "    <tr>\n",
              "      <th>11196</th>\n",
              "      <td>Edu_years</td>\n",
              "      <td>6.00</td>\n",
              "    </tr>\n",
              "    <tr>\n",
              "      <th>11197</th>\n",
              "      <td>Edu_years</td>\n",
              "      <td>6.00</td>\n",
              "    </tr>\n",
              "    <tr>\n",
              "      <th>11198</th>\n",
              "      <td>Edu_years</td>\n",
              "      <td>6.00</td>\n",
              "    </tr>\n",
              "    <tr>\n",
              "      <th>11199</th>\n",
              "      <td>Edu_years</td>\n",
              "      <td>6.00</td>\n",
              "    </tr>\n",
              "  </tbody>\n",
              "</table>\n",
              "<p>11200 rows × 2 columns</p>\n",
              "</div>"
            ],
            "text/plain": [
              "        variable    value\n",
              "0         Income 84835.00\n",
              "1         Income 57091.00\n",
              "2         Income 67267.00\n",
              "3         Income 32474.00\n",
              "4         Income 21474.00\n",
              "...          ...      ...\n",
              "11195  Edu_years     6.00\n",
              "11196  Edu_years     6.00\n",
              "11197  Edu_years     6.00\n",
              "11198  Edu_years     6.00\n",
              "11199  Edu_years     6.00\n",
              "\n",
              "[11200 rows x 2 columns]"
            ]
          },
          "metadata": {},
          "execution_count": 14
        }
      ]
    },
    {
      "cell_type": "code",
      "metadata": {
        "colab": {
          "base_uri": "https://localhost:8080/",
          "height": 441
        },
        "id": "2dubLOiAwX_d",
        "outputId": "c6e38e9b-429c-4331-c190-f7d8740c1d5a"
      },
      "source": [
        "p1 = sns.FacetGrid (df_plot_melt, col='variable', col_wrap=3, sharex=False, sharey = False) #sharex y sharey hacen que cada gráfico tenga sus escalas en axis\n",
        "p1 = p1.map(sns.histplot, 'value')"
      ],
      "execution_count": 15,
      "outputs": [
        {
          "output_type": "display_data",
          "data": {
            "image/png": "[encoded data removed]",
            "text/plain": [
              "<Figure size 648x432 with 5 Axes>"
            ]
          },
          "metadata": {
            "needs_background": "light"
          }
        }
      ]
    },
    {
      "cell_type": "code",
      "metadata": {
        "colab": {
          "base_uri": "https://localhost:8080/",
          "height": 278
        },
        "id": "ZrrQ_-GV1CsJ",
        "outputId": "b857fb2d-80e9-4169-c060-05553b516559"
      },
      "source": [
        "ax=sns.boxplot(x=df['Income'])"
      ],
      "execution_count": null,
      "outputs": [
        {
          "output_type": "display_data",
          "data": {
            "image/png": "[encoded data removed]",
            "text/plain": [
              "<Figure size 432x288 with 1 Axes>"
            ]
          },
          "metadata": {
            "needs_background": "light"
          }
        }
      ]
    },
    {
      "cell_type": "code",
      "metadata": {
        "colab": {
          "base_uri": "https://localhost:8080/",
          "height": 506
        },
        "id": "VrwHjxJT5WIX",
        "outputId": "dd99a594-74d4-4d0f-f871-b765456a3db4"
      },
      "source": [
        "p2=sns.FacetGrid(df_plot_melt, col='variable', col_wrap=3, sharex=False, sharey=False)\n",
        "p2=p2.map(sns.boxplot,'value')"
      ],
      "execution_count": 16,
      "outputs": [
        {
          "output_type": "stream",
          "name": "stderr",
          "text": [
            "/usr/local/lib/python3.7/dist-packages/seaborn/axisgrid.py:670: UserWarning:\n",
            "\n",
            "Using the boxplot function without specifying `order` is likely to produce an incorrect plot.\n",
            "\n"
          ]
        },
        {
          "output_type": "display_data",
          "data": {
            "image/png": "[encoded data removed]",
            "text/plain": [
              "<Figure size 648x432 with 5 Axes>"
            ]
          },
          "metadata": {
            "needs_background": "light"
          }
        }
      ]
    },
    {
      "cell_type": "code",
      "metadata": {
        "colab": {
          "base_uri": "https://localhost:8080/",
          "height": 1000
        },
        "id": "ka_uJudz3H7-",
        "outputId": "4ae44c75-9041-4dfc-8609-191ac69c643d"
      },
      "source": [
        "#You can get a better presentation with plotly plots\n",
        "fig = px.box(df_plot_melt, y=\"value\", facet_col=\"variable\",facet_col_wrap=2, boxmode=\"overlay\", color=\"variable\",height=1000, width=900)\n",
        "fig.update_yaxes(matches=None)\n",
        "\n",
        "for i in range(len(fig[\"data\"])):\n",
        "    yaxis_name = 'yaxis' if i == 0 else f'yaxis{i + 1}'\n",
        "    fig.layout[yaxis_name].showticklabels = True\n",
        "\n",
        "fig.update_layout(showlegend=False)\n",
        "fig.update_xaxes(showline=True, linewidth=2, linecolor='grey')\n",
        "fig.update_yaxes(showline=True, linewidth=2, linecolor='grey')\n",
        "\n",
        "fig.show()"
      ],
      "execution_count": 17,
      "outputs": [
        {
          "output_type": "display_data",
          "data": {
            "text/html": [
              "<html>\n",
              "<head><meta charset=\"utf-8\" /></head>\n",
              "<body>\n",
              "    <div>\n",
              "            <script src=\"https://cdnjs.cloudflare.com/ajax/libs/mathjax/2.7.5/MathJax.js?config=TeX-AMS-MML_SVG\"></script><script type=\"text/javascript\">if (window.MathJax) {MathJax.Hub.Config({SVG: {font: \"STIX-Web\"}});}</script>\n",
              "                <script type=\"text/javascript\">window.PlotlyConfig = {MathJaxConfig: 'local'};</script>\n",
              "        <script src=\"https://cdn.plot.ly/plotly-latest.min.js\"></script>    \n",
              "            <div id=\"d804da1a-7479-41e0-9882-5b45f39ec2e3\" class=\"plotly-graph-div\" style=\"height:1000px; width:900px;\"></div>\n",
              "            <script type=\"text/javascript\">\n",
              "                \n",
              "                    window.PLOTLYENV=window.PLOTLYENV || {};\n",
              "                    \n",
              "                if (document.getElementById(\"d804da1a-7479-41e0-9882-5b45f39ec2e3\")) {\n",
              "                    Plotly.newPlot(\n",
              "                        'd804da1a-7479-41e0-9882-5b45f39ec2e3',\n",
              "                        [{\"alignmentgroup\": \"True\", \"hoverlabel\": {\"namelength\": 0}, \"hovertemplate\": \"variable=Income<br>value=%{y}\", \"legendgroup\": \"variable=Income\", \"marker\": {\"color\": \"#636efa\"}, \"name\": \"variable=Income\", \"notched\": false, \"offsetgroup\": \"variable=Income\", \"orientation\": \"v\", \"showlegend\": true, \"type\": \"box\", \"x0\": \" \", \"xaxis\": \"x5\", \"y\": [84835.0, 57091.0, 67267.0, 32474.0, 21474.0, 44931.0, 26872.0, 4428.0, 54809.0, 54809.0, 57731.0, 54450.0, 54450.0, 73170.0, 79529.0, 18351.0, 61314.0, 21359.0, 39146.0, 64260.0, 32300.0, 72967.0, 48904.0, 90369.0, 47139.0, 83715.0, 60597.0, 34728.0, 27242.0, 76445.0, 75276.0, 34213.0, 27469.0, 68695.0, 68695.0, 50388.0, 46102.0, 24639.0, 27255.0, 55375.0, 24163.0, 72063.0, 80011.0, 63211.0, 53863.0, 50447.0, 37716.0, 45203.0, 67225.0, 70566.0, 69096.0, 71434.0, 33039.0, 33039.0, 46610.0, 49967.0, 53359.0, 72071.0, 72071.0, 21994.0, 21994.0, 69209.0, 31928.0, 21355.0, 26304.0, 102692.0, 58350.0, 7500.0, 79823.0, 85683.0, 60152.0, 29672.0, 29672.0, 70321.0, 56181.0, 49094.0, 67430.0, 83528.0, 90300.0, 52845.0, 24027.0, 42586.0, 42586.0, 30467.0, 19444.0, 48686.0, 73687.0, 64090.0, 61559.0, 54386.0, 47958.0, 67716.0, 34600.0, 34600.0, 48752.0, 74985.0, 57100.0, 24434.0, 45160.0, 33178.0, 92344.0, 42720.0, 65275.0, 36443.0, 56046.0, 65148.0, 49431.0, 51287.0, 73448.0, 86429.0, 62998.0, 47320.0, 50501.0, 58917.0, 69372.0, 75693.0, 69109.0, 69109.0, 80134.0, 64713.0, 41411.0, 30314.8, 22070.0, 34026.0, 34026.0, 46049.0, 34968.0, 46097.0, 44911.0, 33249.0, 33249.0, 79865.0, 34176.0, 34176.0, 67272.0, 78499.0, 77044.0, 70515.0, 15759.0, 62061.0, 5305.0, 83917.0, 79456.0, 23539.0, 54198.0, 62535.0, 72940.0, 157146.0, 41883.0, 78394.0, 30279.0, 30279.0, 31880.0, 60208.0, 78687.0, 75315.0, 69263.0, 78569.0, 18100.0, 74068.0, 36790.0, 18793.0, 27421.0, 30675.0, 83145.0, 41986.0, 49096.0, 18929.0, 18929.0, 18929.0, 41580.0, 22148.0, 36781.0, 93790.0, 24762.0, 70844.0, 30828.0, 36715.0, 71706.0, 24645.0, 35797.0, 44078.0, 26954.0, 80763.0, 49166.0, 89891.0, 75278.0, 38557.0, 64497.0, 61014.0, 77972.0, 81361.0, 81361.0, 37406.0, 57136.0, 40794.0, 83003.0, 72099.0, 43824.0, 66653.0, 44359.0, 79410.0, 79946.0, 76982.0, 57100.0, 29009.0, 56939.0, 64509.0, 30093.0, 30294.6, 38200.0, 16860.0, 7500.0, 4861.0, 45688.0, 45906.0, 80952.0, 39898.0, 39898.0, 86718.0, 58597.0, 46904.0, 37760.0, 37760.0, 61839.0, 58692.0, 39356.0, 55434.0, 71965.0, 74538.0, 50002.0, 53977.0, 53977.0, 69930.0, 18227.0, 65991.0, 38808.0, 55956.0, 55563.0, 89694.0, 33622.0, 61671.0, 16529.0, 69139.0, 69139.0, 65169.0, 40049.0, 69755.0, 666666.0, 60689.0, 28164.0, 22585.0, 64795.0, 70713.0, 14045.0, 31353.0, 31353.0, 71367.0, 71367.0, 57957.0, 56796.0, 56796.0, 20895.0, 59041.0, 43322.0, 65210.0, 90765.0, 80589.0, 75437.0, 58512.0, 54252.0, 60474.0, 60474.0, 22434.0, 61416.0, 26751.0, 71427.0, 26646.0, 19346.0, 56243.0, 71613.0, 25252.0, 42160.0, 38360.0, 61823.0, 44989.0, 44989.0, 43586.0, 32233.0, 62882.0, 84219.0, 84219.0, 48877.0, 60905.0, 75236.0, 62551.0, 50785.0, 30081.0, 20180.0, 20180.0, 55686.0, 51537.0, 72025.0, 77343.0, 75433.0, 39062.0, 30023.0, 30015.0, 33228.0, 22574.0, 22574.0, 55267.0, 66886.0, 72258.0, 45146.0, 32871.0, 50437.0, 70971.0, 37774.0, 33279.0, 42693.0, 65486.0, 78468.0, 77226.0, 70666.0, 49160.0, 23272.0, 71853.0, 71853.0, 65031.0, 30507.0, 67419.0, 59462.0, 95529.0, 53653.0, 22979.0, 44322.0, 30096.0, 30096.0, 56628.0, 71163.0, 71022.0, 43057.0, 29236.0, 40590.0, 40590.0, 40211.0, 53034.0, 79908.0, 70287.0, 37070.0, 37070.0, 39922.0, 39922.0, 39922.0, 40780.0, 77568.0, 66503.0, 83512.0, 71322.0, 27938.0, 22263.0, 34633.0, 42162.0, 54162.0, 40548.0, 69267.0, 68281.0, 48526.0, 90273.0, 88347.0, 10245.0, 40887.0, 55914.0, 37292.0, 52914.0, 67384.0, 51651.0, 82497.0, 79146.0, 79146.0, 75794.0, 30833.0, 91065.0, 48070.0, 30372.0, 30372.0, 66731.0, 36026.0, 35788.0, 42243.0, 46086.0, 33697.0, 72117.0, 61286.0, 61286.0, 65196.0, 55635.0, 35322.0, 87195.0, 82427.0, 94642.0, 28359.0, 55801.0, 92955.0, 56534.0, 69627.0, 44964.0, 25545.0, 77382.0, 32952.0, 46149.0, 35701.0, 105471.0, 22518.0, 59809.0, 39660.0, 15033.0, 45684.0, 21918.0, 51267.0, 59868.0, 51373.0, 79607.0, 51813.0, 61074.0, 43638.0, 58116.0, 46344.0, 77353.0, 21846.0, 76532.0, 51148.0, 33378.0, 17323.0, 62204.0, 63887.0, 29103.0, 61482.0, 20587.0, 20587.0, 48186.0, 19329.0, 23477.0, 57967.0, 73892.0, 75114.0, 42192.0, 31454.0, 22775.0, 22775.0, 31590.0, 80134.0, 80134.0, 62503.0, 46734.0, 26576.0, 75825.0, 57045.0, 27803.0, 60934.0, 41124.0, 37040.0, 92910.0, 36283.0, 28587.0, 88325.0, 2447.0, 64849.0, 42387.0, 54006.0, 16531.0, 39747.0, 81205.0, 22063.0, 47691.0, 72504.0, 33986.0, 42664.0, 58398.0, 57107.0, 76467.0, 38985.4, 51315.0, 43602.0, 38643.0, 49090.0, 70617.0, 27573.0, 50725.0, 25851.0, 57113.0, 68627.0, 25271.0, 63810.0, 63810.0, 22108.0, 72025.0, 33183.0, 45938.0, 66951.0, 77298.0, 77298.0, 75759.0, 54137.0, 61223.0, 51195.0, 42011.0, 70044.0, 46053.0, 54233.0, 36130.0, 44010.0, 80124.0, 80124.0, 50183.0, 64722.0, 19514.0, 19514.0, 59481.0, 80144.0, 61456.0, 23957.0, 33471.0, 44213.0, 57867.0, 25410.0, 13260.0, 42691.0, 58275.0, 44267.0, 68487.0, 68487.0, 80982.0, 69508.0, 82014.0, 76320.0, 64587.0, 74190.0, 18358.0, 26067.0, 70440.0, 60199.0, 38547.0, 19107.0, 16813.0, 62187.0, 57811.0, 53201.0, 54414.0, 26290.0, 61250.0, 37758.0, 37758.0, 69142.0, 53154.0, 26228.0, 75903.0, 71391.0, 27215.0, 53858.0, 30983.0, 43462.0, 63943.0, 26816.0, 54984.0, 34738.0, 68118.0, 68118.0, 22682.0, 51948.0, 25293.0, 25293.0, 67433.0, 22010.0, 62820.0, 62820.0, 23478.0, 30168.0, 37155.0, 41850.0, 56386.0, 25818.0, 15345.0, 50300.0, 72298.0, 72905.0, 47025.0, 29938.0, 56715.0, 35246.0, 28442.0, 48195.0, 62710.0, 36317.0, 44421.0, 36864.0, 82582.0, 79803.0, 65685.0, 65685.0, 35704.0, 7500.0, 36075.0, 71796.0, 28647.0, 77142.0, 53172.0, 36065.0, 73926.0, 35790.0, 39552.0, 72066.0, 21675.0, 48006.0, 65106.0, 58401.0, 29315.0, 34377.0, 46998.0, 58554.0, 58554.0, 80685.0, 52117.0, 75507.0, 75507.0, 72460.0, 61825.0, 61825.0, 28691.0, 28691.0, 54058.0, 84196.0, 3502.0, 47743.0, 66303.0, 52413.0, 60714.0, 38823.0, 42014.0, 42014.0, 44512.0, 63967.0, 90842.0, 52201.8, 28567.0, 66373.0, 66373.0, 83844.0, 83844.0, 83844.0, 31089.0, 20518.0, 28332.0, 33456.0, 65333.0, 82623.0, 73691.0, 74485.0, 65748.0, 91700.0, 79244.0, 58138.0, 29478.0, 64474.0, 40321.0, 40321.0, 55239.0, 85693.0, 71855.0, 80872.0, 75922.0, 70165.0, 65308.0, 33402.0, 96843.0, 72643.0, 15287.0, 15287.0, 62450.0, 60894.0, 87771.0, 87771.0, 50737.0, 26150.0, 57304.0, 71107.0, 81320.0, 40049.0, 63684.0, 69016.0, 7500.0, 73803.0, 80395.0, 87679.0, 94384.0, 94384.0, 34412.0, 31158.0, 34838.0, 56775.0, 8028.0, 63693.0, 63693.0, 52332.0, 55593.0, 54591.0, 40851.0, 67445.0, 67445.0, 67445.0, 39453.0, 80317.0, 79530.0, 50664.0, 56721.0, 27038.0, 23763.0, 37085.0, 1730.0, 34824.0, 34824.0, 26759.0, 33590.0, 70886.0, 72679.0, 44300.0, 38590.0, 34704.0, 65316.0, 19740.0, 79800.0, 70647.0, 28071.0, 54803.0, 74293.0, 74293.0, 41967.0, 53187.0, 86610.0, 70951.0, 24206.0, 55357.0, 58113.0, 72570.0, 30630.0, 42721.0, 72354.0, 28427.0, 28427.0, 51479.0, 76068.0, 22507.0, 52413.0, 50116.0, 76624.0, 34587.0, 66294.0, 37235.0, 85620.0, 23976.0, 36108.0, 34380.0, 41638.0, 63207.0, 28320.0, 43140.0, 52531.0, 40246.0, 35196.0, 35196.0, 70596.0, 70596.0, 81657.0, 34074.0, 36086.0, 38136.0, 67432.0, 40689.0, 40689.0, 101970.0, 48178.0, 79593.0, 79593.0, 61180.0, 64449.0, 77437.0, 17649.0, 53103.0, 71819.0, 72282.0, 46524.0, 50200.0, 18222.0, 58684.0, 66480.0, 49638.0, 33235.0, 23228.0, 82657.0, 44392.0, 34935.0, 34935.0, 57959.0, 46984.0, 23442.0, 30545.0, 79941.0, 25008.0, 47850.0, 23295.0, 84574.0, 54165.0, 28510.0, 67131.0, 76005.0, 36997.0, 47916.0, 44375.0, 65492.0, 61209.0, 66825.0, 86111.0, 31814.0, 70503.0, 79205.0, 51766.0, 62994.0, 38361.0, 38361.0, 19986.0, 19986.0, 72903.0, 22419.0, 22419.0, 75027.0, 81795.0, 59594.0, 94472.0, 70337.0, 34853.0, 50272.0, 22804.0, 22804.0, 30631.0, 81741.0, 25721.0, 31907.0, 37859.0, 30261.0, 21645.0, 32144.0, 16626.0, 82025.0, 48192.0, 66033.0, 28769.0, 32880.0, 19419.0, 34961.0, 64892.0, 43776.0, 52074.0, 65665.0, 29819.0, 81217.0, 81217.0, 26095.0, 31859.0, 58710.0, 40800.0, 18690.0, 18690.0, 18690.0, 28087.0, 75702.0, 27116.0, 46107.0, 59686.0, 82460.0, 83829.0, 83829.0, 36627.0, 28718.0, 77981.0, 60230.0, 74918.0, 40464.0, 63381.0, 63381.0, 86358.0, 41443.0, 54178.0, 43020.0, 49980.0, 72906.0, 96876.0, 24072.0, 76773.0, 72190.0, 17345.0, 17148.0, 41120.0, 66565.0, 23910.0, 35893.0, 71128.0, 37150.0, 61064.0, 153924.0, 64813.0, 58025.0, 34350.0, 34421.0, 34421.0, 71964.0, 49678.0, 68743.0, 83033.0, 37697.0, 37697.0, 44689.0, 63033.0, 40059.0, 80067.0, 40521.0, 11012.0, 31615.0, 58924.2, 70792.0, 17688.0, 44503.0, 82224.0, 43482.0, 68274.0, 42373.0, 57537.0, 30992.0, 30992.0, 74268.0, 75072.0, 56253.0, 59925.0, 62807.0, 62807.0, 81168.0, 27244.0, 26091.0, 26091.0, 38232.0, 92533.0, 63285.0, 38946.0, 38946.0, 67605.0, 55759.0, 51369.0, 51369.0, 91249.0, 76081.0, 76081.0, 39996.0, 77457.0, 80695.0, 71866.0, 22280.0, 76998.0, 24711.0, 53790.0, 22448.0, 12571.0, 35765.0, 44393.0, 13672.0, 41452.0, 42081.0, 61278.0, 81246.0, 58330.0, 58330.0, 65777.0, 25930.0, 54753.0, 62335.0, 63777.0, 59666.0, 72228.0, 75702.0, 43300.0, 78618.0, 61425.4, 29760.0, 29760.0, 50127.0, 29604.0, 49413.0, 51876.0, 45837.0, 43185.0, 73807.0, 36807.0, 30772.0, 47009.0, 70300.0, 34916.0, 27943.0, 18589.0, 85606.0, 82332.0, 59111.0, 48726.0, 37244.0, 74854.0, 46923.0, 38988.0, 56981.0, 23228.0, 90000.0, 9255.0, 71232.0, 50387.0, 76653.0, 38415.0, 22304.0, 75127.0, 75127.0, 39722.0, 39771.0, 74716.0, 33955.0, 31632.0, 60093.0, 30822.0, 41728.0, 49767.0, 67046.0, 73538.0, 80398.0, 38998.0, 38998.0, 60544.0, 60544.0, 27203.0, 67023.0, 77583.0, 76630.0, 48920.0, 38872.0, 13624.0, 42554.0, 71952.0, 71952.0, 52852.0, 77870.0, 46931.0, 85072.0, 62307.0, 47889.0, 24221.0, 22327.0, 35441.0, 19656.0, 7500.0, 71626.0, 75330.0, 48789.0, 53700.0, 71113.0, 50099.0, 80812.0, 40479.0, 29440.0, 38508.0, 69520.0, 18701.0, 18701.0, 69901.0, 47703.0, 86037.0, 71847.0, 51983.0, 68655.0, 68655.0, 38285.0, 57338.0, 42523.0, 42523.0, 31761.0, 65747.0, 43216.4, 42213.0, 50051.6, 15072.0, 59754.0, 68142.0, 48794.0, 63404.0, 55761.0, 78331.0, 37971.0, 30368.0, 69932.0, 93404.0, 38680.0, 24570.0, 64961.0, 45989.0, 73455.0, 84906.0, 84906.0, 44529.0, 41154.0, 64590.0, 83273.0, 81702.0, 42557.0, 78416.0, 44794.0, 44794.0, 69719.0, 62568.0, 42231.0, 42429.0, 42429.0, 78901.0, 46310.0, 65819.0, 71691.0, 65324.0, 65324.0, 67786.0, 32173.0, 49544.0, 35340.0, 65808.0, 34578.0, 46374.0, 95169.0, 84865.0, 66465.0, 61905.0, 38236.0, 38578.0, 38578.0, 79174.0, 72335.0, 77622.0, 71604.0, 77037.0, 69476.0, 54998.0, 60200.0, 48432.0, 48432.0, 48432.0, 65220.0, 74214.0, 56105.0, 74004.0, 41437.0, 47025.0, 68397.0, 38175.0, 68462.0, 55424.0, 86836.0, 54549.0, 72968.0, 82716.0, 60554.0, 71670.0, 67680.0, 64108.0, 69702.0, 46610.0, 45576.0, 113734.0, 37126.0, 48799.0, 84169.0, 84169.0, 74165.0, 32583.0, 33569.0, 45579.0, 70179.0, 70179.0, 55521.0, 59821.0, 56320.0, 41003.0, 42873.0, 51039.0, 78952.0, 65968.0, 80336.0, 31626.0, 50870.0, 82170.0, 61798.0, 45759.0, 45759.0, 37401.0, 37401.0, 57705.0, 66426.0, 42769.0, 76412.0, 31605.0, 25509.0, 25509.0, 28764.0, 39435.0, 69063.0, 48425.2, 38887.0, 53537.0, 60585.0, 75261.0, 81300.0, 69389.0, 42403.0, 65295.0, 78931.0, 30351.0, 30351.0, 38201.0, 43974.0, 27213.0, 41145.0, 38513.0, 77863.0, 70356.0, 29791.0, 48918.0, 48918.0, 62981.0, 160803.0, 30396.0, 65526.0, 65526.0, 57236.0, 29999.0, 31497.0, 31497.0, 36802.0, 29732.0, 45921.0, 56226.4, 54456.0, 42000.0, 42000.0, 82800.0, 82800.0, 44155.0, 57642.0, 40737.0, 35946.0, 52278.0, 52278.0, 46015.0, 46015.0, 50520.0, 62000.0, 45068.0, 59892.0, 75283.0, 70123.0, 64413.0, 87171.0, 61996.0, 82571.0, 82733.0, 42564.0, 4023.0, 57906.0, 64950.0, 63516.0, 69867.0, 31686.0, 162397.0, 44953.0, 37717.0, 37717.0, 79761.0, 53312.0, 50150.0, 50150.0, 33454.0, 26518.0, 35682.0, 57912.0, 53374.0, 30899.0, 78825.0, 47111.0, 49667.0, 46910.0, 28420.0, 83532.0, 73059.0, 73059.0, 35860.0, 35860.0, 35860.0, 35860.0, 76842.0, 67353.0, 54432.0, 40706.0, 62859.0, 62187.0, 69759.0, 32644.0, 33581.0, 42710.0, 22554.0, 78028.0, 32727.0, 52190.0, 47472.0, 14849.0, 27238.0, 51569.0, 72550.0, 77845.0, 36663.0, 18169.0, 68126.0, 52869.0, 69283.0, 64325.0, 39684.0, 53378.0, 79632.0, 56575.0, 30843.0, 18988.0, 81051.0, 34554.0, 52854.0, 69084.0, 69084.0, 65352.0, 29187.0, 36957.0, 37334.0, 30732.0, 67536.0, 65488.0, 33996.0, 33996.0, 69674.0, 56559.0, 37395.0, 59973.0, 68352.0, 52157.0, 30298.0, 56551.0, 56551.0, 40344.0, 54237.0, 34596.0, 34596.0, 63342.0, 63342.0, 37929.0, 37633.0, 33629.0, 36947.0, 65695.0, 69805.0, 37087.0, 36930.0, 16927.0, 41551.0, 56067.0, 38725.0, 46681.0, 46681.0, 36736.0, 23536.0, 42767.0, 48948.0, 48948.0, 55517.0, 52569.0, 82032.0, 82032.0, 40451.0, 70038.0, 70038.0, 45503.0, 85431.0, 102160.0, 51717.0, 54959.0, 57333.0, 62220.0, 64014.0, 64014.0, 50616.0, 73356.0, 68682.0, 68682.0, 46463.0, 80360.0, 80427.0, 76140.0, 62670.0, 78939.0, 25358.0, 83664.0, 54880.0, 71322.0, 60000.0, 61010.0, 34469.0, 38443.0, 82017.0, 58482.0, 57513.0, 71969.0, 28973.0, 84117.0, 63246.0, 82333.0, 32313.0, 51563.0, 53593.0, 43269.0, 33762.0, 85844.0, 44124.0, 50729.0, 54356.0, 72159.0, 67911.0, 67911.0, 20427.0, 32303.0, 55954.0, 49187.0, 58607.0, 52614.0, 52614.0, 36778.0, 42731.0, 40760.0, 69969.0, 76618.0, 45207.0, 55412.0, 41014.0, 55212.0, 55212.0, 38410.0, 34320.0, 70643.0, 64355.0, 41644.0, 86979.0, 82072.0, 62159.0, 5648.0, 65846.0, 52597.0, 49154.0, 44325.0, 61467.0, 77610.0, 38097.0, 44377.0, 50616.0, 26642.0, 36732.0, 64140.0, 54072.0, 59292.0, 59292.0, 92491.0, 46757.0, 77376.0, 78075.0, 42473.0, 56223.0, 91820.0, 40637.0, 56242.0, 86580.0, 54693.0, 34230.0, 79930.0, 55158.0, 75865.0, 60504.0, 68805.0, 87188.0, 74637.0, 70116.0, 48240.0, 65640.0, 45072.0, 59062.0, 36921.0, 75032.0, 63159.0, 16269.0, 78420.0, 61284.0, 33419.0, 6835.0, 93027.0, 32892.0, 32892.0, 54466.0, 76045.0, 57072.0, 48767.0, 83837.0, 27922.0, 50383.4, 21840.0, 68117.0, 58086.0, 84460.0, 51650.0, 46854.0, 54132.0, 33438.0, 60491.0, 59304.0, 51411.0, 64504.0, 55260.0, 56937.0, 40304.0, 36038.0, 52952.8, 66334.0, 69098.0, 57091.0, 66582.0, 61917.0, 80995.0, 78642.0, 23626.0, 40233.0, 55012.0, 55614.0, 156924.0, 38829.0, 71466.0, 46734.0, 66313.0, 38197.0, 51012.0, 51012.0, 28440.0, 46231.0, 85696.0, 85696.0, 60631.0, 81574.0, 46377.0, 78128.0, 83443.0, 32011.0, 62745.0, 38853.0, 90933.0, 65814.0, 74250.0, 48699.0, 60896.0, 67546.0, 67546.0, 27683.0, 39190.0, 55707.0, 42997.0, 57744.0, 76542.0, 7144.0, 51518.0, 49269.0, 67472.0, 62010.0, 58293.0, 34487.0, 84618.0, 84618.0, 66375.0, 51141.0, 86857.0, 86857.0, 34043.0, 54111.0, 39665.0, 77766.0, 77766.0, 70421.0, 23091.0, 157243.0, 54222.0, 31560.0, 90687.0, 66973.0, 50611.0, 50611.0, 66476.0, 94871.0, 63564.0, 81044.0, 47823.0, 65370.0, 81698.0, 25959.0, 14796.0, 52195.0, 82504.0, 81975.0, 31859.0, 23830.0, 96547.0, 30390.0, 85710.0, 59184.0, 31878.0, 7500.0, 35523.0, 15716.0, 26850.0, 43050.0, 25130.0, 26907.0, 26907.0, 32414.0, 26326.0, 62466.0, 62466.0, 48985.0, 36145.0, 74805.0, 59601.0, 20981.0, 45894.0, 58582.0, 32146.0, 11448.0, 27733.0, 20491.0, 65463.0, 60161.0, 53233.0, 65704.0, 54210.0, 20193.0, 88194.0, 87305.0, 35388.0, 60182.0, 19789.0, 50334.0, 7500.0, 56337.0, 38194.8, 75774.0, 75774.0, 32218.0, 15315.0, 15315.0, 26887.0, 61618.0, 51250.0, 63855.0, 46344.0, 59052.0, 82326.0, 42607.0, 41658.0, 41769.0, 67893.0, 92556.0, 19414.0, 41039.0, 24884.0, 32632.0, 76800.0, 57036.0, 25804.0, 42395.0, 52203.0, 17003.0, 75342.0, 12393.0, 82347.0, 82347.0, 26224.0, 62972.0, 62972.0, 34984.0, 70924.0, 70924.0, 69401.0, 63998.0, 38593.0, 45889.0, 80617.0, 78497.0, 78497.0, 58821.0, 89572.0, 13533.0, 25315.0, 37284.0, 37284.0, 56800.2, 22212.0, 36975.0, 57247.0, 75484.0, 64831.0, 78353.0, 10404.0, 64176.0, 74116.0, 36301.0, 36979.8, 31163.0, 31163.0, 47821.0, 72635.0, 72635.0, 68316.0, 46779.0, 57937.0, 83257.0, 41713.0, 70932.0, 38741.0, 49514.0, 87000.0, 46094.0, 74859.0, 53083.0, 79689.0, 35684.0, 62905.0, 38702.0, 14515.0, 80910.0, 60839.0, 85485.0, 67506.0, 54342.0, 36550.0, 21282.0, 54690.0, 54690.0, 23718.0, 67309.0, 23616.0, 16248.0, 59060.0, 65706.0, 66664.0, 66664.0, 25176.0, 31086.0, 41473.0, 31395.0, 47682.0, 38683.0, 21955.0, 23162.0, 24336.0, 51111.0, 23148.0, 46831.0, 77297.0, 52513.0, 30753.0, 33812.0, 53230.0, 39548.0, 70829.0, 23559.0, 71488.0, 46772.0, 50523.0, 82122.0, 49118.0, 46891.0, 46891.0, 26490.0, 26490.0, 23331.0, 45204.0, 78041.0, 35688.0, 35688.0, 42033.0, 7500.0, 17117.0, 28457.0, 49669.0, 23331.0, 24683.0, 47025.0, 7500.0, 20130.0, 20130.0, 36640.0, 31056.0, 62499.0, 30523.0, 36634.0, 43456.0, 40662.0, 33168.0, 39228.0, 74806.0, 66991.0, 38576.0, 6560.0, 48330.0, 22701.0, 53367.0, 63915.0, 43263.0, 79143.0, 58646.0, 58646.0, 47570.0, 62845.0, 62845.0, 37368.0, 65104.0, 65104.0, 81698.0, 49505.0, 68657.0, 59235.0, 18890.0, 49912.0, 49912.0, 46423.0, 46423.0, 30560.0, 30560.0, 30522.0, 68092.0, 53761.0, 69245.0, 64866.0, 34176.0, 50014.0, 55282.0, 39763.0, 43776.0, 16653.0, 28072.0, 35178.0, 35178.0, 43795.0, 36408.0, 35641.0, 70091.0, 29435.0, 86424.0, 17459.0, 75777.0, 75777.0, 71499.0, 42670.0, 41021.0, 78789.0, 35876.0, 32557.0, 78285.0, 81843.0, 51529.0, 34053.0, 31788.0, 21888.0, 33051.0, 54197.0, 30477.0, 62513.0, 75345.0, 36230.0, 72828.0, 44319.0, 39767.0, 89058.0, 55842.0, 80184.0, 7500.0, 38196.0, 42169.0, 44051.0, 80141.0, 76234.0, 66835.0, 66835.0, 46014.0, 43783.0, 57420.0, 98777.0, 98777.0, 77027.0, 83891.0, 38054.0, 41335.0, 41335.0, 36262.0, 44551.0, 48150.0, 33444.0, 37509.0, 88097.0, 34242.0, 49572.0, 44635.0, 92163.0, 58656.0, 82584.0, 34941.0, 90226.0, 57288.0, 90247.0, 30538.0, 60033.0, 70545.0, 77882.0, 90638.0, 90638.0, 49476.0, 62694.0, 47808.0, 77520.0, 22669.0, 38179.0, 64191.0, 33562.0, 36143.0, 27159.0, 41275.0, 45183.0, 10979.0, 10979.0, 61346.0, 33316.0, 33316.0, 42021.0, 75251.0, 44602.0, 78579.0, 66000.0, 89616.0, 78427.0, 65735.0, 46692.0, 157733.0, 70053.0, 27590.0, 34109.0, 58029.2, 44511.0, 53204.0, 21059.0, 67087.0, 75012.0, 85738.0, 27161.0, 78710.0, 51412.0, 27889.0, 61331.0, 70893.0, 42386.0, 42386.0, 80950.0, 62847.0, 36927.0, 23661.0, 43018.0, 49494.0, 92859.0, 29543.0, 91712.0, 81169.0, 65487.0, 65487.0, 36138.0, 57136.0, 74881.0, 74881.0, 32765.0, 50943.0, 50943.0, 55250.0, 37787.0, 48721.0, 43641.0, 33564.0, 54348.0, 57183.0, 81380.0, 57954.0, 29548.0, 62058.0, 61336.8, 8820.0, 40442.0, 78093.0, 59354.0, 77598.0, 43815.0, 63120.0, 37760.0, 51390.0, 49389.0, 28520.0, 82384.0, 46390.0, 59412.0, 35924.0, 21255.0, 58494.0, 36959.0, 38620.0, 38620.0, 31385.0, 27450.0, 65176.0, 59354.0, 31160.0, 38961.0, 56962.0, 56962.0, 29298.0, 55284.0, 81929.0, 60432.0, 66726.0, 53253.0, 38452.0, 38452.0, 35416.0, 55951.0, 49854.0, 19510.0, 66636.0, 54730.0, 42835.0, 53843.0, 63841.0, 63841.0, 63841.0, 27100.0, 27100.0, 72309.0, 49605.0, 63206.0, 65073.0, 56129.0, 56129.0, 49681.0, 49681.0, 82576.0, 22944.0, 52034.0, 39858.0, 67381.0, 41020.0, 57530.0, 42394.0, 70638.0, 74290.0, 47352.0, 47352.0, 61787.0, 42207.0, 44802.0, 79734.0, 50353.0, 52750.0, 84953.0, 77632.0, 40101.0, 61794.0, 45143.0, 45143.0, 26877.0, 62772.0, 54108.0, 18492.0, 66141.6, 62637.0, 35544.0, 49618.0, 58308.0, 89120.0, 32889.0, 33462.0, 64857.0, 64857.0, 51124.0, 75154.0, 69661.0, 45903.0, 36273.0, 70777.0, 66476.0, 45057.0, 19485.0, 83151.0, 55249.0, 61872.0, 83790.0, 60482.0, 67369.0, 47175.0, 56850.0, 50789.0, 46106.0, 43142.0, 70379.0, 58217.0, 44159.0, 73450.0, 54603.0, 59385.0, 80573.0, 80573.0, 28839.0, 73705.0, 73113.0, 68148.0, 46098.0, 46098.0, 46098.0, 88420.0, 43185.6, 59247.0, 50965.0, 59432.0, 20559.0, 50898.0, 14661.0, 37054.0, 21024.0, 39791.0, 27071.0, 33181.0, 45006.0, 42315.0, 33585.0, 76995.0, 42618.0, 45736.0, 80739.0, 52973.0, 47353.0, 64100.0, 72217.0, 63972.0, 83151.0, 73395.0, 69882.0, 61923.0, 35791.0, 35791.0, 91172.0, 34529.0, 73454.0, 31535.0, 79419.0, 17144.0, 17144.0, 65569.0, 23748.0, 24401.0, 18393.0, 20425.0, 20425.0, 24279.0, 9722.0, 17256.0, 15253.0, 27190.0, 25707.0, 26487.0, 30801.0, 8940.0, 15862.0, 13084.0, 25965.0, 9548.0, 21063.0, 25224.0, 17487.0, 14188.0, 18746.0, 18978.0, 16014.0, 13724.0, 24480.0, 22634.0, 22634.0, 22390.0, 28389.0, 16581.0, 26868.0, 14918.0, 24882.0, 24882.0, 24367.0, 7500.0, 7500.0, 20194.0, 23724.0, 23529.0, 16005.0, 16185.0, 15056.0, 22123.0, 28249.0, 28249.0, 14421.0, 25443.0, 14906.0, 26997.0, 34445.0, 15038.0, 24594.0, 24594.0], \"y0\": \" \", \"yaxis\": \"y5\"}, {\"alignmentgroup\": \"True\", \"hoverlabel\": {\"namelength\": 0}, \"hovertemplate\": \"variable=Age<br>value=%{y}\", \"legendgroup\": \"variable=Age\", \"marker\": {\"color\": \"#EF553B\"}, \"name\": \"variable=Age\", \"notched\": false, \"offsetgroup\": \"variable=Age\", \"orientation\": \"v\", \"showlegend\": true, \"type\": \"box\", \"x0\": \" \", \"xaxis\": \"x6\", \"y\": [51.0, 60.0, 63.0, 54.0, 32.0, 54.0, 40.0, 52.0, 44.0, 44.0, 52.0, 65.0, 65.0, 46.0, 35.0, 31.0, 53.0, 49.0, 35.0, 60.0, 48.0, 51.0, 61.0, 65.0, 69.0, 59.0, 57.0, 35.0, 51.0, 50.0, 56.0, 58.0, 74.0, 52.0, 52.0, 64.0, 59.0, 48.0, 37.0, 44.0, 51.0, 42.0, 41.0, 39.0, 66.0, 51.0, 68.0, 39.0, 66.0, 53.0, 63.0, 59.0, 43.0, 43.0, 63.0, 63.0, 45.0, 67.0, 67.0, 64.0, 64.0, 49.0, 32.0, 36.0, 52.0, 47.0, 50.0, 43.0, 62.0, 67.0, 42.0, 56.0, 56.0, 74.0, 59.0, 48.0, 34.0, 29.0, 42.0, 48.0, 45.0, 66.0, 66.0, 49.0, 39.0, 68.0, 31.0, 65.0, 56.0, 40.0, 69.0, 61.0, 50.0, 50.0, 52.0, 44.0, 34.0, 49.0, 63.0, 44.0, 73.0, 56.0, 77.0, 60.0, 56.0, 63.0, 66.0, 53.0, 52.0, 60.0, 69.0, 64.0, 67.0, 52.0, 72.0, 53.0, 39.0, 39.0, 27.0, 51.0, 35.0, 38.0, 51.0, 71.0, 71.0, 45.0, 41.0, 65.0, 62.0, 46.0, 46.0, 67.0, 33.0, 33.0, 55.0, 64.0, 49.0, 28.0, 65.0, 45.0, 45.0, 48.0, 65.0, 64.0, 55.0, 66.0, 51.0, 44.0, 33.0, 35.0, 32.0, 32.0, 51.0, 48.0, 38.0, 67.0, 56.0, 75.0, 75.0, 45.0, 38.0, 50.0, 67.0, 49.0, 47.0, 43.0, 57.0, 31.0, 31.0, 31.0, 43.0, 38.0, 42.0, 51.0, 49.0, 54.0, 41.0, 50.0, 62.0, 33.0, 46.0, 52.0, 50.0, 71.0, 47.0, 30.0, 69.0, 43.0, 67.0, 41.0, 67.0, 34.0, 34.0, 41.0, 54.0, 46.0, 56.0, 47.0, 50.0, 46.0, 43.0, 60.0, 55.0, 54.0, 48.0, 40.0, 45.0, 31.0, 31.0, 35.0, 51.0, 60.0, 45.0, 56.0, 53.0, 57.0, 52.0, 67.0, 67.0, 67.0, 45.0, 54.0, 75.0, 75.0, 57.0, 56.0, 45.0, 37.0, 70.0, 50.0, 67.0, 63.0, 63.0, 50.0, 34.0, 45.0, 49.0, 77.0, 43.0, 48.0, 49.0, 53.0, 37.0, 56.0, 56.0, 39.0, 69.0, 76.0, 44.0, 70.0, 51.0, 51.0, 50.0, 55.0, 52.0, 44.0, 44.0, 62.0, 62.0, 62.0, 52.0, 52.0, 48.0, 48.0, 47.0, 66.0, 51.0, 77.0, 43.0, 57.0, 65.0, 42.0, 42.0, 34.0, 39.0, 47.0, 43.0, 37.0, 47.0, 46.0, 56.0, 35.0, 46.0, 32.0, 69.0, 47.0, 47.0, 41.0, 47.0, 52.0, 33.0, 33.0, 55.0, 71.0, 57.0, 68.0, 59.0, 60.0, 45.0, 45.0, 55.0, 69.0, 59.0, 56.0, 32.0, 38.0, 49.0, 51.0, 41.0, 54.0, 54.0, 64.0, 63.0, 50.0, 58.0, 70.0, 58.0, 61.0, 44.0, 55.0, 43.0, 64.0, 61.0, 58.0, 73.0, 72.0, 68.0, 39.0, 39.0, 62.0, 61.0, 51.0, 71.0, 27.0, 68.0, 51.0, 36.0, 38.0, 38.0, 44.0, 26.0, 43.0, 46.0, 34.0, 52.0, 52.0, 40.0, 47.0, 39.0, 55.0, 55.0, 55.0, 38.0, 38.0, 38.0, 45.0, 42.0, 36.0, 35.0, 45.0, 33.0, 70.0, 65.0, 40.0, 43.0, 51.0, 68.0, 63.0, 42.0, 30.0, 60.0, 50.0, 69.0, 46.0, 38.0, 50.0, 51.0, 61.0, 41.0, 54.0, 54.0, 34.0, 70.0, 40.0, 71.0, 50.0, 50.0, 51.0, 49.0, 50.0, 62.0, 65.0, 51.0, 44.0, 55.0, 55.0, 63.0, 50.0, 53.0, 62.0, 55.0, 70.0, 38.0, 46.0, 48.0, 53.0, 59.0, 41.0, 34.0, 53.0, 44.0, 46.0, 62.0, 51.0, 35.0, 45.0, 39.0, 70.0, 50.0, 52.0, 43.0, 49.0, 30.0, 37.0, 49.0, 63.0, 52.0, 65.0, 67.0, 41.0, 35.0, 46.0, 48.0, 58.0, 34.0, 61.0, 59.0, 36.0, 56.0, 51.0, 51.0, 47.0, 53.0, 35.0, 59.0, 68.0, 29.0, 73.0, 61.0, 43.0, 43.0, 49.0, 49.0, 49.0, 65.0, 67.0, 35.0, 45.0, 71.0, 48.0, 46.0, 44.0, 39.0, 35.0, 45.0, 43.0, 40.0, 42.0, 64.0, 32.0, 36.0, 43.0, 33.0, 51.0, 49.0, 42.0, 49.0, 51.0, 54.0, 68.0, 53.0, 51.0, 64.0, 73.0, 55.0, 43.0, 70.0, 51.0, 46.0, 68.0, 43.0, 43.0, 39.0, 38.0, 55.0, 55.0, 44.0, 72.0, 46.0, 60.0, 33.0, 42.0, 42.0, 52.0, 51.0, 54.0, 59.0, 43.0, 67.0, 49.0, 44.0, 67.0, 41.0, 58.0, 58.0, 41.0, 50.0, 53.0, 53.0, 46.0, 46.0, 46.0, 46.0, 48.0, 69.0, 43.0, 48.0, 51.0, 30.0, 66.0, 51.0, 33.0, 33.0, 62.0, 41.0, 60.0, 62.0, 67.0, 46.0, 32.0, 47.0, 43.0, 43.0, 40.0, 41.0, 71.0, 64.0, 55.0, 46.0, 58.0, 49.0, 62.0, 55.0, 55.0, 69.0, 62.0, 48.0, 70.0, 65.0, 60.0, 45.0, 58.0, 69.0, 65.0, 35.0, 62.0, 37.0, 58.0, 58.0, 48.0, 46.0, 52.0, 52.0, 69.0, 38.0, 67.0, 67.0, 56.0, 43.0, 32.0, 41.0, 40.0, 50.0, 37.0, 69.0, 72.0, 63.0, 45.0, 36.0, 47.0, 63.0, 43.0, 65.0, 49.0, 56.0, 50.0, 64.0, 44.0, 63.0, 49.0, 49.0, 69.0, 48.0, 38.0, 50.0, 43.0, 73.0, 43.0, 53.0, 48.0, 44.0, 59.0, 40.0, 45.0, 56.0, 46.0, 61.0, 61.0, 58.0, 65.0, 53.0, 53.0, 27.0, 56.0, 42.0, 42.0, 52.0, 42.0, 42.0, 32.0, 32.0, 45.0, 46.0, 48.0, 64.0, 50.0, 52.0, 65.0, 72.0, 44.0, 44.0, 61.0, 53.0, 73.0, 39.0, 39.0, 43.0, 43.0, 69.0, 69.0, 69.0, 40.0, 33.0, 69.0, 56.0, 48.0, 69.0, 50.0, 74.0, 66.0, 50.0, 28.0, 64.0, 45.0, 49.0, 49.0, 49.0, 50.0, 42.0, 44.0, 70.0, 53.0, 72.0, 48.0, 69.0, 31.0, 72.0, 42.0, 42.0, 62.0, 55.0, 62.0, 62.0, 66.0, 65.0, 70.0, 70.0, 63.0, 47.0, 51.0, 51.0, 42.0, 64.0, 66.0, 33.0, 68.0, 68.0, 31.0, 36.0, 70.0, 42.0, 30.0, 43.0, 43.0, 62.0, 48.0, 72.0, 50.0, 47.0, 47.0, 47.0, 38.0, 66.0, 61.0, 62.0, 49.0, 55.0, 44.0, 46.0, 50.0, 26.0, 26.0, 49.0, 47.0, 50.0, 52.0, 56.0, 50.0, 55.0, 59.0, 61.0, 66.0, 54.0, 41.0, 52.0, 28.0, 28.0, 40.0, 51.0, 70.0, 36.0, 51.0, 36.0, 62.0, 37.0, 56.0, 51.0, 28.0, 38.0, 38.0, 54.0, 46.0, 67.0, 37.0, 64.0, 59.0, 68.0, 56.0, 37.0, 57.0, 37.0, 37.0, 44.0, 57.0, 29.0, 71.0, 64.0, 50.0, 44.0, 37.0, 37.0, 36.0, 36.0, 52.0, 69.0, 32.0, 43.0, 48.0, 70.0, 70.0, 38.0, 46.0, 48.0, 48.0, 62.0, 32.0, 58.0, 45.0, 67.0, 50.0, 70.0, 60.0, 45.0, 31.0, 40.0, 56.0, 69.0, 35.0, 52.0, 75.0, 47.0, 29.0, 29.0, 66.0, 65.0, 34.0, 42.0, 45.0, 33.0, 41.0, 62.0, 69.0, 52.0, 40.0, 65.0, 66.0, 53.0, 61.0, 56.0, 62.0, 51.0, 54.0, 59.0, 48.0, 68.0, 46.0, 41.0, 41.0, 52.0, 52.0, 36.0, 36.0, 36.0, 58.0, 58.0, 68.0, 69.0, 56.0, 63.0, 42.0, 48.0, 39.0, 50.0, 50.0, 47.0, 41.0, 50.0, 49.0, 59.0, 49.0, 42.0, 67.0, 50.0, 38.0, 63.0, 64.0, 44.0, 35.0, 40.0, 48.0, 45.0, 38.0, 54.0, 45.0, 50.0, 32.0, 32.0, 31.0, 45.0, 51.0, 57.0, 62.0, 62.0, 62.0, 63.0, 54.0, 60.0, 32.0, 56.0, 71.0, 46.0, 46.0, 46.0, 39.0, 49.0, 65.0, 52.0, 68.0, 61.0, 61.0, 55.0, 44.0, 54.0, 51.0, 58.0, 66.0, 44.0, 38.0, 67.0, 56.0, 43.0, 45.0, 53.0, 59.0, 52.0, 53.0, 48.0, 50.0, 45.0, 46.0, 43.0, 42.0, 42.0, 47.0, 47.0, 63.0, 60.0, 54.0, 35.0, 45.0, 45.0, 70.0, 62.0, 37.0, 67.0, 53.0, 37.0, 45.0, 50.0, 70.0, 42.0, 49.0, 57.0, 55.0, 42.0, 47.0, 42.0, 45.0, 45.0, 66.0, 59.0, 58.0, 66.0, 61.0, 61.0, 56.0, 42.0, 64.0, 64.0, 50.0, 36.0, 76.0, 66.0, 66.0, 34.0, 59.0, 45.0, 45.0, 65.0, 59.0, 59.0, 47.0, 74.0, 58.0, 65.0, 46.0, 66.0, 39.0, 70.0, 39.0, 45.0, 31.0, 56.0, 61.0, 68.0, 39.0, 68.0, 57.0, 46.0, 46.0, 54.0, 54.0, 62.0, 69.0, 42.0, 49.0, 69.0, 47.0, 50.0, 64.0, 63.0, 36.0, 36.0, 59.0, 33.0, 69.0, 63.0, 47.0, 70.0, 43.0, 67.0, 45.0, 56.0, 46.0, 53.0, 54.0, 52.0, 45.0, 60.0, 67.0, 66.0, 66.0, 51.0, 34.0, 49.0, 40.0, 37.0, 37.0, 32.0, 62.0, 65.0, 52.0, 43.0, 65.0, 69.0, 69.0, 68.0, 44.0, 49.0, 46.0, 50.0, 47.0, 52.0, 53.0, 30.0, 70.0, 56.0, 55.0, 67.0, 67.0, 60.0, 60.0, 71.0, 43.0, 43.0, 38.0, 57.0, 33.0, 45.0, 43.0, 35.0, 35.0, 64.0, 54.0, 44.0, 44.0, 69.0, 47.0, 62.0, 36.0, 54.0, 51.0, 34.0, 42.0, 44.0, 29.0, 69.0, 64.0, 66.0, 68.0, 39.0, 61.0, 35.0, 38.0, 57.0, 57.0, 52.0, 68.0, 30.0, 43.0, 57.0, 33.0, 33.0, 62.0, 46.0, 57.0, 57.0, 37.0, 52.0, 70.0, 64.0, 58.0, 41.0, 56.0, 57.0, 68.0, 57.0, 57.0, 63.0, 48.0, 44.0, 57.0, 67.0, 37.0, 37.0, 63.0, 57.0, 53.0, 49.0, 49.0, 55.0, 43.0, 53.0, 51.0, 41.0, 47.0, 45.0, 55.0, 55.0, 47.0, 59.0, 52.0, 48.0, 48.0, 48.0, 45.0, 43.0, 63.0, 67.0, 67.0, 62.0, 63.0, 45.0, 65.0, 50.0, 49.0, 47.0, 34.0, 60.0, 66.0, 46.0, 53.0, 49.0, 49.0, 46.0, 45.0, 51.0, 76.0, 61.0, 52.0, 65.0, 73.0, 48.0, 48.0, 48.0, 56.0, 31.0, 64.0, 34.0, 64.0, 56.0, 45.0, 37.0, 52.0, 45.0, 46.0, 69.0, 58.0, 77.0, 46.0, 59.0, 70.0, 68.0, 70.0, 69.0, 76.0, 76.0, 50.0, 58.0, 39.0, 39.0, 46.0, 60.0, 38.0, 73.0, 45.0, 45.0, 66.0, 66.0, 54.0, 58.0, 71.0, 52.0, 63.0, 51.0, 51.0, 43.0, 69.0, 43.0, 57.0, 57.0, 57.0, 48.0, 48.0, 55.0, 60.0, 59.0, 41.0, 42.0, 47.0, 47.0, 55.0, 48.0, 55.0, 49.0, 49.0, 62.0, 50.0, 66.0, 58.0, 44.0, 50.0, 41.0, 50.0, 47.0, 47.0, 61.0, 41.0, 49.0, 71.0, 39.0, 63.0, 76.0, 49.0, 58.0, 58.0, 54.0, 39.0, 52.0, 57.0, 57.0, 56.0, 35.0, 59.0, 59.0, 41.0, 50.0, 35.0, 60.0, 60.0, 34.0, 34.0, 75.0, 75.0, 64.0, 51.0, 64.0, 72.0, 58.0, 58.0, 66.0, 66.0, 63.0, 69.0, 47.0, 51.0, 64.0, 38.0, 51.0, 40.0, 44.0, 59.0, 37.0, 53.0, 58.0, 48.0, 70.0, 48.0, 35.0, 57.0, 45.0, 40.0, 43.0, 43.0, 63.0, 70.0, 38.0, 38.0, 36.0, 72.0, 51.0, 56.0, 52.0, 47.0, 57.0, 50.0, 66.0, 57.0, 54.0, 122.0, 74.0, 74.0, 48.0, 48.0, 48.0, 48.0, 71.0, 51.0, 71.0, 53.0, 62.0, 52.0, 55.0, 48.0, 52.0, 37.0, 66.0, 65.0, 56.0, 45.0, 55.0, 45.0, 59.0, 72.0, 67.0, 32.0, 46.0, 36.0, 30.0, 67.0, 46.0, 60.0, 37.0, 58.0, 47.0, 54.0, 55.0, 37.0, 56.0, 62.0, 62.0, 51.0, 51.0, 47.0, 53.0, 68.0, 63.0, 41.0, 51.0, 63.0, 32.0, 32.0, 53.0, 46.0, 45.0, 49.0, 47.0, 71.0, 36.0, 71.0, 71.0, 47.0, 64.0, 47.0, 47.0, 60.0, 60.0, 36.0, 64.0, 58.0, 54.0, 61.0, 69.0, 47.0, 67.0, 45.0, 57.0, 59.0, 66.0, 73.0, 73.0, 58.0, 38.0, 50.0, 78.0, 78.0, 71.0, 54.0, 73.0, 73.0, 64.0, 39.0, 39.0, 46.0, 69.0, 44.0, 56.0, 60.0, 67.0, 49.0, 75.0, 75.0, 53.0, 37.0, 30.0, 30.0, 50.0, 72.0, 46.0, 73.0, 67.0, 70.0, 74.0, 53.0, 43.0, 56.0, 45.0, 69.0, 73.0, 53.0, 64.0, 66.0, 78.0, 50.0, 44.0, 65.0, 54.0, 35.0, 39.0, 34.0, 68.0, 49.0, 62.0, 48.0, 75.0, 63.0, 72.0, 43.0, 72.0, 72.0, 48.0, 51.0, 53.0, 45.0, 72.0, 46.0, 46.0, 53.0, 52.0, 56.0, 56.0, 46.0, 47.0, 45.0, 43.0, 52.0, 52.0, 47.0, 35.0, 37.0, 36.0, 49.0, 50.0, 51.0, 75.0, 71.0, 76.0, 59.0, 61.0, 49.0, 73.0, 69.0, 51.0, 53.0, 71.0, 54.0, 62.0, 57.0, 58.0, 71.0, 71.0, 38.0, 58.0, 65.0, 49.0, 45.0, 73.0, 35.0, 56.0, 52.0, 38.0, 59.0, 56.0, 49.0, 51.0, 78.0, 50.0, 62.0, 38.0, 67.0, 49.0, 52.0, 47.0, 73.0, 54.0, 56.0, 62.0, 47.0, 37.0, 55.0, 66.0, 59.0, 64.0, 80.0, 50.0, 50.0, 48.0, 61.0, 60.0, 71.0, 73.0, 42.0, 62.0, 38.0, 74.0, 52.0, 63.0, 45.0, 48.0, 52.0, 63.0, 50.0, 57.0, 68.0, 68.0, 49.0, 40.0, 54.0, 40.0, 40.0, 65.0, 72.0, 49.0, 52.0, 47.0, 63.0, 50.0, 51.0, 46.0, 48.0, 77.0, 72.0, 62.0, 47.0, 55.0, 58.0, 35.0, 75.0, 75.0, 47.0, 68.0, 59.0, 59.0, 46.0, 74.0, 43.0, 47.0, 49.0, 50.0, 56.0, 51.0, 67.0, 55.0, 63.0, 71.0, 57.0, 33.0, 33.0, 43.0, 47.0, 68.0, 44.0, 67.0, 65.0, 55.0, 63.0, 50.0, 74.0, 49.0, 40.0, 44.0, 56.0, 56.0, 73.0, 81.0, 49.0, 49.0, 43.0, 56.0, 40.0, 54.0, 54.0, 67.0, 58.0, 48.0, 48.0, 47.0, 38.0, 32.0, 61.0, 61.0, 45.0, 52.0, 67.0, 74.0, 61.0, 37.0, 38.0, 51.0, 37.0, 43.0, 61.0, 59.0, 41.0, 34.0, 41.0, 34.0, 32.0, 60.0, 44.0, 42.0, 40.0, 33.0, 50.0, 48.0, 41.0, 45.0, 45.0, 37.0, 45.0, 51.0, 51.0, 53.0, 36.0, 66.0, 44.0, 44.0, 47.0, 39.0, 38.0, 46.0, 40.0, 35.0, 47.0, 56.0, 64.0, 49.0, 42.0, 30.0, 42.0, 61.0, 33.0, 128.0, 46.0, 49.0, 25.0, 40.0, 48.0, 40.0, 40.0, 61.0, 51.0, 51.0, 62.0, 30.0, 31.0, 43.0, 49.0, 62.0, 44.0, 67.0, 46.0, 66.0, 46.0, 61.0, 40.0, 39.0, 49.0, 58.0, 56.0, 46.0, 43.0, 40.0, 71.0, 46.0, 63.0, 43.0, 64.0, 64.0, 43.0, 66.0, 66.0, 46.0, 56.0, 56.0, 48.0, 69.0, 43.0, 41.0, 26.0, 70.0, 70.0, 65.0, 55.0, 42.0, 44.0, 46.0, 46.0, 57.0, 46.0, 43.0, 69.0, 45.0, 69.0, 62.0, 32.0, 56.0, 39.0, 45.0, 43.0, 48.0, 48.0, 54.0, 66.0, 66.0, 57.0, 61.0, 39.0, 26.0, 57.0, 49.0, 63.0, 46.0, 29.0, 48.0, 72.0, 63.0, 45.0, 37.0, 57.0, 43.0, 41.0, 35.0, 42.0, 63.0, 41.0, 65.0, 43.0, 43.0, 50.0, 50.0, 45.0, 54.0, 39.0, 33.0, 32.0, 51.0, 39.0, 39.0, 45.0, 42.0, 36.0, 65.0, 46.0, 32.0, 35.0, 51.0, 40.0, 40.0, 36.0, 52.0, 64.0, 43.0, 54.0, 36.0, 65.0, 58.0, 41.0, 48.0, 56.0, 46.0, 61.0, 59.0, 50.0, 56.0, 56.0, 63.0, 63.0, 33.0, 33.0, 50.0, 48.0, 48.0, 50.0, 35.0, 43.0, 69.0, 47.0, 33.0, 31.0, 43.0, 36.0, 47.0, 47.0, 121.0, 44.0, 42.0, 63.0, 67.0, 55.0, 42.0, 56.0, 61.0, 56.0, 67.0, 48.0, 39.0, 60.0, 44.0, 47.0, 65.0, 44.0, 57.0, 59.0, 59.0, 72.0, 72.0, 72.0, 46.0, 45.0, 45.0, 72.0, 50.0, 75.0, 54.0, 37.0, 72.0, 72.0, 49.0, 49.0, 45.0, 45.0, 61.0, 43.0, 49.0, 65.0, 71.0, 46.0, 53.0, 51.0, 50.0, 69.0, 42.0, 35.0, 50.0, 50.0, 53.0, 72.0, 49.0, 52.0, 55.0, 65.0, 46.0, 39.0, 39.0, 50.0, 29.0, 52.0, 41.0, 38.0, 54.0, 33.0, 61.0, 72.0, 53.0, 38.0, 35.0, 62.0, 61.0, 37.0, 54.0, 51.0, 50.0, 59.0, 46.0, 70.0, 61.0, 44.0, 77.0, 46.0, 50.0, 52.0, 48.0, 35.0, 49.0, 75.0, 75.0, 47.0, 43.0, 50.0, 61.0, 61.0, 69.0, 47.0, 71.0, 53.0, 53.0, 38.0, 67.0, 72.0, 69.0, 45.0, 43.0, 62.0, 63.0, 50.0, 46.0, 65.0, 47.0, 65.0, 65.0, 58.0, 33.0, 50.0, 67.0, 69.0, 40.0, 30.0, 30.0, 58.0, 56.0, 46.0, 62.0, 46.0, 55.0, 58.0, 58.0, 40.0, 48.0, 61.0, 59.0, 32.0, 32.0, 43.0, 50.0, 50.0, 40.0, 49.0, 52.0, 51.0, 74.0, 38.0, 73.0, 56.0, 63.0, 50.0, 56.0, 39.0, 50.0, 51.0, 51.0, 45.0, 39.0, 68.0, 45.0, 43.0, 35.0, 44.0, 63.0, 44.0, 63.0, 45.0, 35.0, 35.0, 60.0, 76.0, 66.0, 39.0, 47.0, 49.0, 29.0, 53.0, 74.0, 46.0, 64.0, 64.0, 51.0, 49.0, 60.0, 60.0, 42.0, 65.0, 65.0, 56.0, 49.0, 58.0, 52.0, 55.0, 68.0, 55.0, 54.0, 44.0, 51.0, 65.0, 52.0, 69.0, 69.0, 74.0, 69.0, 78.0, 39.0, 71.0, 49.0, 56.0, 70.0, 61.0, 66.0, 66.0, 70.0, 52.0, 47.0, 47.0, 40.0, 58.0, 58.0, 37.0, 70.0, 52.0, 68.0, 46.0, 48.0, 56.0, 56.0, 70.0, 65.0, 45.0, 48.0, 64.0, 46.0, 66.0, 66.0, 72.0, 69.0, 49.0, 36.0, 64.0, 46.0, 50.0, 56.0, 53.0, 53.0, 53.0, 38.0, 38.0, 45.0, 55.0, 47.0, 78.0, 68.0, 68.0, 45.0, 45.0, 62.0, 40.0, 48.0, 52.0, 70.0, 34.0, 70.0, 49.0, 66.0, 50.0, 70.0, 70.0, 34.0, 37.0, 51.0, 52.0, 44.0, 66.0, 68.0, 74.0, 36.0, 60.0, 56.0, 56.0, 52.0, 52.0, 48.0, 39.0, 78.0, 67.0, 43.0, 55.0, 57.0, 62.0, 53.0, 42.0, 65.0, 65.0, 66.0, 63.0, 41.0, 55.0, 44.0, 53.0, 52.0, 42.0, 35.0, 49.0, 65.0, 51.0, 73.0, 45.0, 52.0, 59.0, 50.0, 67.0, 45.0, 52.0, 45.0, 70.0, 51.0, 39.0, 65.0, 70.0, 50.0, 50.0, 65.0, 70.0, 61.0, 64.0, 46.0, 46.0, 46.0, 32.0, 48.0, 59.0, 65.0, 59.0, 36.0, 65.0, 65.0, 54.0, 45.0, 50.0, 53.0, 45.0, 77.0, 63.0, 55.0, 72.0, 49.0, 67.0, 63.0, 65.0, 61.0, 57.0, 59.0, 57.0, 61.0, 34.0, 56.0, 60.0, 56.0, 56.0, 31.0, 45.0, 34.0, 41.0, 51.0, 61.0, 61.0, 68.0, 53.0, 42.0, 47.0, 35.0, 35.0, 31.0, 48.0, 29.0, 29.0, 48.0, 37.0, 43.0, 46.0, 35.0, 42.0, 69.0, 41.0, 45.0, 34.0, 49.0, 32.0, 49.0, 29.0, 48.0, 42.0, 33.0, 40.0, 55.0, 55.0, 52.0, 74.0, 36.0, 30.0, 58.0, 43.0, 43.0, 39.0, 45.0, 29.0, 42.0, 42.0, 56.0, 41.0, 31.0, 63.0, 61.0, 60.0, 60.0, 25.0, 32.0, 35.0, 70.0, 40.0, 34.0, 42.0, 42.0], \"y0\": \" \", \"yaxis\": \"y6\"}, {\"alignmentgroup\": \"True\", \"hoverlabel\": {\"namelength\": 0}, \"hovertemplate\": \"variable=Spending<br>value=%{y}\", \"legendgroup\": \"variable=Spending\", \"marker\": {\"color\": \"#00cc96\"}, \"name\": \"variable=Spending\", \"notched\": false, \"offsetgroup\": \"variable=Spending\", \"orientation\": \"v\", \"showlegend\": true, \"type\": \"box\", \"x0\": \" \", \"xaxis\": \"x3\", \"y\": [1190.0, 577.0, 251.0, 11.0, 91.0, 96.0, 72.0, 359.0, 174.0, 174.0, 704.0, 684.0, 684.0, 726.0, 1638.0, 43.0, 1008.0, 48.0, 165.0, 1574.0, 39.0, 497.0, 371.0, 1588.0, 83.0, 926.0, 893.0, 36.0, 106.0, 1410.0, 1040.0, 117.0, 17.0, 1091.0, 1091.0, 372.0, 16.0, 44.0, 37.0, 162.0, 17.0, 758.0, 1395.0, 1173.0, 473.0, 148.0, 188.0, 147.0, 868.0, 757.0, 653.0, 1400.0, 78.0, 78.0, 467.0, 306.0, 257.0, 1338.0, 1338.0, 22.0, 22.0, 1782.0, 72.0, 68.0, 16.0, 1112.0, 1001.0, 57.0, 1518.0, 1789.0, 943.0, 25.0, 25.0, 1376.0, 393.0, 502.0, 1364.0, 1650.0, 1738.0, 936.0, 48.0, 252.0, 252.0, 24.0, 54.0, 20.0, 1627.0, 797.0, 530.0, 470.0, 407.0, 1016.0, 318.0, 318.0, 316.0, 1869.0, 311.0, 50.0, 21.0, 49.0, 1899.0, 654.0, 746.0, 138.0, 692.0, 1115.0, 365.0, 182.0, 725.0, 1449.0, 463.0, 414.0, 500.0, 282.0, 1381.0, 1442.0, 1555.0, 1555.0, 1378.0, 602.0, 139.0, 19.0, 67.0, 76.0, 76.0, 515.0, 221.0, 241.0, 215.0, 112.0, 112.0, 792.0, 89.0, 89.0, 733.0, 1334.0, 1065.0, 1258.0, 17.0, 800.0, 32.0, 1587.0, 1401.0, 81.0, 235.0, 398.0, 981.0, 1730.0, 312.0, 1428.0, 37.0, 37.0, 15.0, 656.0, 2130.0, 841.0, 568.0, 1736.0, 14.0, 1581.0, 66.0, 77.0, 324.0, 62.0, 1833.0, 63.0, 187.0, 85.0, 85.0, 85.0, 92.0, 49.0, 63.0, 2349.0, 86.0, 294.0, 56.0, 357.0, 1443.0, 17.0, 68.0, 41.0, 17.0, 1415.0, 368.0, 836.0, 930.0, 145.0, 1804.0, 1147.0, 1101.0, 778.0, 778.0, 17.0, 1179.0, 434.0, 1674.0, 1188.0, 186.0, 612.0, 45.0, 1370.0, 1478.0, 1062.0, 409.0, 44.0, 561.0, 1722.0, 69.0, 637.0, 17.0, 38.0, 71.0, 6.0, 306.0, 486.0, 1757.0, 134.0, 134.0, 1270.0, 733.0, 253.0, 317.0, 317.0, 1895.0, 395.0, 23.0, 882.0, 1213.0, 1461.0, 638.0, 907.0, 907.0, 1662.0, 28.0, 971.0, 246.0, 999.0, 43.0, 1472.0, 81.0, 732.0, 22.0, 227.0, 227.0, 1189.0, 32.0, 894.0, 62.0, 639.0, 78.0, 81.0, 680.0, 1477.0, 20.0, 31.0, 31.0, 777.0, 777.0, 637.0, 1001.0, 1001.0, 45.0, 96.0, 141.0, 731.0, 1724.0, 1428.0, 1493.0, 1171.0, 264.0, 1180.0, 1180.0, 58.0, 1665.0, 11.0, 614.0, 53.0, 22.0, 396.0, 776.0, 18.0, 140.0, 131.0, 884.0, 369.0, 369.0, 132.0, 296.0, 1338.0, 1198.0, 1198.0, 144.0, 392.0, 1068.0, 421.0, 114.0, 42.0, 137.0, 137.0, 982.0, 1103.0, 1932.0, 1134.0, 1188.0, 44.0, 61.0, 57.0, 71.0, 37.0, 37.0, 405.0, 599.0, 1525.0, 53.0, 43.0, 490.0, 1825.0, 473.0, 16.0, 57.0, 507.0, 1004.0, 1138.0, 1076.0, 236.0, 46.0, 1149.0, 1149.0, 863.0, 343.0, 1471.0, 1088.0, 1990.0, 1210.0, 115.0, 92.0, 45.0, 45.0, 761.0, 960.0, 1453.0, 266.0, 99.0, 258.0, 258.0, 87.0, 447.0, 1772.0, 1093.0, 433.0, 433.0, 156.0, 156.0, 156.0, 377.0, 2194.0, 401.0, 2157.0, 350.0, 29.0, 21.0, 15.0, 145.0, 42.0, 120.0, 1635.0, 1655.0, 135.0, 1991.0, 2116.0, 41.0, 161.0, 1260.0, 460.0, 575.0, 1490.0, 433.0, 1919.0, 564.0, 564.0, 1682.0, 28.0, 1474.0, 504.0, 44.0, 44.0, 1029.0, 61.0, 44.0, 55.0, 343.0, 28.0, 1073.0, 608.0, 608.0, 1155.0, 590.0, 106.0, 1097.0, 1456.0, 2211.0, 16.0, 527.0, 1778.0, 815.0, 861.0, 41.0, 210.0, 1121.0, 55.0, 362.0, 46.0, 1724.0, 61.0, 877.0, 299.0, 19.0, 28.0, 33.0, 270.0, 1194.0, 393.0, 1923.0, 63.0, 1102.0, 201.0, 443.0, 27.0, 670.0, 84.0, 820.0, 315.0, 99.0, 46.0, 946.0, 1245.0, 48.0, 299.0, 25.0, 25.0, 219.0, 60.0, 147.0, 468.0, 1507.0, 1253.0, 100.0, 48.0, 15.0, 15.0, 38.0, 1690.0, 1690.0, 973.0, 330.0, 27.0, 2209.0, 454.0, 176.0, 873.0, 506.0, 316.0, 1795.0, 29.0, 78.0, 1623.0, 1730.0, 1336.0, 684.0, 581.0, 44.0, 273.0, 2009.0, 55.0, 21.0, 1478.0, 44.0, 24.0, 596.0, 416.0, 1575.0, 18.0, 222.0, 68.0, 49.0, 688.0, 1280.0, 244.0, 586.0, 48.0, 263.0, 825.0, 50.0, 1371.0, 1371.0, 31.0, 1677.0, 120.0, 636.0, 1117.0, 969.0, 969.0, 2486.0, 203.0, 1341.0, 564.0, 189.0, 1504.0, 209.0, 981.0, 488.0, 662.0, 1495.0, 1495.0, 231.0, 805.0, 69.0, 69.0, 461.0, 1367.0, 1388.0, 68.0, 93.0, 152.0, 612.0, 38.0, 49.0, 358.0, 615.0, 310.0, 1366.0, 1366.0, 1191.0, 1135.0, 1511.0, 932.0, 108.0, 641.0, 57.0, 56.0, 1572.0, 18.0, 22.0, 46.0, 50.0, 1283.0, 802.0, 415.0, 211.0, 77.0, 730.0, 40.0, 40.0, 535.0, 158.0, 25.0, 901.0, 1043.0, 102.0, 915.0, 167.0, 240.0, 1106.0, 22.0, 358.0, 20.0, 928.0, 928.0, 95.0, 311.0, 37.0, 37.0, 992.0, 33.0, 976.0, 976.0, 129.0, 279.0, 74.0, 96.0, 612.0, 28.0, 47.0, 270.0, 939.0, 1515.0, 415.0, 26.0, 1020.0, 62.0, 57.0, 265.0, 606.0, 133.0, 189.0, 354.0, 1617.0, 868.0, 769.0, 769.0, 94.0, 57.0, 119.0, 960.0, 94.0, 990.0, 486.0, 74.0, 1580.0, 72.0, 384.0, 1792.0, 45.0, 41.0, 973.0, 96.0, 48.0, 114.0, 377.0, 586.0, 586.0, 1004.0, 279.0, 1440.0, 1440.0, 1047.0, 424.0, 424.0, 34.0, 34.0, 662.0, 1237.0, 5.0, 275.0, 1286.0, 910.0, 957.0, 114.0, 436.0, 436.0, 32.0, 882.0, 1424.0, 46.0, 46.0, 606.0, 606.0, 1574.0, 1574.0, 1574.0, 79.0, 25.0, 65.0, 36.0, 798.0, 940.0, 1179.0, 1734.0, 545.0, 1968.0, 1216.0, 1617.0, 20.0, 823.0, 102.0, 102.0, 779.0, 1169.0, 1141.0, 1336.0, 1295.0, 926.0, 1211.0, 70.0, 1544.0, 1429.0, 31.0, 31.0, 995.0, 832.0, 1957.0, 1957.0, 99.0, 28.0, 1026.0, 1327.0, 928.0, 290.0, 1464.0, 1533.0, 18.0, 1528.0, 1380.0, 2524.0, 2302.0, 2302.0, 209.0, 72.0, 170.0, 937.0, 178.0, 1150.0, 1150.0, 259.0, 546.0, 519.0, 59.0, 1174.0, 1174.0, 1174.0, 55.0, 1231.0, 1348.0, 561.0, 296.0, 107.0, 42.0, 61.0, 8.0, 23.0, 23.0, 59.0, 8.0, 960.0, 1168.0, 42.0, 22.0, 40.0, 260.0, 55.0, 1867.0, 1079.0, 313.0, 693.0, 1127.0, 1127.0, 54.0, 267.0, 1603.0, 1198.0, 25.0, 727.0, 758.0, 1089.0, 52.0, 1052.0, 1228.0, 52.0, 52.0, 494.0, 1376.0, 570.0, 450.0, 66.0, 899.0, 22.0, 967.0, 61.0, 1600.0, 66.0, 339.0, 175.0, 441.0, 1502.0, 43.0, 235.0, 794.0, 13.0, 497.0, 497.0, 968.0, 968.0, 1097.0, 255.0, 1611.0, 103.0, 1335.0, 444.0, 444.0, 1135.0, 254.0, 1366.0, 1366.0, 704.0, 805.0, 1125.0, 45.0, 1085.0, 1574.0, 1331.0, 177.0, 401.0, 67.0, 813.0, 312.0, 39.0, 70.0, 40.0, 2283.0, 211.0, 137.0, 137.0, 868.0, 41.0, 27.0, 69.0, 984.0, 34.0, 134.0, 20.0, 1375.0, 236.0, 91.0, 976.0, 1722.0, 94.0, 606.0, 301.0, 1045.0, 957.0, 858.0, 1385.0, 83.0, 1727.0, 895.0, 275.0, 312.0, 137.0, 137.0, 22.0, 22.0, 2013.0, 162.0, 162.0, 1390.0, 1382.0, 499.0, 1691.0, 576.0, 34.0, 233.0, 26.0, 26.0, 70.0, 1572.0, 34.0, 449.0, 36.0, 22.0, 65.0, 54.0, 68.0, 1187.0, 1526.0, 677.0, 191.0, 42.0, 70.0, 79.0, 902.0, 23.0, 119.0, 945.0, 39.0, 1157.0, 1157.0, 42.0, 20.0, 1185.0, 99.0, 60.0, 60.0, 60.0, 112.0, 1148.0, 41.0, 125.0, 274.0, 974.0, 1862.0, 1862.0, 16.0, 57.0, 664.0, 1067.0, 2047.0, 630.0, 1005.0, 1005.0, 1722.0, 482.0, 194.0, 223.0, 195.0, 1151.0, 1941.0, 23.0, 1156.0, 1947.0, 58.0, 68.0, 81.0, 1065.0, 67.0, 199.0, 1615.0, 467.0, 1080.0, 6.0, 745.0, 470.0, 48.0, 30.0, 30.0, 1870.0, 315.0, 2074.0, 1761.0, 84.0, 84.0, 34.0, 1102.0, 414.0, 1600.0, 21.0, 84.0, 51.0, 97.0, 1272.0, 11.0, 48.0, 902.0, 88.0, 305.0, 163.0, 545.0, 43.0, 43.0, 892.0, 1073.0, 597.0, 766.0, 819.0, 819.0, 1193.0, 101.0, 89.0, 89.0, 122.0, 1131.0, 1103.0, 257.0, 257.0, 938.0, 854.0, 576.0, 576.0, 1676.0, 1033.0, 1033.0, 15.0, 1157.0, 1918.0, 715.0, 13.0, 1910.0, 58.0, 542.0, 55.0, 53.0, 75.0, 60.0, 25.0, 16.0, 382.0, 165.0, 1379.0, 1064.0, 1064.0, 1146.0, 15.0, 728.0, 708.0, 653.0, 1027.0, 1250.0, 1921.0, 180.0, 2153.0, 45.0, 165.0, 165.0, 320.0, 53.0, 304.0, 310.0, 373.0, 637.0, 849.0, 16.0, 20.0, 448.0, 1596.0, 231.0, 37.0, 75.0, 1956.0, 2006.0, 869.0, 242.0, 55.0, 1562.0, 369.0, 348.0, 1241.0, 121.0, 1479.0, 22.0, 917.0, 525.0, 2279.0, 44.0, 18.0, 833.0, 833.0, 47.0, 50.0, 860.0, 270.0, 95.0, 735.0, 51.0, 55.0, 692.0, 993.0, 1658.0, 1597.0, 54.0, 54.0, 289.0, 289.0, 64.0, 906.0, 1149.0, 1003.0, 347.0, 91.0, 36.0, 41.0, 1443.0, 1443.0, 879.0, 1815.0, 78.0, 1423.0, 160.0, 67.0, 55.0, 24.0, 39.0, 84.0, 15.0, 1305.0, 1109.0, 680.0, 694.0, 835.0, 450.0, 1677.0, 15.0, 56.0, 443.0, 1455.0, 44.0, 44.0, 882.0, 655.0, 730.0, 1192.0, 793.0, 1538.0, 1538.0, 10.0, 237.0, 125.0, 125.0, 98.0, 460.0, 124.0, 363.0, 725.0, 53.0, 475.0, 1459.0, 54.0, 902.0, 184.0, 1638.0, 30.0, 52.0, 1049.0, 1616.0, 79.0, 193.0, 1009.0, 322.0, 2088.0, 1631.0, 1631.0, 691.0, 69.0, 1338.0, 1392.0, 1633.0, 270.0, 1179.0, 65.0, 65.0, 801.0, 953.0, 37.0, 67.0, 67.0, 734.0, 309.0, 1383.0, 1192.0, 544.0, 544.0, 1156.0, 22.0, 404.0, 45.0, 272.0, 8.0, 446.0, 1901.0, 1688.0, 1485.0, 231.0, 88.0, 73.0, 73.0, 2043.0, 2092.0, 714.0, 1196.0, 1123.0, 1044.0, 455.0, 685.0, 424.0, 424.0, 424.0, 1282.0, 1711.0, 603.0, 1658.0, 32.0, 20.0, 1416.0, 153.0, 1670.0, 877.0, 557.0, 233.0, 1958.0, 1167.0, 811.0, 1766.0, 606.0, 1099.0, 1039.0, 302.0, 145.0, 277.0, 72.0, 331.0, 1919.0, 1919.0, 1293.0, 9.0, 63.0, 183.0, 1034.0, 1034.0, 446.0, 734.0, 702.0, 601.0, 269.0, 417.0, 2092.0, 495.0, 1052.0, 86.0, 63.0, 1908.0, 463.0, 68.0, 68.0, 48.0, 48.0, 486.0, 1377.0, 88.0, 1808.0, 125.0, 101.0, 101.0, 12.0, 102.0, 928.0, 42.0, 42.0, 93.0, 736.0, 1743.0, 1241.0, 797.0, 42.0, 664.0, 943.0, 46.0, 46.0, 268.0, 551.0, 70.0, 13.0, 324.0, 1291.0, 1706.0, 20.0, 62.0, 62.0, 1482.0, 1717.0, 34.0, 506.0, 506.0, 121.0, 160.0, 155.0, 155.0, 20.0, 38.0, 199.0, 404.0, 404.0, 653.0, 653.0, 1315.0, 1315.0, 46.0, 679.0, 17.0, 11.0, 1198.0, 1198.0, 46.0, 46.0, 135.0, 1020.0, 20.0, 87.0, 1019.0, 1727.0, 279.0, 1298.0, 1230.0, 1686.0, 1323.0, 813.0, 9.0, 401.0, 966.0, 300.0, 925.0, 17.0, 107.0, 1021.0, 25.0, 25.0, 605.0, 278.0, 410.0, 410.0, 169.0, 57.0, 57.0, 916.0, 1064.0, 33.0, 895.0, 1092.0, 1396.0, 68.0, 13.0, 1853.0, 1095.0, 1095.0, 49.0, 49.0, 49.0, 49.0, 1130.0, 913.0, 38.0, 81.0, 1307.0, 636.0, 1029.0, 413.0, 17.0, 406.0, 41.0, 528.0, 529.0, 77.0, 75.0, 65.0, 57.0, 467.0, 1319.0, 1346.0, 35.0, 21.0, 1820.0, 172.0, 904.0, 1307.0, 81.0, 793.0, 1113.0, 542.0, 35.0, 16.0, 1501.0, 55.0, 116.0, 1586.0, 1586.0, 405.0, 34.0, 152.0, 62.0, 185.0, 1829.0, 963.0, 71.0, 71.0, 845.0, 484.0, 39.0, 382.0, 871.0, 265.0, 28.0, 138.0, 138.0, 218.0, 361.0, 23.0, 23.0, 1101.0, 1101.0, 265.0, 38.0, 152.0, 146.0, 656.0, 1038.0, 401.0, 297.0, 53.0, 279.0, 725.0, 45.0, 425.0, 425.0, 17.0, 10.0, 131.0, 902.0, 902.0, 633.0, 95.0, 1234.0, 1234.0, 49.0, 1244.0, 1244.0, 170.0, 1165.0, 1240.0, 122.0, 1232.0, 1662.0, 1226.0, 444.0, 444.0, 149.0, 1512.0, 1598.0, 1598.0, 235.0, 2231.0, 1835.0, 1348.0, 825.0, 1507.0, 32.0, 1173.0, 795.0, 1305.0, 1277.0, 1021.0, 62.0, 38.0, 729.0, 731.0, 1060.0, 1086.0, 269.0, 1566.0, 772.0, 1822.0, 159.0, 1250.0, 480.0, 19.0, 106.0, 1958.0, 397.0, 496.0, 775.0, 1401.0, 976.0, 976.0, 10.0, 39.0, 518.0, 116.0, 972.0, 990.0, 990.0, 77.0, 244.0, 93.0, 1536.0, 1511.0, 215.0, 63.0, 20.0, 1182.0, 1182.0, 534.0, 17.0, 1828.0, 1445.0, 31.0, 1702.0, 2018.0, 634.0, 49.0, 1120.0, 578.0, 411.0, 542.0, 594.0, 1680.0, 184.0, 264.0, 67.0, 42.0, 47.0, 1750.0, 39.0, 507.0, 507.0, 2034.0, 1143.0, 661.0, 988.0, 144.0, 156.0, 1497.0, 38.0, 971.0, 746.0, 929.0, 21.0, 1753.0, 418.0, 1242.0, 526.0, 283.0, 1923.0, 1650.0, 1536.0, 882.0, 461.0, 284.0, 71.0, 38.0, 1215.0, 1797.0, 44.0, 1453.0, 811.0, 86.0, 137.0, 2119.0, 46.0, 46.0, 16.0, 1323.0, 1034.0, 63.0, 1318.0, 41.0, 186.0, 27.0, 930.0, 792.0, 523.0, 191.0, 263.0, 42.0, 90.0, 1028.0, 1048.0, 18.0, 1314.0, 1139.0, 906.0, 57.0, 47.0, 47.0, 1161.0, 2440.0, 496.0, 1288.0, 91.0, 1482.0, 1816.0, 43.0, 149.0, 660.0, 682.0, 8.0, 99.0, 1230.0, 223.0, 770.0, 40.0, 209.0, 209.0, 63.0, 263.0, 1313.0, 1313.0, 661.0, 1798.0, 90.0, 1264.0, 1497.0, 122.0, 1117.0, 45.0, 1685.0, 747.0, 1158.0, 40.0, 1701.0, 2126.0, 2126.0, 351.0, 133.0, 428.0, 15.0, 411.0, 1483.0, 416.0, 449.0, 890.0, 414.0, 530.0, 422.0, 103.0, 1672.0, 1672.0, 948.0, 157.0, 2114.0, 2114.0, 49.0, 388.0, 216.0, 1529.0, 1529.0, 767.0, 48.0, 1608.0, 264.0, 94.0, 1779.0, 1282.0, 493.0, 493.0, 689.0, 1078.0, 1215.0, 1208.0, 72.0, 461.0, 1104.0, 56.0, 51.0, 17.0, 1066.0, 1588.0, 48.0, 43.0, 809.0, 80.0, 1062.0, 1072.0, 70.0, 53.0, 66.0, 92.0, 63.0, 76.0, 50.0, 22.0, 22.0, 52.0, 18.0, 889.0, 889.0, 75.0, 172.0, 820.0, 797.0, 73.0, 51.0, 763.0, 66.0, 14.0, 57.0, 30.0, 562.0, 1071.0, 40.0, 817.0, 367.0, 82.0, 1274.0, 1152.0, 32.0, 22.0, 78.0, 694.0, 122.0, 724.0, 109.0, 823.0, 823.0, 93.0, 64.0, 64.0, 30.0, 1345.0, 710.0, 1006.0, 429.0, 491.0, 2257.0, 350.0, 72.0, 521.0, 995.0, 1263.0, 32.0, 467.0, 19.0, 576.0, 641.0, 1513.0, 55.0, 182.0, 939.0, 38.0, 563.0, 57.0, 1853.0, 1853.0, 63.0, 587.0, 587.0, 38.0, 1363.0, 1363.0, 690.0, 1168.0, 177.0, 46.0, 1435.0, 978.0, 978.0, 728.0, 2059.0, 48.0, 54.0, 23.0, 23.0, 21.0, 69.0, 33.0, 232.0, 1159.0, 1120.0, 1576.0, 43.0, 1826.0, 2052.0, 78.0, 1679.0, 38.0, 38.0, 47.0, 981.0, 981.0, 1211.0, 23.0, 683.0, 1365.0, 174.0, 909.0, 61.0, 369.0, 961.0, 44.0, 1565.0, 271.0, 1315.0, 30.0, 622.0, 109.0, 96.0, 756.0, 1250.0, 1383.0, 331.0, 177.0, 577.0, 46.0, 198.0, 198.0, 81.0, 1082.0, 79.0, 57.0, 274.0, 1199.0, 1289.0, 1289.0, 13.0, 48.0, 76.0, 64.0, 521.0, 341.0, 55.0, 65.0, 31.0, 55.0, 37.0, 78.0, 789.0, 1149.0, 81.0, 133.0, 732.0, 54.0, 431.0, 79.0, 559.0, 1048.0, 91.0, 1382.0, 1229.0, 183.0, 183.0, 210.0, 210.0, 103.0, 114.0, 1319.0, 211.0, 211.0, 25.0, 36.0, 128.0, 205.0, 326.0, 269.0, 41.0, 635.0, 100.0, 34.0, 34.0, 65.0, 55.0, 222.0, 13.0, 335.0, 393.0, 92.0, 122.0, 20.0, 965.0, 1253.0, 41.0, 373.0, 32.0, 24.0, 400.0, 789.0, 441.0, 1693.0, 140.0, 140.0, 121.0, 1178.0, 1178.0, 30.0, 1053.0, 1053.0, 1008.0, 751.0, 1196.0, 1128.0, 35.0, 874.0, 874.0, 92.0, 92.0, 31.0, 31.0, 326.0, 1281.0, 325.0, 843.0, 556.0, 28.0, 396.0, 235.0, 167.0, 275.0, 69.0, 47.0, 59.0, 59.0, 492.0, 22.0, 178.0, 1161.0, 180.0, 1226.0, 69.0, 1438.0, 1438.0, 795.0, 241.0, 64.0, 1754.0, 129.0, 80.0, 1427.0, 1643.0, 467.0, 103.0, 60.0, 213.0, 835.0, 237.0, 66.0, 716.0, 2087.0, 59.0, 1678.0, 37.0, 485.0, 850.0, 518.0, 1902.0, 31.0, 44.0, 30.0, 171.0, 2091.0, 907.0, 1033.0, 1033.0, 541.0, 629.0, 322.0, 2008.0, 2008.0, 1175.0, 816.0, 45.0, 187.0, 187.0, 426.0, 285.0, 266.0, 18.0, 123.0, 844.0, 15.0, 54.0, 68.0, 2086.0, 1220.0, 1435.0, 97.0, 2352.0, 608.0, 1621.0, 367.0, 198.0, 334.0, 818.0, 2525.0, 2525.0, 795.0, 749.0, 224.0, 1526.0, 173.0, 90.0, 825.0, 51.0, 19.0, 21.0, 61.0, 315.0, 30.0, 30.0, 989.0, 131.0, 131.0, 573.0, 1890.0, 292.0, 1812.0, 711.0, 1644.0, 1930.0, 395.0, 397.0, 59.0, 1012.0, 12.0, 22.0, 317.0, 727.0, 45.0, 44.0, 794.0, 1027.0, 1371.0, 52.0, 1092.0, 195.0, 26.0, 632.0, 1508.0, 100.0, 100.0, 1213.0, 1612.0, 71.0, 23.0, 133.0, 385.0, 2077.0, 63.0, 2217.0, 2089.0, 1169.0, 1169.0, 151.0, 642.0, 964.0, 964.0, 46.0, 46.0, 46.0, 903.0, 106.0, 293.0, 139.0, 71.0, 90.0, 610.0, 1893.0, 493.0, 29.0, 450.0, 721.0, 35.0, 169.0, 1105.0, 310.0, 1735.0, 79.0, 1477.0, 54.0, 353.0, 65.0, 43.0, 1957.0, 222.0, 406.0, 34.0, 61.0, 396.0, 62.0, 318.0, 318.0, 27.0, 143.0, 1531.0, 459.0, 64.0, 70.0, 411.0, 411.0, 11.0, 764.0, 2053.0, 401.0, 438.0, 436.0, 72.0, 72.0, 390.0, 1374.0, 380.0, 30.0, 1084.0, 405.0, 595.0, 562.0, 908.0, 908.0, 908.0, 37.0, 37.0, 1931.0, 127.0, 928.0, 900.0, 660.0, 660.0, 458.0, 458.0, 1910.0, 76.0, 332.0, 95.0, 957.0, 217.0, 92.0, 32.0, 1334.0, 1217.0, 319.0, 319.0, 1319.0, 265.0, 1049.0, 914.0, 442.0, 860.0, 1024.0, 2252.0, 415.0, 611.0, 311.0, 311.0, 268.0, 946.0, 747.0, 10.0, 1564.0, 185.0, 67.0, 129.0, 900.0, 1924.0, 55.0, 54.0, 1540.0, 1540.0, 43.0, 1143.0, 834.0, 66.0, 76.0, 787.0, 1013.0, 50.0, 10.0, 2346.0, 130.0, 573.0, 1615.0, 507.0, 1461.0, 240.0, 63.0, 207.0, 54.0, 20.0, 860.0, 103.0, 275.0, 1804.0, 227.0, 185.0, 1564.0, 1564.0, 32.0, 1695.0, 1001.0, 1042.0, 120.0, 120.0, 120.0, 2069.0, 985.0, 574.0, 685.0, 663.0, 53.0, 859.0, 26.0, 25.0, 84.0, 174.0, 35.0, 16.0, 266.0, 270.0, 122.0, 1782.0, 192.0, 437.0, 1633.0, 1152.0, 225.0, 546.0, 1573.0, 1269.0, 747.0, 397.0, 1478.0, 126.0, 35.0, 35.0, 1092.0, 162.0, 1651.0, 51.0, 1631.0, 47.0, 47.0, 859.0, 76.0, 467.0, 50.0, 57.0, 57.0, 263.0, 103.0, 62.0, 29.0, 18.0, 21.0, 69.0, 45.0, 101.0, 36.0, 29.0, 74.0, 29.0, 59.0, 46.0, 18.0, 75.0, 64.0, 37.0, 38.0, 58.0, 102.0, 96.0, 96.0, 26.0, 28.0, 24.0, 14.0, 43.0, 80.0, 80.0, 24.0, 61.0, 119.0, 47.0, 75.0, 54.0, 103.0, 106.0, 88.0, 102.0, 43.0, 43.0, 16.0, 32.0, 66.0, 434.0, 839.0, 80.0, 29.0, 29.0], \"y0\": \" \", \"yaxis\": \"y3\"}, {\"alignmentgroup\": \"True\", \"hoverlabel\": {\"namelength\": 0}, \"hovertemplate\": \"variable=Children<br>value=%{y}\", \"legendgroup\": \"variable=Children\", \"marker\": {\"color\": \"#ab63fa\"}, \"name\": \"variable=Children\", \"notched\": false, \"offsetgroup\": \"variable=Children\", \"orientation\": \"v\", \"showlegend\": true, \"type\": \"box\", \"x0\": \" \", \"xaxis\": \"x4\", \"y\": [0.0, 0.0, 1.0, 2.0, 1.0, 1.0, 0.0, 1.0, 2.0, 2.0, 1.0, 2.0, 2.0, 0.0, 0.0, 0.0, 1.0, 1.0, 1.0, 0.0, 1.0, 1.0, 1.0, 0.0, 2.0, 0.0, 1.0, 1.0, 1.0, 1.0, 0.0, 2.0, 0.0, 0.0, 0.0, 1.0, 3.0, 2.0, 1.0, 1.0, 2.0, 1.0, 1.0, 0.0, 1.0, 2.0, 1.0, 2.0, 1.0, 1.0, 1.0, 1.0, 1.0, 1.0, 0.0, 1.0, 2.0, 1.0, 1.0, 1.0, 1.0, 0.0, 1.0, 1.0, 1.0, 0.0, 1.0, 2.0, 1.0, 0.0, 1.0, 2.0, 2.0, 0.0, 1.0, 1.0, 0.0, 0.0, 0.0, 1.0, 1.0, 2.0, 2.0, 1.0, 1.0, 3.0, 0.0, 1.0, 1.0, 1.0, 1.0, 1.0, 2.0, 2.0, 2.0, 0.0, 1.0, 2.0, 2.0, 1.0, 0.0, 2.0, 0.0, 2.0, 0.0, 1.0, 1.0, 2.0, 0.0, 0.0, 1.0, 1.0, 2.0, 3.0, 0.0, 0.0, 0.0, 0.0, 0.0, 1.0, 0.0, 1.0, 1.0, 2.0, 2.0, 2.0, 1.0, 1.0, 1.0, 1.0, 1.0, 1.0, 1.0, 1.0, 1.0, 0.0, 1.0, 0.0, 0.0, 1.0, 1.0, 0.0, 0.0, 0.0, 2.0, 1.0, 0.0, 0.0, 1.0, 0.0, 1.0, 1.0, 1.0, 2.0, 0.0, 1.0, 1.0, 0.0, 0.0, 0.0, 0.0, 1.0, 0.0, 1.0, 0.0, 1.0, 2.0, 0.0, 0.0, 0.0, 2.0, 0.0, 1.0, 0.0, 1.0, 2.0, 1.0, 1.0, 1.0, 1.0, 1.0, 2.0, 1.0, 0.0, 1.0, 0.0, 0.0, 1.0, 1.0, 1.0, 0.0, 0.0, 0.0, 1.0, 0.0, 1.0, 0.0, 0.0, 2.0, 2.0, 2.0, 0.0, 0.0, 0.0, 0.0, 1.0, 1.0, 0.0, 0.0, 1.0, 2.0, 2.0, 1.0, 0.0, 1.0, 1.0, 0.0, 1.0, 1.0, 0.0, 2.0, 2.0, 0.0, 0.0, 0.0, 1.0, 2.0, 1.0, 1.0, 0.0, 1.0, 1.0, 1.0, 0.0, 1.0, 1.0, 1.0, 0.0, 1.0, 2.0, 2.0, 1.0, 1.0, 1.0, 1.0, 0.0, 1.0, 0.0, 1.0, 1.0, 1.0, 0.0, 1.0, 1.0, 1.0, 2.0, 2.0, 0.0, 0.0, 1.0, 1.0, 1.0, 1.0, 2.0, 0.0, 1.0, 0.0, 0.0, 0.0, 1.0, 2.0, 1.0, 1.0, 1.0, 0.0, 2.0, 2.0, 1.0, 1.0, 3.0, 0.0, 1.0, 2.0, 1.0, 1.0, 1.0, 1.0, 1.0, 1.0, 1.0, 0.0, 0.0, 1.0, 1.0, 1.0, 0.0, 2.0, 1.0, 0.0, 0.0, 1.0, 1.0, 0.0, 0.0, 1.0, 1.0, 1.0, 1.0, 1.0, 3.0, 3.0, 1.0, 1.0, 1.0, 2.0, 2.0, 2.0, 1.0, 2.0, 0.0, 1.0, 1.0, 0.0, 1.0, 0.0, 1.0, 0.0, 0.0, 0.0, 1.0, 0.0, 1.0, 1.0, 0.0, 0.0, 1.0, 1.0, 1.0, 1.0, 1.0, 0.0, 1.0, 1.0, 1.0, 2.0, 2.0, 2.0, 2.0, 0.0, 0.0, 2.0, 2.0, 1.0, 1.0, 1.0, 1.0, 1.0, 1.0, 0.0, 1.0, 1.0, 2.0, 3.0, 1.0, 2.0, 1.0, 0.0, 0.0, 1.0, 0.0, 0.0, 1.0, 2.0, 1.0, 1.0, 1.0, 1.0, 1.0, 0.0, 2.0, 2.0, 0.0, 2.0, 0.0, 1.0, 2.0, 2.0, 1.0, 3.0, 2.0, 2.0, 1.0, 1.0, 1.0, 1.0, 1.0, 2.0, 1.0, 3.0, 0.0, 0.0, 0.0, 1.0, 2.0, 0.0, 1.0, 1.0, 2.0, 1.0, 1.0, 1.0, 1.0, 0.0, 0.0, 1.0, 2.0, 1.0, 0.0, 1.0, 1.0, 2.0, 1.0, 0.0, 0.0, 2.0, 1.0, 1.0, 1.0, 2.0, 1.0, 1.0, 2.0, 2.0, 2.0, 0.0, 2.0, 1.0, 1.0, 0.0, 1.0, 1.0, 1.0, 1.0, 1.0, 1.0, 0.0, 0.0, 0.0, 2.0, 1.0, 1.0, 1.0, 1.0, 1.0, 1.0, 1.0, 1.0, 0.0, 1.0, 1.0, 1.0, 1.0, 0.0, 0.0, 2.0, 1.0, 0.0, 1.0, 0.0, 1.0, 1.0, 1.0, 1.0, 0.0, 1.0, 1.0, 1.0, 1.0, 1.0, 0.0, 1.0, 1.0, 2.0, 0.0, 2.0, 2.0, 1.0, 0.0, 1.0, 1.0, 1.0, 2.0, 0.0, 1.0, 1.0, 1.0, 2.0, 0.0, 1.0, 0.0, 0.0, 1.0, 1.0, 0.0, 1.0, 1.0, 2.0, 1.0, 1.0, 1.0, 1.0, 1.0, 1.0, 0.0, 0.0, 2.0, 1.0, 2.0, 2.0, 1.0, 0.0, 1.0, 1.0, 1.0, 2.0, 1.0, 1.0, 2.0, 0.0, 2.0, 2.0, 0.0, 0.0, 2.0, 1.0, 0.0, 1.0, 2.0, 1.0, 1.0, 1.0, 0.0, 3.0, 1.0, 1.0, 0.0, 0.0, 1.0, 2.0, 2.0, 2.0, 1.0, 2.0, 2.0, 1.0, 1.0, 1.0, 1.0, 1.0, 3.0, 1.0, 0.0, 2.0, 1.0, 0.0, 1.0, 1.0, 1.0, 1.0, 1.0, 1.0, 1.0, 1.0, 2.0, 1.0, 0.0, 0.0, 0.0, 1.0, 1.0, 2.0, 2.0, 1.0, 1.0, 1.0, 0.0, 0.0, 1.0, 1.0, 0.0, 2.0, 2.0, 2.0, 1.0, 1.0, 2.0, 1.0, 0.0, 1.0, 1.0, 1.0, 2.0, 1.0, 1.0, 0.0, 1.0, 0.0, 1.0, 2.0, 0.0, 1.0, 2.0, 0.0, 1.0, 2.0, 1.0, 1.0, 2.0, 1.0, 1.0, 2.0, 2.0, 0.0, 1.0, 0.0, 0.0, 0.0, 1.0, 1.0, 1.0, 1.0, 1.0, 1.0, 1.0, 1.0, 1.0, 2.0, 0.0, 1.0, 1.0, 1.0, 2.0, 1.0, 0.0, 1.0, 1.0, 2.0, 2.0, 0.0, 0.0, 0.0, 1.0, 1.0, 0.0, 2.0, 1.0, 0.0, 1.0, 0.0, 1.0, 0.0, 0.0, 0.0, 1.0, 1.0, 2.0, 2.0, 1.0, 1.0, 1.0, 0.0, 0.0, 0.0, 0.0, 2.0, 0.0, 0.0, 1.0, 1.0, 1.0, 1.0, 1.0, 1.0, 1.0, 3.0, 1.0, 1.0, 0.0, 1.0, 1.0, 1.0, 1.0, 1.0, 0.0, 0.0, 0.0, 0.0, 1.0, 1.0, 2.0, 1.0, 0.0, 1.0, 1.0, 0.0, 1.0, 1.0, 2.0, 1.0, 1.0, 1.0, 1.0, 0.0, 0.0, 2.0, 2.0, 0.0, 1.0, 2.0, 0.0, 0.0, 0.0, 1.0, 3.0, 1.0, 1.0, 2.0, 1.0, 1.0, 2.0, 1.0, 0.0, 1.0, 0.0, 1.0, 0.0, 0.0, 2.0, 1.0, 0.0, 0.0, 1.0, 2.0, 1.0, 0.0, 2.0, 3.0, 0.0, 1.0, 1.0, 2.0, 1.0, 0.0, 1.0, 2.0, 1.0, 2.0, 0.0, 1.0, 0.0, 1.0, 1.0, 1.0, 1.0, 0.0, 1.0, 1.0, 0.0, 1.0, 1.0, 1.0, 0.0, 0.0, 0.0, 2.0, 0.0, 1.0, 1.0, 1.0, 1.0, 0.0, 2.0, 0.0, 0.0, 1.0, 1.0, 0.0, 1.0, 1.0, 1.0, 0.0, 1.0, 2.0, 0.0, 0.0, 2.0, 1.0, 1.0, 1.0, 0.0, 2.0, 0.0, 0.0, 1.0, 2.0, 1.0, 1.0, 0.0, 1.0, 1.0, 0.0, 0.0, 0.0, 2.0, 1.0, 0.0, 2.0, 1.0, 1.0, 0.0, 0.0, 0.0, 0.0, 1.0, 0.0, 0.0, 1.0, 1.0, 1.0, 1.0, 1.0, 1.0, 0.0, 0.0, 0.0, 1.0, 0.0, 1.0, 1.0, 0.0, 2.0, 1.0, 1.0, 1.0, 1.0, 0.0, 1.0, 0.0, 3.0, 3.0, 1.0, 2.0, 2.0, 0.0, 0.0, 1.0, 1.0, 1.0, 1.0, 1.0, 1.0, 1.0, 1.0, 1.0, 1.0, 0.0, 0.0, 1.0, 1.0, 1.0, 3.0, 0.0, 0.0, 0.0, 2.0, 2.0, 2.0, 1.0, 1.0, 0.0, 0.0, 0.0, 2.0, 1.0, 1.0, 1.0, 0.0, 1.0, 1.0, 1.0, 2.0, 1.0, 1.0, 1.0, 1.0, 0.0, 0.0, 1.0, 0.0, 0.0, 1.0, 1.0, 2.0, 1.0, 1.0, 2.0, 1.0, 1.0, 1.0, 0.0, 1.0, 1.0, 1.0, 1.0, 1.0, 0.0, 1.0, 0.0, 1.0, 1.0, 1.0, 2.0, 0.0, 1.0, 0.0, 2.0, 1.0, 1.0, 2.0, 0.0, 1.0, 2.0, 0.0, 3.0, 2.0, 2.0, 1.0, 1.0, 1.0, 0.0, 1.0, 1.0, 1.0, 1.0, 1.0, 0.0, 1.0, 2.0, 2.0, 2.0, 0.0, 0.0, 1.0, 1.0, 0.0, 1.0, 1.0, 1.0, 0.0, 0.0, 0.0, 2.0, 0.0, 0.0, 1.0, 1.0, 1.0, 0.0, 2.0, 1.0, 1.0, 1.0, 2.0, 2.0, 2.0, 1.0, 1.0, 0.0, 1.0, 1.0, 0.0, 2.0, 1.0, 1.0, 2.0, 2.0, 0.0, 1.0, 1.0, 0.0, 2.0, 1.0, 1.0, 1.0, 1.0, 1.0, 0.0, 2.0, 1.0, 1.0, 2.0, 2.0, 1.0, 1.0, 2.0, 2.0, 0.0, 1.0, 0.0, 0.0, 1.0, 2.0, 3.0, 1.0, 3.0, 0.0, 1.0, 0.0, 1.0, 1.0, 2.0, 0.0, 2.0, 0.0, 0.0, 0.0, 1.0, 1.0, 1.0, 1.0, 0.0, 1.0, 1.0, 1.0, 0.0, 1.0, 1.0, 0.0, 2.0, 2.0, 2.0, 2.0, 2.0, 0.0, 0.0, 0.0, 2.0, 1.0, 1.0, 2.0, 1.0, 1.0, 1.0, 1.0, 3.0, 0.0, 1.0, 1.0, 0.0, 1.0, 2.0, 1.0, 0.0, 0.0, 2.0, 0.0, 1.0, 1.0, 1.0, 0.0, 1.0, 2.0, 1.0, 0.0, 2.0, 2.0, 1.0, 1.0, 0.0, 0.0, 1.0, 0.0, 0.0, 3.0, 1.0, 0.0, 0.0, 1.0, 1.0, 3.0, 1.0, 1.0, 2.0, 1.0, 1.0, 2.0, 2.0, 1.0, 1.0, 1.0, 1.0, 1.0, 3.0, 1.0, 1.0, 1.0, 1.0, 0.0, 0.0, 0.0, 1.0, 1.0, 0.0, 3.0, 0.0, 1.0, 1.0, 1.0, 1.0, 0.0, 1.0, 2.0, 1.0, 1.0, 1.0, 1.0, 0.0, 0.0, 1.0, 1.0, 0.0, 1.0, 1.0, 2.0, 2.0, 3.0, 1.0, 0.0, 0.0, 1.0, 1.0, 2.0, 2.0, 2.0, 0.0, 0.0, 2.0, 0.0, 1.0, 0.0, 1.0, 1.0, 1.0, 1.0, 1.0, 0.0, 0.0, 3.0, 0.0, 2.0, 2.0, 1.0, 1.0, 0.0, 1.0, 0.0, 1.0, 0.0, 0.0, 1.0, 0.0, 1.0, 1.0, 1.0, 2.0, 0.0, 0.0, 1.0, 1.0, 0.0, 0.0, 0.0, 2.0, 1.0, 1.0, 1.0, 1.0, 3.0, 1.0, 1.0, 0.0, 2.0, 2.0, 1.0, 1.0, 0.0, 1.0, 1.0, 0.0, 0.0, 2.0, 2.0, 1.0, 1.0, 1.0, 1.0, 1.0, 0.0, 1.0, 1.0, 1.0, 2.0, 1.0, 1.0, 1.0, 1.0, 2.0, 2.0, 0.0, 1.0, 1.0, 1.0, 0.0, 0.0, 1.0, 1.0, 1.0, 1.0, 1.0, 2.0, 1.0, 0.0, 0.0, 1.0, 2.0, 2.0, 0.0, 0.0, 1.0, 1.0, 1.0, 2.0, 1.0, 1.0, 1.0, 1.0, 1.0, 0.0, 1.0, 1.0, 0.0, 0.0, 0.0, 0.0, 2.0, 1.0, 3.0, 2.0, 1.0, 1.0, 2.0, 2.0, 1.0, 1.0, 1.0, 1.0, 3.0, 0.0, 1.0, 0.0, 1.0, 0.0, 0.0, 1.0, 2.0, 1.0, 1.0, 2.0, 0.0, 2.0, 2.0, 0.0, 1.0, 1.0, 1.0, 0.0, 0.0, 0.0, 1.0, 2.0, 1.0, 1.0, 1.0, 1.0, 0.0, 1.0, 0.0, 2.0, 1.0, 0.0, 1.0, 1.0, 2.0, 2.0, 2.0, 2.0, 0.0, 1.0, 3.0, 3.0, 1.0, 1.0, 0.0, 1.0, 2.0, 1.0, 2.0, 1.0, 0.0, 2.0, 2.0, 1.0, 2.0, 1.0, 2.0, 0.0, 1.0, 1.0, 0.0, 2.0, 1.0, 1.0, 1.0, 2.0, 0.0, 2.0, 2.0, 1.0, 0.0, 1.0, 2.0, 1.0, 1.0, 1.0, 1.0, 2.0, 2.0, 1.0, 1.0, 0.0, 0.0, 0.0, 2.0, 1.0, 1.0, 0.0, 1.0, 1.0, 0.0, 2.0, 2.0, 1.0, 1.0, 1.0, 1.0, 1.0, 1.0, 0.0, 2.0, 2.0, 2.0, 1.0, 1.0, 1.0, 1.0, 2.0, 2.0, 1.0, 2.0, 2.0, 2.0, 2.0, 1.0, 2.0, 0.0, 0.0, 2.0, 1.0, 0.0, 0.0, 2.0, 0.0, 0.0, 1.0, 0.0, 0.0, 1.0, 1.0, 1.0, 1.0, 3.0, 3.0, 1.0, 0.0, 0.0, 0.0, 2.0, 0.0, 1.0, 0.0, 1.0, 0.0, 1.0, 2.0, 1.0, 1.0, 1.0, 1.0, 2.0, 2.0, 0.0, 1.0, 0.0, 1.0, 0.0, 0.0, 2.0, 0.0, 1.0, 0.0, 2.0, 1.0, 3.0, 0.0, 1.0, 2.0, 1.0, 0.0, 1.0, 1.0, 1.0, 1.0, 1.0, 1.0, 1.0, 1.0, 1.0, 2.0, 1.0, 1.0, 0.0, 0.0, 2.0, 2.0, 1.0, 1.0, 1.0, 0.0, 1.0, 0.0, 1.0, 2.0, 0.0, 0.0, 0.0, 2.0, 0.0, 1.0, 2.0, 1.0, 2.0, 1.0, 2.0, 2.0, 1.0, 1.0, 2.0, 2.0, 2.0, 1.0, 1.0, 0.0, 1.0, 2.0, 0.0, 2.0, 1.0, 0.0, 2.0, 1.0, 0.0, 1.0, 2.0, 0.0, 2.0, 0.0, 1.0, 1.0, 0.0, 0.0, 0.0, 0.0, 1.0, 3.0, 3.0, 2.0, 1.0, 0.0, 1.0, 0.0, 0.0, 1.0, 1.0, 0.0, 1.0, 1.0, 2.0, 0.0, 1.0, 3.0, 0.0, 1.0, 0.0, 1.0, 1.0, 1.0, 0.0, 1.0, 2.0, 1.0, 2.0, 1.0, 1.0, 3.0, 3.0, 1.0, 1.0, 1.0, 1.0, 1.0, 1.0, 0.0, 1.0, 0.0, 2.0, 1.0, 1.0, 1.0, 1.0, 1.0, 0.0, 0.0, 1.0, 0.0, 3.0, 1.0, 1.0, 0.0, 0.0, 1.0, 3.0, 0.0, 0.0, 2.0, 0.0, 1.0, 1.0, 0.0, 1.0, 1.0, 2.0, 0.0, 1.0, 0.0, 2.0, 1.0, 0.0, 0.0, 1.0, 1.0, 1.0, 2.0, 1.0, 0.0, 2.0, 1.0, 1.0, 1.0, 1.0, 1.0, 2.0, 0.0, 0.0, 1.0, 0.0, 0.0, 0.0, 1.0, 1.0, 1.0, 1.0, 1.0, 1.0, 2.0, 1.0, 1.0, 1.0, 0.0, 0.0, 1.0, 1.0, 1.0, 2.0, 0.0, 0.0, 1.0, 0.0, 0.0, 2.0, 1.0, 3.0, 0.0, 1.0, 1.0, 0.0, 0.0, 0.0, 0.0, 1.0, 1.0, 1.0, 1.0, 1.0, 2.0, 1.0, 1.0, 2.0, 2.0, 0.0, 0.0, 1.0, 1.0, 1.0, 1.0, 1.0, 1.0, 0.0, 2.0, 1.0, 1.0, 0.0, 1.0, 0.0, 1.0, 1.0, 1.0, 0.0, 1.0, 0.0, 1.0, 0.0, 1.0, 1.0, 1.0, 1.0, 0.0, 2.0, 1.0, 1.0, 1.0, 0.0, 0.0, 0.0, 1.0, 0.0, 1.0, 0.0, 1.0, 1.0, 0.0, 1.0, 2.0, 1.0, 1.0, 0.0, 1.0, 0.0, 1.0, 0.0, 0.0, 1.0, 1.0, 2.0, 0.0, 1.0, 1.0, 0.0, 0.0, 0.0, 1.0, 1.0, 1.0, 2.0, 0.0, 0.0, 1.0, 0.0, 1.0, 1.0, 0.0, 0.0, 0.0, 1.0, 0.0, 1.0, 1.0, 2.0, 2.0, 2.0, 1.0, 1.0, 1.0, 1.0, 2.0, 1.0, 1.0, 1.0, 0.0, 1.0, 0.0, 1.0, 1.0, 2.0, 0.0, 0.0, 1.0, 2.0, 1.0, 0.0, 2.0, 1.0, 2.0, 1.0, 0.0, 2.0, 0.0, 2.0, 0.0, 1.0, 1.0, 1.0, 1.0, 0.0, 2.0, 0.0, 1.0, 2.0, 1.0, 1.0, 2.0, 2.0, 1.0, 2.0, 1.0, 1.0, 1.0, 0.0, 0.0, 0.0, 2.0, 2.0, 1.0, 2.0, 1.0, 1.0, 1.0, 2.0, 1.0, 2.0, 0.0, 2.0, 0.0, 0.0, 2.0, 1.0, 1.0, 2.0, 2.0, 1.0, 0.0, 1.0, 2.0, 0.0, 0.0, 1.0, 1.0, 0.0, 0.0, 1.0, 1.0, 0.0, 3.0, 3.0, 2.0, 1.0, 1.0, 0.0, 1.0, 1.0, 1.0, 1.0, 1.0, 0.0, 0.0, 1.0, 1.0, 1.0, 3.0, 1.0, 1.0, 1.0, 1.0, 0.0, 1.0, 0.0, 1.0, 0.0, 1.0, 1.0, 2.0, 2.0, 1.0, 0.0, 1.0, 1.0, 2.0, 2.0, 2.0, 1.0, 1.0, 1.0, 0.0, 2.0, 0.0, 1.0, 0.0, 1.0, 1.0, 2.0, 2.0, 1.0, 1.0, 1.0, 0.0, 2.0, 1.0, 1.0, 1.0, 1.0, 1.0, 1.0, 2.0, 1.0, 1.0, 1.0, 1.0, 1.0, 2.0, 1.0, 1.0, 2.0, 0.0, 1.0, 0.0, 0.0, 1.0, 0.0, 1.0, 0.0, 0.0, 1.0, 0.0, 0.0, 1.0, 1.0, 1.0, 1.0, 0.0, 1.0, 1.0, 1.0, 0.0, 1.0, 1.0, 2.0, 0.0, 0.0, 1.0, 0.0, 1.0, 2.0, 2.0, 2.0, 0.0, 1.0, 0.0, 0.0, 2.0, 1.0, 1.0, 0.0, 0.0, 1.0, 1.0, 2.0, 1.0, 1.0, 0.0, 1.0, 1.0, 2.0, 1.0, 1.0, 1.0, 2.0, 2.0, 0.0, 1.0, 0.0, 2.0, 0.0, 1.0, 0.0, 1.0, 1.0, 1.0, 0.0, 0.0, 0.0, 1.0, 2.0, 1.0, 1.0, 1.0, 2.0, 1.0, 3.0, 1.0, 2.0, 3.0, 0.0, 0.0, 0.0, 1.0, 2.0, 2.0, 1.0, 0.0, 2.0, 0.0, 0.0, 0.0, 0.0, 2.0, 1.0, 1.0, 1.0, 1.0, 1.0, 1.0, 1.0, 2.0, 1.0, 1.0, 0.0, 0.0, 1.0, 1.0, 1.0, 1.0, 2.0, 0.0, 1.0, 1.0, 0.0, 0.0, 2.0, 1.0, 1.0, 1.0, 0.0, 2.0, 0.0, 0.0, 0.0, 0.0, 2.0, 2.0, 2.0, 2.0, 1.0, 1.0, 1.0, 1.0, 1.0, 2.0, 2.0, 1.0, 2.0, 2.0, 0.0, 2.0, 1.0, 1.0, 2.0, 2.0, 2.0, 0.0, 2.0, 0.0, 1.0, 1.0, 1.0, 2.0, 2.0, 2.0, 0.0, 1.0, 0.0, 2.0, 1.0, 1.0, 1.0, 0.0, 0.0, 1.0, 0.0, 1.0, 2.0, 1.0, 1.0, 3.0, 3.0, 2.0, 1.0, 1.0, 1.0, 2.0, 2.0, 2.0, 2.0, 0.0, 1.0, 1.0, 2.0, 0.0, 1.0, 2.0, 1.0, 1.0, 1.0, 1.0, 1.0, 1.0, 0.0, 0.0, 0.0, 0.0, 1.0, 1.0, 2.0, 2.0, 0.0, 1.0, 2.0, 1.0, 1.0, 0.0, 1.0, 1.0, 0.0, 1.0, 1.0, 1.0, 0.0, 1.0, 0.0, 0.0, 0.0, 1.0, 0.0, 0.0, 1.0, 1.0, 1.0, 1.0, 0.0, 1.0, 2.0, 1.0, 0.0, 1.0, 1.0, 2.0, 1.0, 0.0, 2.0, 1.0, 0.0, 0.0, 2.0, 1.0, 0.0, 1.0, 1.0, 1.0, 1.0, 1.0, 2.0, 0.0, 1.0, 1.0, 0.0, 1.0, 1.0, 2.0, 1.0, 1.0, 2.0, 2.0, 1.0, 3.0, 1.0, 0.0, 2.0, 2.0, 0.0, 0.0, 2.0, 2.0, 0.0, 0.0, 2.0, 2.0, 2.0, 0.0, 0.0, 2.0, 1.0, 1.0, 1.0, 2.0, 0.0, 2.0, 0.0, 1.0, 1.0, 1.0, 0.0, 1.0, 1.0, 1.0, 1.0, 1.0, 0.0, 1.0, 1.0, 1.0, 0.0, 1.0, 0.0, 0.0, 0.0, 2.0, 3.0, 3.0, 0.0, 1.0, 0.0, 1.0, 0.0, 2.0, 2.0, 1.0, 1.0, 0.0, 1.0, 1.0, 1.0, 0.0, 1.0, 1.0, 1.0, 1.0, 1.0, 1.0, 1.0, 1.0, 1.0, 0.0, 0.0, 1.0, 1.0, 1.0, 1.0, 0.0, 1.0, 1.0, 2.0, 1.0, 1.0, 0.0, 0.0, 0.0, 0.0, 0.0, 1.0, 1.0, 1.0, 1.0, 1.0, 0.0, 1.0, 1.0, 1.0, 1.0, 1.0, 1.0, 2.0, 0.0, 0.0, 0.0, 0.0, 1.0, 0.0, 0.0, 0.0, 1.0, 1.0, 1.0], \"y0\": \" \", \"yaxis\": \"y4\"}, {\"alignmentgroup\": \"True\", \"hoverlabel\": {\"namelength\": 0}, \"hovertemplate\": \"variable=Edu_years<br>value=%{y}\", \"legendgroup\": \"variable=Edu_years\", \"marker\": {\"color\": \"#FFA15A\"}, \"name\": \"variable=Edu_years\", \"notched\": false, \"offsetgroup\": \"variable=Edu_years\", \"orientation\": \"v\", \"showlegend\": true, \"type\": \"box\", \"x0\": \" \", \"xaxis\": \"x\", \"y\": [14.0, 14.0, 14.0, 14.0, 14.0, 14.0, 14.0, 14.0, 14.0, 14.0, 14.0, 14.0, 14.0, 14.0, 14.0, 14.0, 14.0, 14.0, 14.0, 14.0, 14.0, 14.0, 14.0, 14.0, 14.0, 14.0, 14.0, 14.0, 14.0, 14.0, 14.0, 14.0, 14.0, 14.0, 14.0, 14.0, 14.0, 14.0, 14.0, 14.0, 14.0, 14.0, 14.0, 14.0, 14.0, 14.0, 14.0, 14.0, 14.0, 14.0, 14.0, 14.0, 14.0, 14.0, 14.0, 14.0, 14.0, 14.0, 14.0, 14.0, 14.0, 14.0, 14.0, 14.0, 14.0, 14.0, 14.0, 14.0, 14.0, 14.0, 14.0, 14.0, 14.0, 14.0, 14.0, 14.0, 14.0, 14.0, 14.0, 14.0, 14.0, 14.0, 14.0, 14.0, 14.0, 14.0, 14.0, 14.0, 14.0, 14.0, 14.0, 14.0, 14.0, 14.0, 14.0, 14.0, 14.0, 14.0, 14.0, 14.0, 14.0, 14.0, 14.0, 14.0, 14.0, 14.0, 14.0, 14.0, 14.0, 14.0, 14.0, 14.0, 14.0, 14.0, 14.0, 14.0, 14.0, 14.0, 14.0, 14.0, 14.0, 14.0, 14.0, 14.0, 14.0, 14.0, 14.0, 14.0, 14.0, 14.0, 14.0, 14.0, 14.0, 14.0, 14.0, 14.0, 14.0, 14.0, 14.0, 14.0, 14.0, 14.0, 14.0, 14.0, 14.0, 14.0, 14.0, 14.0, 14.0, 14.0, 14.0, 14.0, 14.0, 14.0, 14.0, 14.0, 14.0, 14.0, 14.0, 14.0, 14.0, 14.0, 14.0, 14.0, 14.0, 14.0, 14.0, 14.0, 14.0, 14.0, 14.0, 14.0, 14.0, 14.0, 14.0, 14.0, 14.0, 14.0, 14.0, 14.0, 14.0, 14.0, 14.0, 14.0, 14.0, 14.0, 14.0, 14.0, 14.0, 14.0, 14.0, 14.0, 14.0, 14.0, 14.0, 14.0, 14.0, 14.0, 14.0, 14.0, 14.0, 14.0, 14.0, 14.0, 14.0, 14.0, 14.0, 14.0, 14.0, 14.0, 14.0, 14.0, 14.0, 14.0, 14.0, 14.0, 14.0, 14.0, 14.0, 14.0, 14.0, 14.0, 14.0, 14.0, 14.0, 14.0, 14.0, 14.0, 14.0, 14.0, 14.0, 14.0, 14.0, 14.0, 14.0, 14.0, 14.0, 14.0, 14.0, 14.0, 14.0, 14.0, 14.0, 14.0, 14.0, 14.0, 14.0, 14.0, 14.0, 14.0, 14.0, 14.0, 14.0, 14.0, 14.0, 14.0, 14.0, 14.0, 14.0, 14.0, 14.0, 14.0, 14.0, 14.0, 14.0, 14.0, 14.0, 14.0, 14.0, 14.0, 14.0, 14.0, 14.0, 14.0, 14.0, 14.0, 14.0, 14.0, 14.0, 14.0, 14.0, 14.0, 14.0, 14.0, 14.0, 14.0, 14.0, 14.0, 14.0, 14.0, 14.0, 14.0, 14.0, 14.0, 14.0, 14.0, 14.0, 14.0, 14.0, 14.0, 14.0, 14.0, 14.0, 14.0, 14.0, 14.0, 14.0, 14.0, 14.0, 14.0, 14.0, 14.0, 14.0, 14.0, 14.0, 14.0, 14.0, 14.0, 14.0, 14.0, 14.0, 14.0, 14.0, 14.0, 14.0, 14.0, 14.0, 14.0, 14.0, 14.0, 14.0, 14.0, 14.0, 14.0, 14.0, 14.0, 14.0, 14.0, 14.0, 14.0, 14.0, 14.0, 14.0, 14.0, 14.0, 14.0, 14.0, 14.0, 14.0, 14.0, 14.0, 14.0, 14.0, 14.0, 14.0, 14.0, 14.0, 14.0, 14.0, 14.0, 14.0, 14.0, 14.0, 14.0, 14.0, 14.0, 14.0, 14.0, 14.0, 14.0, 14.0, 14.0, 14.0, 14.0, 14.0, 14.0, 14.0, 14.0, 14.0, 14.0, 14.0, 14.0, 14.0, 14.0, 14.0, 14.0, 14.0, 14.0, 14.0, 14.0, 14.0, 14.0, 14.0, 14.0, 14.0, 14.0, 14.0, 14.0, 14.0, 14.0, 14.0, 14.0, 14.0, 14.0, 14.0, 14.0, 14.0, 14.0, 14.0, 14.0, 14.0, 14.0, 14.0, 14.0, 14.0, 14.0, 14.0, 14.0, 14.0, 14.0, 14.0, 14.0, 14.0, 14.0, 14.0, 14.0, 14.0, 14.0, 14.0, 14.0, 14.0, 14.0, 14.0, 14.0, 14.0, 14.0, 14.0, 14.0, 14.0, 14.0, 14.0, 14.0, 14.0, 14.0, 14.0, 14.0, 14.0, 14.0, 14.0, 14.0, 14.0, 14.0, 14.0, 14.0, 14.0, 14.0, 14.0, 14.0, 14.0, 14.0, 14.0, 14.0, 14.0, 14.0, 14.0, 14.0, 14.0, 14.0, 14.0, 14.0, 14.0, 14.0, 14.0, 14.0, 14.0, 14.0, 14.0, 14.0, 14.0, 14.0, 14.0, 14.0, 14.0, 14.0, 14.0, 14.0, 14.0, 14.0, 14.0, 14.0, 14.0, 14.0, 14.0, 14.0, 14.0, 14.0, 14.0, 14.0, 14.0, 14.0, 14.0, 14.0, 14.0, 14.0, 14.0, 14.0, 14.0, 14.0, 14.0, 14.0, 14.0, 14.0, 14.0, 14.0, 14.0, 14.0, 14.0, 14.0, 14.0, 14.0, 14.0, 14.0, 14.0, 14.0, 14.0, 14.0, 14.0, 14.0, 14.0, 14.0, 14.0, 14.0, 14.0, 14.0, 14.0, 14.0, 14.0, 14.0, 14.0, 14.0, 14.0, 14.0, 14.0, 14.0, 14.0, 14.0, 14.0, 14.0, 14.0, 14.0, 14.0, 14.0, 14.0, 14.0, 14.0, 14.0, 14.0, 14.0, 14.0, 14.0, 14.0, 14.0, 14.0, 14.0, 14.0, 14.0, 14.0, 14.0, 14.0, 14.0, 14.0, 14.0, 14.0, 14.0, 14.0, 14.0, 14.0, 14.0, 14.0, 14.0, 14.0, 14.0, 14.0, 14.0, 14.0, 14.0, 14.0, 14.0, 14.0, 14.0, 14.0, 14.0, 14.0, 14.0, 14.0, 14.0, 14.0, 14.0, 14.0, 14.0, 14.0, 14.0, 14.0, 14.0, 14.0, 14.0, 14.0, 14.0, 14.0, 14.0, 14.0, 14.0, 14.0, 14.0, 14.0, 14.0, 14.0, 14.0, 14.0, 14.0, 14.0, 14.0, 14.0, 14.0, 14.0, 14.0, 14.0, 14.0, 14.0, 14.0, 14.0, 14.0, 14.0, 14.0, 14.0, 14.0, 14.0, 14.0, 14.0, 14.0, 14.0, 14.0, 14.0, 14.0, 14.0, 14.0, 14.0, 14.0, 14.0, 14.0, 14.0, 14.0, 14.0, 14.0, 14.0, 14.0, 14.0, 14.0, 14.0, 14.0, 14.0, 14.0, 14.0, 14.0, 14.0, 14.0, 14.0, 14.0, 14.0, 14.0, 14.0, 14.0, 14.0, 14.0, 14.0, 14.0, 14.0, 14.0, 14.0, 14.0, 14.0, 14.0, 14.0, 14.0, 14.0, 14.0, 14.0, 14.0, 14.0, 14.0, 14.0, 14.0, 14.0, 14.0, 14.0, 14.0, 14.0, 14.0, 14.0, 14.0, 14.0, 14.0, 14.0, 14.0, 14.0, 14.0, 14.0, 14.0, 14.0, 14.0, 14.0, 14.0, 14.0, 14.0, 14.0, 14.0, 14.0, 14.0, 14.0, 14.0, 14.0, 14.0, 14.0, 14.0, 14.0, 14.0, 14.0, 14.0, 14.0, 14.0, 14.0, 14.0, 14.0, 14.0, 14.0, 14.0, 14.0, 14.0, 14.0, 14.0, 14.0, 14.0, 14.0, 14.0, 14.0, 14.0, 14.0, 14.0, 14.0, 14.0, 14.0, 14.0, 14.0, 14.0, 14.0, 14.0, 14.0, 14.0, 14.0, 14.0, 14.0, 14.0, 14.0, 14.0, 14.0, 14.0, 14.0, 14.0, 14.0, 14.0, 14.0, 14.0, 14.0, 14.0, 14.0, 14.0, 14.0, 14.0, 14.0, 14.0, 14.0, 14.0, 14.0, 14.0, 14.0, 14.0, 14.0, 14.0, 14.0, 14.0, 14.0, 14.0, 14.0, 14.0, 14.0, 14.0, 14.0, 14.0, 14.0, 14.0, 14.0, 14.0, 14.0, 14.0, 14.0, 14.0, 14.0, 14.0, 14.0, 14.0, 14.0, 14.0, 14.0, 14.0, 14.0, 14.0, 14.0, 14.0, 14.0, 14.0, 14.0, 14.0, 14.0, 14.0, 14.0, 14.0, 14.0, 14.0, 14.0, 14.0, 14.0, 14.0, 14.0, 14.0, 14.0, 14.0, 14.0, 14.0, 14.0, 14.0, 14.0, 14.0, 14.0, 14.0, 14.0, 14.0, 14.0, 14.0, 14.0, 14.0, 14.0, 14.0, 14.0, 14.0, 14.0, 14.0, 14.0, 14.0, 14.0, 14.0, 14.0, 14.0, 14.0, 14.0, 14.0, 14.0, 14.0, 14.0, 14.0, 14.0, 14.0, 14.0, 14.0, 14.0, 14.0, 14.0, 14.0, 14.0, 14.0, 14.0, 14.0, 14.0, 14.0, 14.0, 14.0, 14.0, 14.0, 14.0, 14.0, 14.0, 14.0, 14.0, 14.0, 14.0, 14.0, 14.0, 14.0, 14.0, 14.0, 14.0, 14.0, 14.0, 14.0, 14.0, 14.0, 14.0, 14.0, 14.0, 14.0, 14.0, 14.0, 14.0, 14.0, 14.0, 14.0, 14.0, 14.0, 14.0, 14.0, 14.0, 14.0, 14.0, 14.0, 14.0, 14.0, 14.0, 14.0, 14.0, 14.0, 14.0, 14.0, 14.0, 14.0, 14.0, 14.0, 14.0, 14.0, 14.0, 14.0, 14.0, 14.0, 14.0, 14.0, 14.0, 14.0, 14.0, 14.0, 14.0, 14.0, 14.0, 14.0, 14.0, 14.0, 14.0, 14.0, 14.0, 14.0, 14.0, 14.0, 14.0, 14.0, 14.0, 14.0, 14.0, 14.0, 14.0, 14.0, 14.0, 14.0, 14.0, 14.0, 14.0, 14.0, 14.0, 14.0, 14.0, 14.0, 14.0, 14.0, 14.0, 14.0, 14.0, 14.0, 14.0, 14.0, 14.0, 14.0, 14.0, 14.0, 14.0, 14.0, 14.0, 14.0, 14.0, 14.0, 14.0, 14.0, 14.0, 14.0, 14.0, 14.0, 14.0, 14.0, 14.0, 14.0, 14.0, 14.0, 14.0, 14.0, 14.0, 14.0, 14.0, 14.0, 14.0, 14.0, 14.0, 14.0, 14.0, 14.0, 14.0, 14.0, 14.0, 14.0, 14.0, 14.0, 14.0, 14.0, 14.0, 14.0, 14.0, 14.0, 14.0, 14.0, 14.0, 14.0, 14.0, 14.0, 14.0, 14.0, 14.0, 14.0, 14.0, 14.0, 14.0, 14.0, 14.0, 14.0, 14.0, 14.0, 14.0, 14.0, 14.0, 14.0, 14.0, 14.0, 14.0, 14.0, 14.0, 14.0, 14.0, 14.0, 14.0, 14.0, 14.0, 14.0, 14.0, 14.0, 14.0, 14.0, 14.0, 14.0, 14.0, 14.0, 14.0, 14.0, 14.0, 14.0, 14.0, 14.0, 14.0, 14.0, 14.0, 14.0, 14.0, 14.0, 14.0, 14.0, 14.0, 14.0, 14.0, 14.0, 14.0, 14.0, 14.0, 14.0, 14.0, 14.0, 14.0, 14.0, 14.0, 14.0, 14.0, 14.0, 14.0, 14.0, 14.0, 14.0, 14.0, 14.0, 14.0, 14.0, 14.0, 14.0, 14.0, 14.0, 14.0, 14.0, 14.0, 14.0, 14.0, 14.0, 14.0, 14.0, 14.0, 14.0, 14.0, 14.0, 21.0, 21.0, 21.0, 21.0, 21.0, 21.0, 21.0, 21.0, 21.0, 21.0, 21.0, 21.0, 21.0, 21.0, 21.0, 21.0, 21.0, 21.0, 21.0, 21.0, 21.0, 21.0, 21.0, 21.0, 21.0, 21.0, 21.0, 21.0, 21.0, 21.0, 21.0, 21.0, 21.0, 21.0, 21.0, 21.0, 21.0, 21.0, 21.0, 21.0, 21.0, 21.0, 21.0, 21.0, 21.0, 21.0, 21.0, 21.0, 21.0, 21.0, 21.0, 21.0, 21.0, 21.0, 21.0, 21.0, 21.0, 21.0, 21.0, 21.0, 21.0, 21.0, 21.0, 21.0, 21.0, 21.0, 21.0, 21.0, 21.0, 21.0, 21.0, 21.0, 21.0, 21.0, 21.0, 21.0, 21.0, 21.0, 21.0, 21.0, 21.0, 21.0, 21.0, 21.0, 21.0, 21.0, 21.0, 21.0, 21.0, 21.0, 21.0, 21.0, 21.0, 21.0, 21.0, 21.0, 21.0, 21.0, 21.0, 21.0, 21.0, 21.0, 21.0, 21.0, 21.0, 21.0, 21.0, 21.0, 21.0, 21.0, 21.0, 21.0, 21.0, 21.0, 21.0, 21.0, 21.0, 21.0, 21.0, 21.0, 21.0, 21.0, 21.0, 21.0, 21.0, 21.0, 21.0, 21.0, 21.0, 21.0, 21.0, 21.0, 21.0, 21.0, 21.0, 21.0, 21.0, 21.0, 21.0, 21.0, 21.0, 21.0, 21.0, 21.0, 21.0, 21.0, 21.0, 21.0, 21.0, 21.0, 21.0, 21.0, 21.0, 21.0, 21.0, 21.0, 21.0, 21.0, 21.0, 21.0, 21.0, 21.0, 21.0, 21.0, 21.0, 21.0, 21.0, 21.0, 21.0, 21.0, 21.0, 21.0, 21.0, 21.0, 21.0, 21.0, 21.0, 21.0, 21.0, 21.0, 21.0, 21.0, 21.0, 21.0, 21.0, 21.0, 21.0, 21.0, 21.0, 21.0, 21.0, 21.0, 21.0, 21.0, 21.0, 21.0, 21.0, 21.0, 21.0, 21.0, 21.0, 21.0, 21.0, 21.0, 21.0, 21.0, 21.0, 21.0, 21.0, 21.0, 21.0, 21.0, 21.0, 21.0, 21.0, 21.0, 21.0, 21.0, 21.0, 21.0, 21.0, 21.0, 21.0, 21.0, 21.0, 21.0, 21.0, 21.0, 21.0, 21.0, 21.0, 21.0, 21.0, 21.0, 21.0, 21.0, 21.0, 21.0, 21.0, 21.0, 21.0, 21.0, 21.0, 21.0, 21.0, 21.0, 21.0, 21.0, 21.0, 21.0, 21.0, 21.0, 21.0, 21.0, 21.0, 21.0, 21.0, 21.0, 21.0, 21.0, 21.0, 21.0, 21.0, 21.0, 21.0, 21.0, 21.0, 21.0, 21.0, 21.0, 21.0, 21.0, 21.0, 21.0, 21.0, 21.0, 21.0, 21.0, 21.0, 21.0, 21.0, 21.0, 21.0, 21.0, 21.0, 21.0, 21.0, 21.0, 21.0, 21.0, 21.0, 21.0, 21.0, 21.0, 21.0, 21.0, 21.0, 21.0, 21.0, 21.0, 21.0, 21.0, 21.0, 21.0, 21.0, 21.0, 21.0, 21.0, 21.0, 21.0, 21.0, 21.0, 21.0, 21.0, 21.0, 21.0, 21.0, 21.0, 21.0, 21.0, 21.0, 21.0, 21.0, 21.0, 21.0, 21.0, 21.0, 21.0, 21.0, 21.0, 21.0, 21.0, 21.0, 21.0, 21.0, 21.0, 21.0, 21.0, 21.0, 21.0, 21.0, 21.0, 21.0, 21.0, 21.0, 21.0, 21.0, 21.0, 21.0, 21.0, 21.0, 21.0, 21.0, 21.0, 21.0, 21.0, 21.0, 21.0, 21.0, 21.0, 21.0, 21.0, 21.0, 21.0, 21.0, 21.0, 21.0, 21.0, 21.0, 21.0, 21.0, 21.0, 21.0, 21.0, 21.0, 21.0, 21.0, 21.0, 21.0, 21.0, 21.0, 21.0, 21.0, 21.0, 21.0, 21.0, 21.0, 21.0, 21.0, 21.0, 21.0, 21.0, 21.0, 21.0, 21.0, 21.0, 21.0, 21.0, 21.0, 21.0, 21.0, 21.0, 21.0, 21.0, 21.0, 21.0, 21.0, 21.0, 21.0, 21.0, 21.0, 21.0, 21.0, 21.0, 21.0, 21.0, 21.0, 21.0, 21.0, 21.0, 21.0, 21.0, 21.0, 21.0, 21.0, 21.0, 21.0, 21.0, 21.0, 21.0, 21.0, 21.0, 21.0, 21.0, 21.0, 21.0, 21.0, 21.0, 21.0, 21.0, 21.0, 21.0, 21.0, 21.0, 21.0, 21.0, 21.0, 21.0, 21.0, 21.0, 21.0, 21.0, 21.0, 21.0, 21.0, 21.0, 21.0, 21.0, 21.0, 21.0, 21.0, 21.0, 21.0, 21.0, 21.0, 21.0, 21.0, 21.0, 21.0, 21.0, 21.0, 21.0, 21.0, 21.0, 21.0, 21.0, 21.0, 21.0, 21.0, 21.0, 21.0, 21.0, 21.0, 21.0, 21.0, 21.0, 12.0, 12.0, 12.0, 12.0, 12.0, 12.0, 12.0, 12.0, 12.0, 12.0, 12.0, 12.0, 12.0, 12.0, 12.0, 12.0, 12.0, 12.0, 12.0, 12.0, 12.0, 12.0, 12.0, 12.0, 12.0, 12.0, 12.0, 12.0, 12.0, 12.0, 12.0, 12.0, 12.0, 12.0, 12.0, 12.0, 12.0, 12.0, 12.0, 12.0, 12.0, 12.0, 12.0, 12.0, 12.0, 12.0, 12.0, 12.0, 12.0, 12.0, 12.0, 12.0, 12.0, 12.0, 12.0, 12.0, 12.0, 12.0, 12.0, 12.0, 12.0, 12.0, 12.0, 12.0, 12.0, 12.0, 12.0, 12.0, 12.0, 12.0, 12.0, 12.0, 12.0, 12.0, 12.0, 12.0, 12.0, 12.0, 12.0, 12.0, 12.0, 12.0, 12.0, 12.0, 12.0, 12.0, 12.0, 12.0, 12.0, 12.0, 12.0, 12.0, 12.0, 12.0, 12.0, 12.0, 12.0, 12.0, 12.0, 12.0, 12.0, 12.0, 12.0, 12.0, 12.0, 12.0, 12.0, 12.0, 12.0, 12.0, 12.0, 12.0, 12.0, 12.0, 12.0, 12.0, 12.0, 12.0, 12.0, 12.0, 12.0, 12.0, 12.0, 12.0, 12.0, 12.0, 12.0, 12.0, 12.0, 12.0, 12.0, 12.0, 12.0, 12.0, 12.0, 12.0, 12.0, 12.0, 12.0, 12.0, 12.0, 12.0, 12.0, 12.0, 12.0, 12.0, 12.0, 12.0, 12.0, 12.0, 12.0, 12.0, 12.0, 12.0, 12.0, 12.0, 12.0, 12.0, 12.0, 12.0, 12.0, 12.0, 12.0, 12.0, 12.0, 12.0, 12.0, 12.0, 12.0, 12.0, 12.0, 12.0, 12.0, 12.0, 12.0, 12.0, 12.0, 12.0, 12.0, 12.0, 12.0, 12.0, 12.0, 12.0, 12.0, 12.0, 12.0, 12.0, 12.0, 12.0, 12.0, 12.0, 12.0, 12.0, 12.0, 12.0, 12.0, 12.0, 12.0, 12.0, 12.0, 12.0, 12.0, 17.0, 17.0, 17.0, 17.0, 17.0, 17.0, 17.0, 17.0, 17.0, 17.0, 17.0, 17.0, 17.0, 17.0, 17.0, 17.0, 17.0, 17.0, 17.0, 17.0, 17.0, 17.0, 17.0, 17.0, 17.0, 17.0, 17.0, 17.0, 17.0, 17.0, 17.0, 17.0, 17.0, 17.0, 17.0, 17.0, 17.0, 17.0, 17.0, 17.0, 17.0, 17.0, 17.0, 17.0, 17.0, 17.0, 17.0, 17.0, 17.0, 17.0, 17.0, 17.0, 17.0, 17.0, 17.0, 17.0, 17.0, 17.0, 17.0, 17.0, 17.0, 17.0, 17.0, 17.0, 17.0, 17.0, 17.0, 17.0, 17.0, 17.0, 17.0, 17.0, 17.0, 17.0, 17.0, 17.0, 17.0, 17.0, 17.0, 17.0, 17.0, 17.0, 17.0, 17.0, 17.0, 17.0, 17.0, 17.0, 17.0, 17.0, 17.0, 17.0, 17.0, 17.0, 17.0, 17.0, 17.0, 17.0, 17.0, 17.0, 17.0, 17.0, 17.0, 17.0, 17.0, 17.0, 17.0, 17.0, 17.0, 17.0, 17.0, 17.0, 17.0, 17.0, 17.0, 17.0, 17.0, 17.0, 17.0, 17.0, 17.0, 17.0, 17.0, 17.0, 17.0, 17.0, 17.0, 17.0, 17.0, 17.0, 17.0, 17.0, 17.0, 17.0, 17.0, 17.0, 17.0, 17.0, 17.0, 17.0, 17.0, 17.0, 17.0, 17.0, 17.0, 17.0, 17.0, 17.0, 17.0, 17.0, 17.0, 17.0, 17.0, 17.0, 17.0, 17.0, 17.0, 17.0, 17.0, 17.0, 17.0, 17.0, 17.0, 17.0, 17.0, 17.0, 17.0, 17.0, 17.0, 17.0, 17.0, 17.0, 17.0, 17.0, 17.0, 17.0, 17.0, 17.0, 17.0, 17.0, 17.0, 17.0, 17.0, 17.0, 17.0, 17.0, 17.0, 17.0, 17.0, 17.0, 17.0, 17.0, 17.0, 17.0, 17.0, 17.0, 17.0, 17.0, 17.0, 17.0, 17.0, 17.0, 17.0, 17.0, 17.0, 17.0, 17.0, 17.0, 17.0, 17.0, 17.0, 17.0, 17.0, 17.0, 17.0, 17.0, 17.0, 17.0, 17.0, 17.0, 17.0, 17.0, 17.0, 17.0, 17.0, 17.0, 17.0, 17.0, 17.0, 17.0, 17.0, 17.0, 17.0, 17.0, 17.0, 17.0, 17.0, 17.0, 17.0, 17.0, 17.0, 17.0, 17.0, 17.0, 17.0, 17.0, 17.0, 17.0, 17.0, 17.0, 17.0, 17.0, 17.0, 17.0, 17.0, 17.0, 17.0, 17.0, 17.0, 17.0, 17.0, 17.0, 17.0, 17.0, 17.0, 17.0, 17.0, 17.0, 17.0, 17.0, 17.0, 17.0, 17.0, 17.0, 17.0, 17.0, 17.0, 17.0, 17.0, 17.0, 17.0, 17.0, 17.0, 17.0, 17.0, 17.0, 17.0, 17.0, 17.0, 17.0, 17.0, 17.0, 17.0, 17.0, 17.0, 17.0, 17.0, 17.0, 17.0, 17.0, 17.0, 17.0, 17.0, 17.0, 17.0, 17.0, 17.0, 17.0, 17.0, 17.0, 17.0, 17.0, 17.0, 17.0, 17.0, 17.0, 17.0, 17.0, 17.0, 17.0, 17.0, 17.0, 17.0, 17.0, 17.0, 17.0, 17.0, 17.0, 17.0, 17.0, 17.0, 17.0, 17.0, 17.0, 17.0, 17.0, 17.0, 17.0, 17.0, 17.0, 17.0, 17.0, 17.0, 17.0, 17.0, 17.0, 17.0, 17.0, 17.0, 17.0, 17.0, 17.0, 17.0, 17.0, 17.0, 17.0, 17.0, 17.0, 17.0, 17.0, 17.0, 17.0, 17.0, 17.0, 17.0, 17.0, 17.0, 17.0, 17.0, 17.0, 6.0, 6.0, 6.0, 6.0, 6.0, 6.0, 6.0, 6.0, 6.0, 6.0, 6.0, 6.0, 6.0, 6.0, 6.0, 6.0, 6.0, 6.0, 6.0, 6.0, 6.0, 6.0, 6.0, 6.0, 6.0, 6.0, 6.0, 6.0, 6.0, 6.0, 6.0, 6.0, 6.0, 6.0, 6.0, 6.0, 6.0, 6.0, 6.0, 6.0, 6.0, 6.0, 6.0, 6.0, 6.0, 6.0, 6.0, 6.0, 6.0, 6.0, 6.0, 6.0, 6.0, 6.0], \"y0\": \" \", \"yaxis\": \"y\"}],\n",
              "                        {\"annotations\": [{\"font\": {}, \"showarrow\": false, \"text\": \"variable=Edu_years\", \"x\": 0.245, \"xanchor\": \"center\", \"xref\": \"paper\", \"y\": 0.2866666666666666, \"yanchor\": \"bottom\", \"yref\": \"paper\"}, {\"font\": {}, \"showarrow\": false, \"text\": \"variable=Spending\", \"x\": 0.245, \"xanchor\": \"center\", \"xref\": \"paper\", \"y\": 0.6433333333333333, \"yanchor\": \"bottom\", \"yref\": \"paper\"}, {\"font\": {}, \"showarrow\": false, \"text\": \"variable=Children\", \"x\": 0.755, \"xanchor\": \"center\", \"xref\": \"paper\", \"y\": 0.6433333333333333, \"yanchor\": \"bottom\", \"yref\": \"paper\"}, {\"font\": {}, \"showarrow\": false, \"text\": \"variable=Income\", \"x\": 0.245, \"xanchor\": \"center\", \"xref\": \"paper\", \"y\": 0.9999999999999999, \"yanchor\": \"bottom\", \"yref\": \"paper\"}, {\"font\": {}, \"showarrow\": false, \"text\": \"variable=Age\", \"x\": 0.755, \"xanchor\": \"center\", \"xref\": \"paper\", \"y\": 0.9999999999999999, \"yanchor\": \"bottom\", \"yref\": \"paper\"}], \"boxmode\": \"overlay\", \"height\": 1000, \"legend\": {\"tracegroupgap\": 0}, \"margin\": {\"t\": 60}, \"showlegend\": false, \"template\": {\"data\": {\"bar\": [{\"error_x\": {\"color\": \"#2a3f5f\"}, \"error_y\": {\"color\": \"#2a3f5f\"}, \"marker\": {\"line\": {\"color\": \"#E5ECF6\", \"width\": 0.5}}, \"type\": \"bar\"}], \"barpolar\": [{\"marker\": {\"line\": {\"color\": \"#E5ECF6\", \"width\": 0.5}}, \"type\": \"barpolar\"}], \"carpet\": [{\"aaxis\": {\"endlinecolor\": \"#2a3f5f\", \"gridcolor\": \"white\", \"linecolor\": \"white\", \"minorgridcolor\": \"white\", \"startlinecolor\": \"#2a3f5f\"}, \"baxis\": {\"endlinecolor\": \"#2a3f5f\", \"gridcolor\": \"white\", \"linecolor\": \"white\", \"minorgridcolor\": \"white\", \"startlinecolor\": \"#2a3f5f\"}, \"type\": \"carpet\"}], \"choropleth\": [{\"colorbar\": {\"outlinewidth\": 0, \"ticks\": \"\"}, \"type\": \"choropleth\"}], \"contour\": [{\"colorbar\": {\"outlinewidth\": 0, \"ticks\": \"\"}, \"colorscale\": [[0.0, \"#0d0887\"], [0.1111111111111111, \"#46039f\"], [0.2222222222222222, \"#7201a8\"], [0.3333333333333333, \"#9c179e\"], [0.4444444444444444, \"#bd3786\"], [0.5555555555555556, \"#d8576b\"], [0.6666666666666666, \"#ed7953\"], [0.7777777777777778, \"#fb9f3a\"], [0.8888888888888888, \"#fdca26\"], [1.0, \"#f0f921\"]], \"type\": \"contour\"}], \"contourcarpet\": [{\"colorbar\": {\"outlinewidth\": 0, \"ticks\": \"\"}, \"type\": \"contourcarpet\"}], \"heatmap\": [{\"colorbar\": {\"outlinewidth\": 0, \"ticks\": \"\"}, \"colorscale\": [[0.0, \"#0d0887\"], [0.1111111111111111, \"#46039f\"], [0.2222222222222222, \"#7201a8\"], [0.3333333333333333, \"#9c179e\"], [0.4444444444444444, \"#bd3786\"], [0.5555555555555556, \"#d8576b\"], [0.6666666666666666, \"#ed7953\"], [0.7777777777777778, \"#fb9f3a\"], [0.8888888888888888, \"#fdca26\"], [1.0, \"#f0f921\"]], \"type\": \"heatmap\"}], \"heatmapgl\": [{\"colorbar\": {\"outlinewidth\": 0, \"ticks\": \"\"}, \"colorscale\": [[0.0, \"#0d0887\"], [0.1111111111111111, \"#46039f\"], [0.2222222222222222, \"#7201a8\"], [0.3333333333333333, \"#9c179e\"], [0.4444444444444444, \"#bd3786\"], [0.5555555555555556, \"#d8576b\"], [0.6666666666666666, \"#ed7953\"], [0.7777777777777778, \"#fb9f3a\"], [0.8888888888888888, \"#fdca26\"], [1.0, \"#f0f921\"]], \"type\": \"heatmapgl\"}], \"histogram\": [{\"marker\": {\"colorbar\": {\"outlinewidth\": 0, \"ticks\": \"\"}}, \"type\": \"histogram\"}], \"histogram2d\": [{\"colorbar\": {\"outlinewidth\": 0, \"ticks\": \"\"}, \"colorscale\": [[0.0, \"#0d0887\"], [0.1111111111111111, \"#46039f\"], [0.2222222222222222, \"#7201a8\"], [0.3333333333333333, \"#9c179e\"], [0.4444444444444444, \"#bd3786\"], [0.5555555555555556, \"#d8576b\"], [0.6666666666666666, \"#ed7953\"], [0.7777777777777778, \"#fb9f3a\"], [0.8888888888888888, \"#fdca26\"], [1.0, \"#f0f921\"]], \"type\": \"histogram2d\"}], \"histogram2dcontour\": [{\"colorbar\": {\"outlinewidth\": 0, \"ticks\": \"\"}, \"colorscale\": [[0.0, \"#0d0887\"], [0.1111111111111111, \"#46039f\"], [0.2222222222222222, \"#7201a8\"], [0.3333333333333333, \"#9c179e\"], [0.4444444444444444, \"#bd3786\"], [0.5555555555555556, \"#d8576b\"], [0.6666666666666666, \"#ed7953\"], [0.7777777777777778, \"#fb9f3a\"], [0.8888888888888888, \"#fdca26\"], [1.0, \"#f0f921\"]], \"type\": \"histogram2dcontour\"}], \"mesh3d\": [{\"colorbar\": {\"outlinewidth\": 0, \"ticks\": \"\"}, \"type\": \"mesh3d\"}], \"parcoords\": [{\"line\": {\"colorbar\": {\"outlinewidth\": 0, \"ticks\": \"\"}}, \"type\": \"parcoords\"}], \"pie\": [{\"automargin\": true, \"type\": \"pie\"}], \"scatter\": [{\"marker\": {\"colorbar\": {\"outlinewidth\": 0, \"ticks\": \"\"}}, \"type\": \"scatter\"}], \"scatter3d\": [{\"line\": {\"colorbar\": {\"outlinewidth\": 0, \"ticks\": \"\"}}, \"marker\": {\"colorbar\": {\"outlinewidth\": 0, \"ticks\": \"\"}}, \"type\": \"scatter3d\"}], \"scattercarpet\": [{\"marker\": {\"colorbar\": {\"outlinewidth\": 0, \"ticks\": \"\"}}, \"type\": \"scattercarpet\"}], \"scattergeo\": [{\"marker\": {\"colorbar\": {\"outlinewidth\": 0, \"ticks\": \"\"}}, \"type\": \"scattergeo\"}], \"scattergl\": [{\"marker\": {\"colorbar\": {\"outlinewidth\": 0, \"ticks\": \"\"}}, \"type\": \"scattergl\"}], \"scattermapbox\": [{\"marker\": {\"colorbar\": {\"outlinewidth\": 0, \"ticks\": \"\"}}, \"type\": \"scattermapbox\"}], \"scatterpolar\": [{\"marker\": {\"colorbar\": {\"outlinewidth\": 0, \"ticks\": \"\"}}, \"type\": \"scatterpolar\"}], \"scatterpolargl\": [{\"marker\": {\"colorbar\": {\"outlinewidth\": 0, \"ticks\": \"\"}}, \"type\": \"scatterpolargl\"}], \"scatterternary\": [{\"marker\": {\"colorbar\": {\"outlinewidth\": 0, \"ticks\": \"\"}}, \"type\": \"scatterternary\"}], \"surface\": [{\"colorbar\": {\"outlinewidth\": 0, \"ticks\": \"\"}, \"colorscale\": [[0.0, \"#0d0887\"], [0.1111111111111111, \"#46039f\"], [0.2222222222222222, \"#7201a8\"], [0.3333333333333333, \"#9c179e\"], [0.4444444444444444, \"#bd3786\"], [0.5555555555555556, \"#d8576b\"], [0.6666666666666666, \"#ed7953\"], [0.7777777777777778, \"#fb9f3a\"], [0.8888888888888888, \"#fdca26\"], [1.0, \"#f0f921\"]], \"type\": \"surface\"}], \"table\": [{\"cells\": {\"fill\": {\"color\": \"#EBF0F8\"}, \"line\": {\"color\": \"white\"}}, \"header\": {\"fill\": {\"color\": \"#C8D4E3\"}, \"line\": {\"color\": \"white\"}}, \"type\": \"table\"}]}, \"layout\": {\"annotationdefaults\": {\"arrowcolor\": \"#2a3f5f\", \"arrowhead\": 0, \"arrowwidth\": 1}, \"coloraxis\": {\"colorbar\": {\"outlinewidth\": 0, \"ticks\": \"\"}}, \"colorscale\": {\"diverging\": [[0, \"#8e0152\"], [0.1, \"#c51b7d\"], [0.2, \"#de77ae\"], [0.3, \"#f1b6da\"], [0.4, \"#fde0ef\"], [0.5, \"#f7f7f7\"], [0.6, \"#e6f5d0\"], [0.7, \"#b8e186\"], [0.8, \"#7fbc41\"], [0.9, \"#4d9221\"], [1, \"#276419\"]], \"sequential\": [[0.0, \"#0d0887\"], [0.1111111111111111, \"#46039f\"], [0.2222222222222222, \"#7201a8\"], [0.3333333333333333, \"#9c179e\"], [0.4444444444444444, \"#bd3786\"], [0.5555555555555556, \"#d8576b\"], [0.6666666666666666, \"#ed7953\"], [0.7777777777777778, \"#fb9f3a\"], [0.8888888888888888, \"#fdca26\"], [1.0, \"#f0f921\"]], \"sequentialminus\": [[0.0, \"#0d0887\"], [0.1111111111111111, \"#46039f\"], [0.2222222222222222, \"#7201a8\"], [0.3333333333333333, \"#9c179e\"], [0.4444444444444444, \"#bd3786\"], [0.5555555555555556, \"#d8576b\"], [0.6666666666666666, \"#ed7953\"], [0.7777777777777778, \"#fb9f3a\"], [0.8888888888888888, \"#fdca26\"], [1.0, \"#f0f921\"]]}, \"colorway\": [\"#636efa\", \"#EF553B\", \"#00cc96\", \"#ab63fa\", \"#FFA15A\", \"#19d3f3\", \"#FF6692\", \"#B6E880\", \"#FF97FF\", \"#FECB52\"], \"font\": {\"color\": \"#2a3f5f\"}, \"geo\": {\"bgcolor\": \"white\", \"lakecolor\": \"white\", \"landcolor\": \"#E5ECF6\", \"showlakes\": true, \"showland\": true, \"subunitcolor\": \"white\"}, \"hoverlabel\": {\"align\": \"left\"}, \"hovermode\": \"closest\", \"mapbox\": {\"style\": \"light\"}, \"paper_bgcolor\": \"white\", \"plot_bgcolor\": \"#E5ECF6\", \"polar\": {\"angularaxis\": {\"gridcolor\": \"white\", \"linecolor\": \"white\", \"ticks\": \"\"}, \"bgcolor\": \"#E5ECF6\", \"radialaxis\": {\"gridcolor\": \"white\", \"linecolor\": \"white\", \"ticks\": \"\"}}, \"scene\": {\"xaxis\": {\"backgroundcolor\": \"#E5ECF6\", \"gridcolor\": \"white\", \"gridwidth\": 2, \"linecolor\": \"white\", \"showbackground\": true, \"ticks\": \"\", \"zerolinecolor\": \"white\"}, \"yaxis\": {\"backgroundcolor\": \"#E5ECF6\", \"gridcolor\": \"white\", \"gridwidth\": 2, \"linecolor\": \"white\", \"showbackground\": true, \"ticks\": \"\", \"zerolinecolor\": \"white\"}, \"zaxis\": {\"backgroundcolor\": \"#E5ECF6\", \"gridcolor\": \"white\", \"gridwidth\": 2, \"linecolor\": \"white\", \"showbackground\": true, \"ticks\": \"\", \"zerolinecolor\": \"white\"}}, \"shapedefaults\": {\"line\": {\"color\": \"#2a3f5f\"}}, \"ternary\": {\"aaxis\": {\"gridcolor\": \"white\", \"linecolor\": \"white\", \"ticks\": \"\"}, \"baxis\": {\"gridcolor\": \"white\", \"linecolor\": \"white\", \"ticks\": \"\"}, \"bgcolor\": \"#E5ECF6\", \"caxis\": {\"gridcolor\": \"white\", \"linecolor\": \"white\", \"ticks\": \"\"}}, \"title\": {\"x\": 0.05}, \"xaxis\": {\"automargin\": true, \"gridcolor\": \"white\", \"linecolor\": \"white\", \"ticks\": \"\", \"title\": {\"standoff\": 15}, \"zerolinecolor\": \"white\", \"zerolinewidth\": 2}, \"yaxis\": {\"automargin\": true, \"gridcolor\": \"white\", \"linecolor\": \"white\", \"ticks\": \"\", \"title\": {\"standoff\": 15}, \"zerolinecolor\": \"white\", \"zerolinewidth\": 2}}}, \"width\": 900, \"xaxis\": {\"anchor\": \"y\", \"domain\": [0.0, 0.49], \"linecolor\": \"grey\", \"linewidth\": 2, \"showline\": true}, \"xaxis2\": {\"anchor\": \"y2\", \"domain\": [0.51, 1.0], \"linecolor\": \"grey\", \"linewidth\": 2, \"matches\": \"x\", \"showline\": true}, \"xaxis3\": {\"anchor\": \"y3\", \"domain\": [0.0, 0.49], \"linecolor\": \"grey\", \"linewidth\": 2, \"matches\": \"x\", \"showline\": true, \"showticklabels\": false}, \"xaxis4\": {\"anchor\": \"y4\", \"domain\": [0.51, 1.0], \"linecolor\": \"grey\", \"linewidth\": 2, \"matches\": \"x\", \"showline\": true, \"showticklabels\": false}, \"xaxis5\": {\"anchor\": \"y5\", \"domain\": [0.0, 0.49], \"linecolor\": \"grey\", \"linewidth\": 2, \"matches\": \"x\", \"showline\": true, \"showticklabels\": false}, \"xaxis6\": {\"anchor\": \"y6\", \"domain\": [0.51, 1.0], \"linecolor\": \"grey\", \"linewidth\": 2, \"matches\": \"x\", \"showline\": true, \"showticklabels\": false}, \"yaxis\": {\"anchor\": \"x\", \"domain\": [0.0, 0.2866666666666666], \"linecolor\": \"grey\", \"linewidth\": 2, \"showline\": true, \"showticklabels\": true, \"title\": {\"text\": \"value\"}}, \"yaxis2\": {\"anchor\": \"x2\", \"domain\": [0.0, 0.2866666666666666], \"linecolor\": \"grey\", \"linewidth\": 2, \"showline\": true, \"showticklabels\": true}, \"yaxis3\": {\"anchor\": \"x3\", \"domain\": [0.35666666666666663, 0.6433333333333333], \"linecolor\": \"grey\", \"linewidth\": 2, \"showline\": true, \"showticklabels\": true, \"title\": {\"text\": \"value\"}}, \"yaxis4\": {\"anchor\": \"x4\", \"domain\": [0.35666666666666663, 0.6433333333333333], \"linecolor\": \"grey\", \"linewidth\": 2, \"showline\": true, \"showticklabels\": true}, \"yaxis5\": {\"anchor\": \"x5\", \"domain\": [0.7133333333333333, 0.9999999999999999], \"linecolor\": \"grey\", \"linewidth\": 2, \"showline\": true, \"showticklabels\": true, \"title\": {\"text\": \"value\"}}, \"yaxis6\": {\"anchor\": \"x6\", \"domain\": [0.7133333333333333, 0.9999999999999999], \"linecolor\": \"grey\", \"linewidth\": 2, \"showline\": true, \"showticklabels\": false}},\n",
              "                        {\"responsive\": true}\n",
              "                    ).then(function(){\n",
              "                            \n",
              "var gd = document.getElementById('d804da1a-7479-41e0-9882-5b45f39ec2e3');\n",
              "var x = new MutationObserver(function (mutations, observer) {{\n",
              "        var display = window.getComputedStyle(gd).display;\n",
              "        if (!display || display === 'none') {{\n",
              "            console.log([gd, 'removed!']);\n",
              "            Plotly.purge(gd);\n",
              "            observer.disconnect();\n",
              "        }}\n",
              "}});\n",
              "\n",
              "// Listen for the removal of the full notebook cells\n",
              "var notebookContainer = gd.closest('#notebook-container');\n",
              "if (notebookContainer) {{\n",
              "    x.observe(notebookContainer, {childList: true});\n",
              "}}\n",
              "\n",
              "// Listen for the clearing of the current output cell\n",
              "var outputEl = gd.closest('.output');\n",
              "if (outputEl) {{\n",
              "    x.observe(outputEl, {childList: true});\n",
              "}}\n",
              "\n",
              "                        })\n",
              "                };\n",
              "                \n",
              "            </script>\n",
              "        </div>\n",
              "</body>\n",
              "</html>"
            ]
          },
          "metadata": {}
        }
      ]
    },
    {
      "cell_type": "code",
      "metadata": {
        "id": "zuoF6QFe7WkD"
      },
      "source": [
        "#Before handlig missing values. let's remove ouliers from the columns we are going to analyze\n",
        "df=df.drop(df[df['Income']>600000].index)\n"
      ],
      "execution_count": 18,
      "outputs": []
    },
    {
      "cell_type": "code",
      "metadata": {
        "id": "xjhOBiAH_VDJ"
      },
      "source": [
        "#Age have 3 values that are above the upper fence, as they are 121, 122, 128, we can consider these as outliers, so let's drop them.\n",
        "df=df.drop(df[df['Age']>120].index)"
      ],
      "execution_count": 19,
      "outputs": []
    },
    {
      "cell_type": "markdown",
      "metadata": {
        "id": "sGkygc4fOiQe"
      },
      "source": [
        "#Visual EDA\n",
        "\n",
        "* which country purchases the most?\n",
        "* Which educational segment purchase more Wine?\n",
        "* People with no chirldren buy less than people with kinds?\n",
        "* How much do people spend according to their income?\n",
        "* Which sales channel is the most effective?\n",
        "* How many products per category are sell in every sales channel?\n",
        "* Is the a correlation between the number of visits to the web site and the purchases made through the web site?\n",
        "* what is the % of customers that accepted the offer through the 5th campaigns?\n",
        "* Can we identify, what kind of customers would accept the offer in the 1st and 2th campaign?\n",
        "* what segment of clients complains the most?\n",
        "* Is there any correlation between variables?"
      ]
    },
    {
      "cell_type": "code",
      "metadata": {
        "colab": {
          "base_uri": "https://localhost:8080/",
          "height": 295
        },
        "id": "Jcxwa11Inc3M",
        "outputId": "fdd93dc8-b8fa-4e06-c859-be207816e236"
      },
      "source": [
        "#which country purchases the most?\n",
        "sns.barplot(x=df['Spending'], y=df['Country'])"
      ],
      "execution_count": null,
      "outputs": [
        {
          "output_type": "execute_result",
          "data": {
            "text/plain": [
              "<matplotlib.axes._subplots.AxesSubplot at 0x7f04d589d690>"
            ]
          },
          "metadata": {},
          "execution_count": 23
        },
        {
          "output_type": "display_data",
          "data": {
            "image/png": "[encoded data removed]",
            "text/plain": [
              "<Figure size 432x288 with 1 Axes>"
            ]
          },
          "metadata": {
            "needs_background": "light"
          }
        }
      ]
    },
    {
      "cell_type": "code",
      "metadata": {
        "colab": {
          "base_uri": "https://localhost:8080/",
          "height": 295
        },
        "id": "4_6sZDvioAXP",
        "outputId": "062a4a5f-5edc-48a2-82a5-f76bc96e5c46"
      },
      "source": [
        "#Which educational segment purchase more Wine?\n",
        "sns.barplot(x=df['MntWines'],y=df['Education'])"
      ],
      "execution_count": null,
      "outputs": [
        {
          "output_type": "execute_result",
          "data": {
            "text/plain": [
              "<matplotlib.axes._subplots.AxesSubplot at 0x7f04d57ebd90>"
            ]
          },
          "metadata": {},
          "execution_count": 24
        },
        {
          "output_type": "display_data",
          "data": {
            "image/png": "[encoded data removed]",
            "text/plain": [
              "<Figure size 432x288 with 1 Axes>"
            ]
          },
          "metadata": {
            "needs_background": "light"
          }
        }
      ]
    },
    {
      "cell_type": "code",
      "metadata": {
        "colab": {
          "base_uri": "https://localhost:8080/",
          "height": 297
        },
        "id": "T1UDBvjModXj",
        "outputId": "86f01a8d-2a7f-4551-819a-d7d496b47779"
      },
      "source": [
        "#People with no chirldren buy less than people with kinds?\n",
        "sns.barplot(y=df['Spending'], x=df['Children'])"
      ],
      "execution_count": null,
      "outputs": [
        {
          "output_type": "execute_result",
          "data": {
            "text/plain": [
              "<matplotlib.axes._subplots.AxesSubplot at 0x7f04d3312fd0>"
            ]
          },
          "metadata": {},
          "execution_count": 29
        },
        {
          "output_type": "display_data",
          "data": {
            "image/png": "[encoded data removed]",
            "text/plain": [
              "<Figure size 432x288 with 1 Axes>"
            ]
          },
          "metadata": {
            "needs_background": "light"
          }
        }
      ]
    },
    {
      "cell_type": "code",
      "metadata": {
        "colab": {
          "base_uri": "https://localhost:8080/",
          "height": 460
        },
        "id": "UHOZA1IapOaY",
        "outputId": "0da51727-12b8-4eef-f3c7-d622a68593f1"
      },
      "source": [
        "#How much do people spend according to their income?\n",
        "f, ax=plt.subplots(figsize=(7,7))\n",
        "sns.kdeplot(data=df, x=df['Income'], y=df['Spending'])"
      ],
      "execution_count": null,
      "outputs": [
        {
          "output_type": "execute_result",
          "data": {
            "text/plain": [
              "<matplotlib.axes._subplots.AxesSubplot at 0x7f04d3065610>"
            ]
          },
          "metadata": {},
          "execution_count": 40
        },
        {
          "output_type": "display_data",
          "data": {
            "image/png": "[encoded data removed]",
            "text/plain": [
              "<Figure size 504x504 with 1 Axes>"
            ]
          },
          "metadata": {
            "needs_background": "light"
          }
        }
      ]
    },
    {
      "cell_type": "code",
      "metadata": {
        "id": "DDxKxJWdslfm"
      },
      "source": [
        "#Which sales channel is the most effective?\n",
        "sales_channels=df[['NumCatalogPurchases','NumDealsPurchases','NumWebPurchases','NumCatalogPurchases','NumStorePurchases']]\n",
        "sales_channels=sales_channels.melt()"
      ],
      "execution_count": null,
      "outputs": []
    },
    {
      "cell_type": "code",
      "metadata": {
        "id": "9Abd-3lBwv2w"
      },
      "source": [
        "Num_per_channel=sales_channels.groupby(by=sales_channels['variable'],as_index=False).sum()"
      ],
      "execution_count": null,
      "outputs": []
    },
    {
      "cell_type": "code",
      "metadata": {
        "colab": {
          "base_uri": "https://localhost:8080/",
          "height": 295
        },
        "id": "KK1AkHcXwMTQ",
        "outputId": "64cf8b22-fac4-44ed-f735-b5e31555d0e0"
      },
      "source": [
        "sns.barplot(y=Num_per_channel['variable'],x=Num_per_channel['value'])"
      ],
      "execution_count": null,
      "outputs": [
        {
          "output_type": "execute_result",
          "data": {
            "text/plain": [
              "<matplotlib.axes._subplots.AxesSubplot at 0x7f04d059dad0>"
            ]
          },
          "metadata": {},
          "execution_count": 65
        },
        {
          "output_type": "display_data",
          "data": {
            "image/png": "[encoded data removed]",
            "text/plain": [
              "<Figure size 432x288 with 1 Axes>"
            ]
          },
          "metadata": {
            "needs_background": "light"
          }
        }
      ]
    },
    {
      "cell_type": "code",
      "metadata": {
        "id": "hOGOxUnJ0H7Z"
      },
      "source": [
        "#what is the total amount spended in every product category?\n",
        "products=df[['MntWines',\t'MntFruits',\t'MntMeatProducts','MntFishProducts', 'MntSweetProducts','MntGoldProds']]\n",
        "products=products.melt()\n"
      ],
      "execution_count": null,
      "outputs": []
    },
    {
      "cell_type": "code",
      "metadata": {
        "id": "HkwEbfDc204D"
      },
      "source": [
        "total_products=products.groupby(by=products['variable'],as_index=False).sum()"
      ],
      "execution_count": null,
      "outputs": []
    },
    {
      "cell_type": "code",
      "metadata": {
        "colab": {
          "base_uri": "https://localhost:8080/",
          "height": 295
        },
        "id": "wCMTqnWa2b_r",
        "outputId": "46b13c79-2c35-4165-e1a1-f5a844f0a5b7"
      },
      "source": [
        "sns.barplot(x=total_products['value'], y=total_products['variable'])"
      ],
      "execution_count": null,
      "outputs": [
        {
          "output_type": "execute_result",
          "data": {
            "text/plain": [
              "<matplotlib.axes._subplots.AxesSubplot at 0x7f04d03644d0>"
            ]
          },
          "metadata": {},
          "execution_count": 82
        },
        {
          "output_type": "display_data",
          "data": {
            "image/png": "[encoded data removed]",
            "text/plain": [
              "<Figure size 432x288 with 1 Axes>"
            ]
          },
          "metadata": {
            "needs_background": "light"
          }
        }
      ]
    },
    {
      "cell_type": "code",
      "metadata": {
        "colab": {
          "base_uri": "https://localhost:8080/"
        },
        "id": "C0W4xhcu3qiC",
        "outputId": "1eef6b53-6fec-4965-f5d6-33486c25d858"
      },
      "source": [
        "#what is the % of customers that accepted the offer through the 5th campaigns?\n",
        "campaign=df[['AcceptedCmp3',\t'AcceptedCmp4',\t'AcceptedCmp5',\t'AcceptedCmp1',\t'AcceptedCmp2']]\n",
        "campaign.melt().sum()"
      ],
      "execution_count": null,
      "outputs": [
        {
          "output_type": "execute_result",
          "data": {
            "text/plain": [
              "variable    AcceptedCmp3AcceptedCmp3AcceptedCmp3AcceptedCm...\n",
              "value                                                     666\n",
              "dtype: object"
            ]
          },
          "metadata": {},
          "execution_count": 91
        }
      ]
    },
    {
      "cell_type": "code",
      "metadata": {
        "id": "UZ24LiBpHpIi"
      },
      "source": [
        "camp_perform=campaign.melt().groupby('variable').sum()"
      ],
      "execution_count": null,
      "outputs": []
    },
    {
      "cell_type": "code",
      "metadata": {
        "colab": {
          "base_uri": "https://localhost:8080/",
          "height": 230
        },
        "id": "fqilQ8swIPPs",
        "outputId": "fb0e30d9-c387-47b5-b42c-df16fcbf6908"
      },
      "source": [
        "camp_perform['percent']=camp_perform['value']/666\n",
        "camp_perform"
      ],
      "execution_count": null,
      "outputs": [
        {
          "output_type": "execute_result",
          "data": {
            "text/html": [
              "<div>\n",
              "<style scoped>\n",
              "    .dataframe tbody tr th:only-of-type {\n",
              "        vertical-align: middle;\n",
              "    }\n",
              "\n",
              "    .dataframe tbody tr th {\n",
              "        vertical-align: top;\n",
              "    }\n",
              "\n",
              "    .dataframe thead th {\n",
              "        text-align: right;\n",
              "    }\n",
              "</style>\n",
              "<table border=\"1\" class=\"dataframe\">\n",
              "  <thead>\n",
              "    <tr style=\"text-align: right;\">\n",
              "      <th></th>\n",
              "      <th>value</th>\n",
              "      <th>percent</th>\n",
              "    </tr>\n",
              "    <tr>\n",
              "      <th>variable</th>\n",
              "      <th></th>\n",
              "      <th></th>\n",
              "    </tr>\n",
              "  </thead>\n",
              "  <tbody>\n",
              "    <tr>\n",
              "      <th>AcceptedCmp1</th>\n",
              "      <td>144</td>\n",
              "      <td>0.22</td>\n",
              "    </tr>\n",
              "    <tr>\n",
              "      <th>AcceptedCmp2</th>\n",
              "      <td>30</td>\n",
              "      <td>0.05</td>\n",
              "    </tr>\n",
              "    <tr>\n",
              "      <th>AcceptedCmp3</th>\n",
              "      <td>163</td>\n",
              "      <td>0.24</td>\n",
              "    </tr>\n",
              "    <tr>\n",
              "      <th>AcceptedCmp4</th>\n",
              "      <td>167</td>\n",
              "      <td>0.25</td>\n",
              "    </tr>\n",
              "    <tr>\n",
              "      <th>AcceptedCmp5</th>\n",
              "      <td>162</td>\n",
              "      <td>0.24</td>\n",
              "    </tr>\n",
              "  </tbody>\n",
              "</table>\n",
              "</div>"
            ],
            "text/plain": [
              "              value  percent\n",
              "variable                    \n",
              "AcceptedCmp1    144     0.22\n",
              "AcceptedCmp2     30     0.05\n",
              "AcceptedCmp3    163     0.24\n",
              "AcceptedCmp4    167     0.25\n",
              "AcceptedCmp5    162     0.24"
            ]
          },
          "metadata": {},
          "execution_count": 96
        }
      ]
    },
    {
      "cell_type": "markdown",
      "metadata": {
        "id": "o5BXP7owJml6"
      },
      "source": [
        "##Logistic Regression"
      ]
    },
    {
      "cell_type": "code",
      "metadata": {
        "colab": {
          "base_uri": "https://localhost:8080/",
          "height": 290
        },
        "id": "wQ0muNepNVvU",
        "outputId": "fc05aaa5-f083-4a0f-fde6-951b82fb0449"
      },
      "source": [
        "#What kind of customer accept an offer in the first campaing?\n",
        "first_camp=df[df['AcceptedCmp1']>0]\n",
        "first_camp[['Age','Income','Edu_years','Spending','Recency','Children']].describe()"
      ],
      "execution_count": 22,
      "outputs": [
        {
          "output_type": "execute_result",
          "data": {
            "text/html": [
              "<div>\n",
              "<style scoped>\n",
              "    .dataframe tbody tr th:only-of-type {\n",
              "        vertical-align: middle;\n",
              "    }\n",
              "\n",
              "    .dataframe tbody tr th {\n",
              "        vertical-align: top;\n",
              "    }\n",
              "\n",
              "    .dataframe thead th {\n",
              "        text-align: right;\n",
              "    }\n",
              "</style>\n",
              "<table border=\"1\" class=\"dataframe\">\n",
              "  <thead>\n",
              "    <tr style=\"text-align: right;\">\n",
              "      <th></th>\n",
              "      <th>Age</th>\n",
              "      <th>Income</th>\n",
              "      <th>Edu_years</th>\n",
              "      <th>Spending</th>\n",
              "      <th>Recency</th>\n",
              "      <th>Children</th>\n",
              "    </tr>\n",
              "  </thead>\n",
              "  <tbody>\n",
              "    <tr>\n",
              "      <th>count</th>\n",
              "      <td>144.00</td>\n",
              "      <td>144.00</td>\n",
              "      <td>144.00</td>\n",
              "      <td>144.00</td>\n",
              "      <td>144.00</td>\n",
              "      <td>144.00</td>\n",
              "    </tr>\n",
              "    <tr>\n",
              "      <th>mean</th>\n",
              "      <td>52.47</td>\n",
              "      <td>78324.44</td>\n",
              "      <td>15.64</td>\n",
              "      <td>1482.22</td>\n",
              "      <td>46.98</td>\n",
              "      <td>0.31</td>\n",
              "    </tr>\n",
              "    <tr>\n",
              "      <th>std</th>\n",
              "      <td>13.53</td>\n",
              "      <td>12180.69</td>\n",
              "      <td>3.02</td>\n",
              "      <td>507.38</td>\n",
              "      <td>28.38</td>\n",
              "      <td>0.63</td>\n",
              "    </tr>\n",
              "    <tr>\n",
              "      <th>min</th>\n",
              "      <td>27.00</td>\n",
              "      <td>36086.00</td>\n",
              "      <td>12.00</td>\n",
              "      <td>265.00</td>\n",
              "      <td>1.00</td>\n",
              "      <td>0.00</td>\n",
              "    </tr>\n",
              "    <tr>\n",
              "      <th>25%</th>\n",
              "      <td>42.00</td>\n",
              "      <td>72904.50</td>\n",
              "      <td>14.00</td>\n",
              "      <td>1126.25</td>\n",
              "      <td>25.00</td>\n",
              "      <td>0.00</td>\n",
              "    </tr>\n",
              "    <tr>\n",
              "      <th>50%</th>\n",
              "      <td>51.50</td>\n",
              "      <td>79767.00</td>\n",
              "      <td>14.00</td>\n",
              "      <td>1513.50</td>\n",
              "      <td>45.50</td>\n",
              "      <td>0.00</td>\n",
              "    </tr>\n",
              "    <tr>\n",
              "      <th>75%</th>\n",
              "      <td>64.00</td>\n",
              "      <td>85625.25</td>\n",
              "      <td>17.00</td>\n",
              "      <td>1853.00</td>\n",
              "      <td>71.25</td>\n",
              "      <td>0.00</td>\n",
              "    </tr>\n",
              "    <tr>\n",
              "      <th>max</th>\n",
              "      <td>77.00</td>\n",
              "      <td>105471.00</td>\n",
              "      <td>21.00</td>\n",
              "      <td>2524.00</td>\n",
              "      <td>99.00</td>\n",
              "      <td>3.00</td>\n",
              "    </tr>\n",
              "  </tbody>\n",
              "</table>\n",
              "</div>"
            ],
            "text/plain": [
              "         Age    Income  Edu_years  Spending  Recency  Children\n",
              "count 144.00    144.00     144.00    144.00   144.00    144.00\n",
              "mean   52.47  78324.44      15.64   1482.22    46.98      0.31\n",
              "std    13.53  12180.69       3.02    507.38    28.38      0.63\n",
              "min    27.00  36086.00      12.00    265.00     1.00      0.00\n",
              "25%    42.00  72904.50      14.00   1126.25    25.00      0.00\n",
              "50%    51.50  79767.00      14.00   1513.50    45.50      0.00\n",
              "75%    64.00  85625.25      17.00   1853.00    71.25      0.00\n",
              "max    77.00 105471.00      21.00   2524.00    99.00      3.00"
            ]
          },
          "metadata": {},
          "execution_count": 22
        }
      ]
    },
    {
      "cell_type": "code",
      "metadata": {
        "id": "1J59XKtwJgmy"
      },
      "source": [
        "#Develop a model to predict if a customer would accept an offer in the 1st campaing\n",
        "In_couple={'Marital_Status':['Divorced', 'Single', 'Married', 'Together', 'Widow', 'Alone','Absurd', 'YOLO'],\n",
        "            'Couple':[0,0,1,1,0,0,0,0]}\n",
        "In_couple=pd.DataFrame(In_couple)"
      ],
      "execution_count": 21,
      "outputs": []
    },
    {
      "cell_type": "code",
      "metadata": {
        "id": "EhZq6EhtKA3S"
      },
      "source": [
        "df=pd.merge(df,In_couple, on='Marital_Status')"
      ],
      "execution_count": 24,
      "outputs": []
    },
    {
      "cell_type": "code",
      "metadata": {
        "colab": {
          "base_uri": "https://localhost:8080/",
          "height": 428
        },
        "id": "f8TFFCni6cSJ",
        "outputId": "b1401b8b-6f17-4e27-d5e6-d7470f23aa9a"
      },
      "source": [
        "df\n"
      ],
      "execution_count": 25,
      "outputs": [
        {
          "output_type": "execute_result",
          "data": {
            "text/html": [
              "<div>\n",
              "<style scoped>\n",
              "    .dataframe tbody tr th:only-of-type {\n",
              "        vertical-align: middle;\n",
              "    }\n",
              "\n",
              "    .dataframe tbody tr th {\n",
              "        vertical-align: top;\n",
              "    }\n",
              "\n",
              "    .dataframe thead th {\n",
              "        text-align: right;\n",
              "    }\n",
              "</style>\n",
              "<table border=\"1\" class=\"dataframe\">\n",
              "  <thead>\n",
              "    <tr style=\"text-align: right;\">\n",
              "      <th></th>\n",
              "      <th>ID</th>\n",
              "      <th>Year_Birth</th>\n",
              "      <th>Education</th>\n",
              "      <th>Marital_Status</th>\n",
              "      <th>Income</th>\n",
              "      <th>Kidhome</th>\n",
              "      <th>Teenhome</th>\n",
              "      <th>Dt_Customer</th>\n",
              "      <th>Recency</th>\n",
              "      <th>MntWines</th>\n",
              "      <th>MntFruits</th>\n",
              "      <th>MntMeatProducts</th>\n",
              "      <th>MntFishProducts</th>\n",
              "      <th>MntSweetProducts</th>\n",
              "      <th>MntGoldProds</th>\n",
              "      <th>NumDealsPurchases</th>\n",
              "      <th>NumWebPurchases</th>\n",
              "      <th>NumCatalogPurchases</th>\n",
              "      <th>NumStorePurchases</th>\n",
              "      <th>NumWebVisitsMonth</th>\n",
              "      <th>AcceptedCmp3</th>\n",
              "      <th>AcceptedCmp4</th>\n",
              "      <th>AcceptedCmp5</th>\n",
              "      <th>AcceptedCmp1</th>\n",
              "      <th>AcceptedCmp2</th>\n",
              "      <th>Response</th>\n",
              "      <th>Complain</th>\n",
              "      <th>Country</th>\n",
              "      <th>Age</th>\n",
              "      <th>Spending</th>\n",
              "      <th>Children</th>\n",
              "      <th>Edu_years</th>\n",
              "      <th>Couple</th>\n",
              "    </tr>\n",
              "  </thead>\n",
              "  <tbody>\n",
              "    <tr>\n",
              "      <th>0</th>\n",
              "      <td>1826</td>\n",
              "      <td>1970</td>\n",
              "      <td>Graduation</td>\n",
              "      <td>Divorced</td>\n",
              "      <td>84835.00</td>\n",
              "      <td>0</td>\n",
              "      <td>0</td>\n",
              "      <td>6/16/14</td>\n",
              "      <td>0</td>\n",
              "      <td>189</td>\n",
              "      <td>104</td>\n",
              "      <td>379</td>\n",
              "      <td>111</td>\n",
              "      <td>189</td>\n",
              "      <td>218</td>\n",
              "      <td>1</td>\n",
              "      <td>4</td>\n",
              "      <td>4</td>\n",
              "      <td>6</td>\n",
              "      <td>1</td>\n",
              "      <td>0</td>\n",
              "      <td>0</td>\n",
              "      <td>0</td>\n",
              "      <td>0</td>\n",
              "      <td>0</td>\n",
              "      <td>1</td>\n",
              "      <td>0</td>\n",
              "      <td>SP</td>\n",
              "      <td>51</td>\n",
              "      <td>1190</td>\n",
              "      <td>0</td>\n",
              "      <td>14</td>\n",
              "      <td>0</td>\n",
              "    </tr>\n",
              "    <tr>\n",
              "      <th>1</th>\n",
              "      <td>340</td>\n",
              "      <td>1970</td>\n",
              "      <td>Graduation</td>\n",
              "      <td>Divorced</td>\n",
              "      <td>72967.00</td>\n",
              "      <td>0</td>\n",
              "      <td>1</td>\n",
              "      <td>12/15/12</td>\n",
              "      <td>1</td>\n",
              "      <td>158</td>\n",
              "      <td>35</td>\n",
              "      <td>179</td>\n",
              "      <td>0</td>\n",
              "      <td>0</td>\n",
              "      <td>125</td>\n",
              "      <td>2</td>\n",
              "      <td>7</td>\n",
              "      <td>2</td>\n",
              "      <td>8</td>\n",
              "      <td>5</td>\n",
              "      <td>1</td>\n",
              "      <td>0</td>\n",
              "      <td>0</td>\n",
              "      <td>0</td>\n",
              "      <td>0</td>\n",
              "      <td>1</td>\n",
              "      <td>0</td>\n",
              "      <td>GER</td>\n",
              "      <td>51</td>\n",
              "      <td>497</td>\n",
              "      <td>1</td>\n",
              "      <td>14</td>\n",
              "      <td>0</td>\n",
              "    </tr>\n",
              "    <tr>\n",
              "      <th>2</th>\n",
              "      <td>8461</td>\n",
              "      <td>1962</td>\n",
              "      <td>Graduation</td>\n",
              "      <td>Divorced</td>\n",
              "      <td>46102.00</td>\n",
              "      <td>2</td>\n",
              "      <td>1</td>\n",
              "      <td>3/10/14</td>\n",
              "      <td>3</td>\n",
              "      <td>14</td>\n",
              "      <td>0</td>\n",
              "      <td>1</td>\n",
              "      <td>0</td>\n",
              "      <td>0</td>\n",
              "      <td>1</td>\n",
              "      <td>1</td>\n",
              "      <td>1</td>\n",
              "      <td>0</td>\n",
              "      <td>2</td>\n",
              "      <td>7</td>\n",
              "      <td>0</td>\n",
              "      <td>0</td>\n",
              "      <td>0</td>\n",
              "      <td>0</td>\n",
              "      <td>0</td>\n",
              "      <td>0</td>\n",
              "      <td>0</td>\n",
              "      <td>SP</td>\n",
              "      <td>59</td>\n",
              "      <td>16</td>\n",
              "      <td>3</td>\n",
              "      <td>14</td>\n",
              "      <td>0</td>\n",
              "    </tr>\n",
              "    <tr>\n",
              "      <th>3</th>\n",
              "      <td>10177</td>\n",
              "      <td>1954</td>\n",
              "      <td>Graduation</td>\n",
              "      <td>Divorced</td>\n",
              "      <td>72071.00</td>\n",
              "      <td>0</td>\n",
              "      <td>1</td>\n",
              "      <td>2/14/13</td>\n",
              "      <td>4</td>\n",
              "      <td>531</td>\n",
              "      <td>69</td>\n",
              "      <td>300</td>\n",
              "      <td>150</td>\n",
              "      <td>138</td>\n",
              "      <td>150</td>\n",
              "      <td>3</td>\n",
              "      <td>5</td>\n",
              "      <td>4</td>\n",
              "      <td>8</td>\n",
              "      <td>2</td>\n",
              "      <td>0</td>\n",
              "      <td>0</td>\n",
              "      <td>0</td>\n",
              "      <td>0</td>\n",
              "      <td>0</td>\n",
              "      <td>0</td>\n",
              "      <td>0</td>\n",
              "      <td>SP</td>\n",
              "      <td>67</td>\n",
              "      <td>1338</td>\n",
              "      <td>1</td>\n",
              "      <td>14</td>\n",
              "      <td>0</td>\n",
              "    </tr>\n",
              "    <tr>\n",
              "      <th>4</th>\n",
              "      <td>2429</td>\n",
              "      <td>1954</td>\n",
              "      <td>Graduation</td>\n",
              "      <td>Divorced</td>\n",
              "      <td>72071.00</td>\n",
              "      <td>0</td>\n",
              "      <td>1</td>\n",
              "      <td>2/14/13</td>\n",
              "      <td>4</td>\n",
              "      <td>531</td>\n",
              "      <td>69</td>\n",
              "      <td>300</td>\n",
              "      <td>150</td>\n",
              "      <td>138</td>\n",
              "      <td>150</td>\n",
              "      <td>3</td>\n",
              "      <td>5</td>\n",
              "      <td>4</td>\n",
              "      <td>8</td>\n",
              "      <td>2</td>\n",
              "      <td>0</td>\n",
              "      <td>0</td>\n",
              "      <td>0</td>\n",
              "      <td>0</td>\n",
              "      <td>0</td>\n",
              "      <td>0</td>\n",
              "      <td>0</td>\n",
              "      <td>CA</td>\n",
              "      <td>67</td>\n",
              "      <td>1338</td>\n",
              "      <td>1</td>\n",
              "      <td>14</td>\n",
              "      <td>0</td>\n",
              "    </tr>\n",
              "    <tr>\n",
              "      <th>...</th>\n",
              "      <td>...</td>\n",
              "      <td>...</td>\n",
              "      <td>...</td>\n",
              "      <td>...</td>\n",
              "      <td>...</td>\n",
              "      <td>...</td>\n",
              "      <td>...</td>\n",
              "      <td>...</td>\n",
              "      <td>...</td>\n",
              "      <td>...</td>\n",
              "      <td>...</td>\n",
              "      <td>...</td>\n",
              "      <td>...</td>\n",
              "      <td>...</td>\n",
              "      <td>...</td>\n",
              "      <td>...</td>\n",
              "      <td>...</td>\n",
              "      <td>...</td>\n",
              "      <td>...</td>\n",
              "      <td>...</td>\n",
              "      <td>...</td>\n",
              "      <td>...</td>\n",
              "      <td>...</td>\n",
              "      <td>...</td>\n",
              "      <td>...</td>\n",
              "      <td>...</td>\n",
              "      <td>...</td>\n",
              "      <td>...</td>\n",
              "      <td>...</td>\n",
              "      <td>...</td>\n",
              "      <td>...</td>\n",
              "      <td>...</td>\n",
              "      <td>...</td>\n",
              "    </tr>\n",
              "    <tr>\n",
              "      <th>2231</th>\n",
              "      <td>433</td>\n",
              "      <td>1958</td>\n",
              "      <td>Master</td>\n",
              "      <td>Alone</td>\n",
              "      <td>61331.00</td>\n",
              "      <td>1</td>\n",
              "      <td>1</td>\n",
              "      <td>3/10/13</td>\n",
              "      <td>42</td>\n",
              "      <td>534</td>\n",
              "      <td>5</td>\n",
              "      <td>47</td>\n",
              "      <td>0</td>\n",
              "      <td>5</td>\n",
              "      <td>41</td>\n",
              "      <td>5</td>\n",
              "      <td>11</td>\n",
              "      <td>1</td>\n",
              "      <td>6</td>\n",
              "      <td>8</td>\n",
              "      <td>0</td>\n",
              "      <td>0</td>\n",
              "      <td>0</td>\n",
              "      <td>0</td>\n",
              "      <td>0</td>\n",
              "      <td>0</td>\n",
              "      <td>0</td>\n",
              "      <td>CA</td>\n",
              "      <td>63</td>\n",
              "      <td>632</td>\n",
              "      <td>2</td>\n",
              "      <td>17</td>\n",
              "      <td>0</td>\n",
              "    </tr>\n",
              "    <tr>\n",
              "      <th>2232</th>\n",
              "      <td>7734</td>\n",
              "      <td>1993</td>\n",
              "      <td>Graduation</td>\n",
              "      <td>Absurd</td>\n",
              "      <td>79244.00</td>\n",
              "      <td>0</td>\n",
              "      <td>0</td>\n",
              "      <td>12/19/12</td>\n",
              "      <td>58</td>\n",
              "      <td>471</td>\n",
              "      <td>102</td>\n",
              "      <td>125</td>\n",
              "      <td>212</td>\n",
              "      <td>61</td>\n",
              "      <td>245</td>\n",
              "      <td>1</td>\n",
              "      <td>4</td>\n",
              "      <td>10</td>\n",
              "      <td>7</td>\n",
              "      <td>1</td>\n",
              "      <td>0</td>\n",
              "      <td>0</td>\n",
              "      <td>1</td>\n",
              "      <td>1</td>\n",
              "      <td>0</td>\n",
              "      <td>1</td>\n",
              "      <td>0</td>\n",
              "      <td>AUS</td>\n",
              "      <td>28</td>\n",
              "      <td>1216</td>\n",
              "      <td>0</td>\n",
              "      <td>14</td>\n",
              "      <td>0</td>\n",
              "    </tr>\n",
              "    <tr>\n",
              "      <th>2233</th>\n",
              "      <td>4369</td>\n",
              "      <td>1957</td>\n",
              "      <td>Master</td>\n",
              "      <td>Absurd</td>\n",
              "      <td>65487.00</td>\n",
              "      <td>0</td>\n",
              "      <td>0</td>\n",
              "      <td>1/10/14</td>\n",
              "      <td>48</td>\n",
              "      <td>240</td>\n",
              "      <td>67</td>\n",
              "      <td>500</td>\n",
              "      <td>199</td>\n",
              "      <td>0</td>\n",
              "      <td>163</td>\n",
              "      <td>3</td>\n",
              "      <td>3</td>\n",
              "      <td>5</td>\n",
              "      <td>6</td>\n",
              "      <td>2</td>\n",
              "      <td>0</td>\n",
              "      <td>0</td>\n",
              "      <td>0</td>\n",
              "      <td>0</td>\n",
              "      <td>0</td>\n",
              "      <td>0</td>\n",
              "      <td>0</td>\n",
              "      <td>CA</td>\n",
              "      <td>64</td>\n",
              "      <td>1169</td>\n",
              "      <td>0</td>\n",
              "      <td>17</td>\n",
              "      <td>0</td>\n",
              "    </tr>\n",
              "    <tr>\n",
              "      <th>2234</th>\n",
              "      <td>492</td>\n",
              "      <td>1973</td>\n",
              "      <td>PhD</td>\n",
              "      <td>YOLO</td>\n",
              "      <td>48432.00</td>\n",
              "      <td>0</td>\n",
              "      <td>1</td>\n",
              "      <td>10/18/12</td>\n",
              "      <td>3</td>\n",
              "      <td>322</td>\n",
              "      <td>3</td>\n",
              "      <td>50</td>\n",
              "      <td>4</td>\n",
              "      <td>3</td>\n",
              "      <td>42</td>\n",
              "      <td>5</td>\n",
              "      <td>7</td>\n",
              "      <td>1</td>\n",
              "      <td>6</td>\n",
              "      <td>8</td>\n",
              "      <td>0</td>\n",
              "      <td>0</td>\n",
              "      <td>0</td>\n",
              "      <td>0</td>\n",
              "      <td>0</td>\n",
              "      <td>0</td>\n",
              "      <td>0</td>\n",
              "      <td>CA</td>\n",
              "      <td>48</td>\n",
              "      <td>424</td>\n",
              "      <td>1</td>\n",
              "      <td>21</td>\n",
              "      <td>0</td>\n",
              "    </tr>\n",
              "    <tr>\n",
              "      <th>2235</th>\n",
              "      <td>11133</td>\n",
              "      <td>1973</td>\n",
              "      <td>PhD</td>\n",
              "      <td>YOLO</td>\n",
              "      <td>48432.00</td>\n",
              "      <td>0</td>\n",
              "      <td>1</td>\n",
              "      <td>10/18/12</td>\n",
              "      <td>3</td>\n",
              "      <td>322</td>\n",
              "      <td>3</td>\n",
              "      <td>50</td>\n",
              "      <td>4</td>\n",
              "      <td>3</td>\n",
              "      <td>42</td>\n",
              "      <td>5</td>\n",
              "      <td>7</td>\n",
              "      <td>1</td>\n",
              "      <td>6</td>\n",
              "      <td>8</td>\n",
              "      <td>0</td>\n",
              "      <td>0</td>\n",
              "      <td>0</td>\n",
              "      <td>0</td>\n",
              "      <td>0</td>\n",
              "      <td>1</td>\n",
              "      <td>0</td>\n",
              "      <td>IND</td>\n",
              "      <td>48</td>\n",
              "      <td>424</td>\n",
              "      <td>1</td>\n",
              "      <td>21</td>\n",
              "      <td>0</td>\n",
              "    </tr>\n",
              "  </tbody>\n",
              "</table>\n",
              "<p>2236 rows × 33 columns</p>\n",
              "</div>"
            ],
            "text/plain": [
              "         ID  Year_Birth   Education  ... Children  Edu_years  Couple\n",
              "0      1826        1970  Graduation  ...        0         14       0\n",
              "1       340        1970  Graduation  ...        1         14       0\n",
              "2      8461        1962  Graduation  ...        3         14       0\n",
              "3     10177        1954  Graduation  ...        1         14       0\n",
              "4      2429        1954  Graduation  ...        1         14       0\n",
              "...     ...         ...         ...  ...      ...        ...     ...\n",
              "2231    433        1958      Master  ...        2         17       0\n",
              "2232   7734        1993  Graduation  ...        0         14       0\n",
              "2233   4369        1957      Master  ...        0         17       0\n",
              "2234    492        1973         PhD  ...        1         21       0\n",
              "2235  11133        1973         PhD  ...        1         21       0\n",
              "\n",
              "[2236 rows x 33 columns]"
            ]
          },
          "metadata": {},
          "execution_count": 25
        }
      ]
    },
    {
      "cell_type": "code",
      "metadata": {
        "id": "fnLWgpTpIs98"
      },
      "source": [
        "X=df[['Age','Edu_years','Income','Couple','Children']]\n",
        "y=df['AcceptedCmp1']"
      ],
      "execution_count": 26,
      "outputs": []
    },
    {
      "cell_type": "code",
      "metadata": {
        "colab": {
          "base_uri": "https://localhost:8080/"
        },
        "id": "CYt2bTtbMcfb",
        "outputId": "879a1923-f231-4599-f16b-06b4b3b34746"
      },
      "source": [
        "from sklearn.model_selection import train_test_split\n",
        "X_train, X_test, y_train, y_test = train_test_split(X,y,train_size=0.3)\n",
        "\n",
        "from sklearn.linear_model import LogisticRegression\n",
        "model = LogisticRegression()\n",
        "\n",
        "model.fit(X_train, y_train)"
      ],
      "execution_count": 27,
      "outputs": [
        {
          "output_type": "execute_result",
          "data": {
            "text/plain": [
              "LogisticRegression(C=1.0, class_weight=None, dual=False, fit_intercept=True,\n",
              "                   intercept_scaling=1, l1_ratio=None, max_iter=100,\n",
              "                   multi_class='auto', n_jobs=None, penalty='l2',\n",
              "                   random_state=None, solver='lbfgs', tol=0.0001, verbose=0,\n",
              "                   warm_start=False)"
            ]
          },
          "metadata": {},
          "execution_count": 27
        }
      ]
    },
    {
      "cell_type": "code",
      "metadata": {
        "colab": {
          "base_uri": "https://localhost:8080/"
        },
        "id": "lmTmgRynMjzd",
        "outputId": "31b93636-1f86-4834-8f77-e046f07a1860"
      },
      "source": [
        "model.predict(X_test)"
      ],
      "execution_count": 28,
      "outputs": [
        {
          "output_type": "execute_result",
          "data": {
            "text/plain": [
              "array([1, 0, 0, ..., 0, 0, 0])"
            ]
          },
          "metadata": {},
          "execution_count": 28
        }
      ]
    },
    {
      "cell_type": "code",
      "metadata": {
        "colab": {
          "base_uri": "https://localhost:8080/"
        },
        "id": "5XqLdljdMmJK",
        "outputId": "c7600087-3ee9-4b3f-9859-c09f5ffadb35"
      },
      "source": [
        "model.score(X_test,y_test)"
      ],
      "execution_count": 29,
      "outputs": [
        {
          "output_type": "execute_result",
          "data": {
            "text/plain": [
              "0.9323116219667944"
            ]
          },
          "metadata": {},
          "execution_count": 29
        }
      ]
    },
    {
      "cell_type": "code",
      "metadata": {
        "id": "PdEz4PDmQ4WY"
      },
      "source": [
        "#what segment of clients complains the most?\n",
        "complains=df[df['Complain']>0]"
      ],
      "execution_count": 30,
      "outputs": []
    },
    {
      "cell_type": "code",
      "metadata": {
        "id": "JhvDSwFGRjEt"
      },
      "source": [
        "complains=complains[['Age','Edu_years','Income','Couple','Children','Spending']]"
      ],
      "execution_count": 31,
      "outputs": []
    },
    {
      "cell_type": "code",
      "metadata": {
        "id": "eeJ6HRq7Slww"
      },
      "source": [
        "complains_melt=pd.melt(complains,value_vars=complains)"
      ],
      "execution_count": 32,
      "outputs": []
    },
    {
      "cell_type": "code",
      "metadata": {
        "colab": {
          "base_uri": "https://localhost:8080/",
          "height": 441
        },
        "id": "KWOGFgiPSuv1",
        "outputId": "ec082f1b-a483-4103-89a7-1414af42fab8"
      },
      "source": [
        "plot1=sns.FacetGrid(complains_melt, col='variable',col_wrap=3, sharex=False, sharey=False)\n",
        "plot1=plot1.map(sns.histplot,'value')"
      ],
      "execution_count": 33,
      "outputs": [
        {
          "output_type": "display_data",
          "data": {
            "image/png": "[encoded data removed]",
            "text/plain": [
              "<Figure size 648x432 with 6 Axes>"
            ]
          },
          "metadata": {
            "needs_background": "light"
          }
        }
      ]
    },
    {
      "cell_type": "code",
      "metadata": {
        "id": "tuhavsRkTscJ"
      },
      "source": [
        "#Is there any correlation between variables age,income, spending, couple, children, Edu_year, \n",
        "#NumDealsPurchases, NumWebPurchases,NumCatalogPurchases,NumStorePurchases?"
      ],
      "execution_count": null,
      "outputs": []
    },
    {
      "cell_type": "code",
      "metadata": {
        "id": "9PWAVy53UcsP"
      },
      "source": [
        "correlation=df[['Age','Income', 'Spending', 'Children', 'Edu_years','NumDealsPurchases', 'NumWebPurchases','NumCatalogPurchases','NumStorePurchases']]\n",
        "#'NumDealsPurchases', 'NumWebPurchases','NumCatalogPurchases','NumStorePurchases'"
      ],
      "execution_count": 34,
      "outputs": []
    },
    {
      "cell_type": "code",
      "metadata": {
        "colab": {
          "base_uri": "https://localhost:8080/",
          "height": 728
        },
        "id": "q5ihvKmUU__g",
        "outputId": "b98cbfb2-03fc-46a1-cc0e-b01e9dcc65b8"
      },
      "source": [
        "sns.set(rc={'figure.figsize':(12,10)})\n",
        "sns.heatmap(correlation.corr(),annot=True,fmt='.1g')"
      ],
      "execution_count": 35,
      "outputs": [
        {
          "output_type": "execute_result",
          "data": {
            "text/plain": [
              "<matplotlib.axes._subplots.AxesSubplot at 0x7f94ca682590>"
            ]
          },
          "metadata": {},
          "execution_count": 35
        },
        {
          "output_type": "display_data",
          "data": {
            "image/png": "[encoded data removed]",
            "text/plain": [
              "<Figure size 864x720 with 2 Axes>"
            ]
          },
          "metadata": {}
        }
      ]
    },
    {
      "cell_type": "code",
      "metadata": {
        "id": "xXXchBvzWkny"
      },
      "source": [
        "df.drop(columns=['Edu_years_y',\t'Edu_years'], inplace=True)"
      ],
      "execution_count": null,
      "outputs": []
    },
    {
      "cell_type": "code",
      "metadata": {
        "id": "29JGDNnBaBOn"
      },
      "source": [
        "df.to_csv('/sales_analysis.csv', index=False)\n",
        "!cp /sales_analysis.csv \"drive/My Drive/\""
      ],
      "execution_count": null,
      "outputs": []
    },
    {
      "cell_type": "markdown",
      "metadata": {
        "id": "XNx7l6m1PQN1"
      },
      "source": [
        "#Exportar productos y channels\n"
      ]
    },
    {
      "cell_type": "code",
      "metadata": {
        "id": "Px5sq04fPPY1"
      },
      "source": [
        "sales_channels=df[['ID','NumCatalogPurchases','NumDealsPurchases','NumWebPurchases','NumCatalogPurchases','NumStorePurchases']]\n",
        "sales_channels.to_csv('/sales_channels.csv', index=False)\n",
        "!cp /sales_channels.csv \"drive/My Drive/exportados Colab/\"\n"
      ],
      "execution_count": null,
      "outputs": []
    },
    {
      "cell_type": "code",
      "metadata": {
        "id": "bnpm4gzdRBM-"
      },
      "source": [
        "categories=df[['ID','MntWines', 'MntFruits','MntMeatProducts','MntFishProducts','MntSweetProducts','MntGoldProds']]\n"
      ],
      "execution_count": null,
      "outputs": []
    },
    {
      "cell_type": "code",
      "metadata": {
        "id": "sp0Sf0a8U0gt"
      },
      "source": [
        "categories=categories.rename(columns={'MntWines':'Wines', 'MntFruits':'Fruits','MntMeatProducts':'Meat','MntFishProducts':'Fish','MntSweetProducts':'Sweet','MntGoldProds':'Gold'})"
      ],
      "execution_count": null,
      "outputs": []
    },
    {
      "cell_type": "code",
      "metadata": {
        "id": "5vTG45J3T39s"
      },
      "source": [
        "categories=pd.melt(categories, id_vars=['ID'])"
      ],
      "execution_count": null,
      "outputs": []
    },
    {
      "cell_type": "code",
      "metadata": {
        "colab": {
          "base_uri": "https://localhost:8080/",
          "height": 408
        },
        "id": "0iTGsLVPVzjM",
        "outputId": "67b1e6b6-2c1a-46c6-e476-dc56052c8a67"
      },
      "source": [
        "categories"
      ],
      "execution_count": null,
      "outputs": [
        {
          "output_type": "execute_result",
          "data": {
            "text/html": [
              "<div>\n",
              "<style scoped>\n",
              "    .dataframe tbody tr th:only-of-type {\n",
              "        vertical-align: middle;\n",
              "    }\n",
              "\n",
              "    .dataframe tbody tr th {\n",
              "        vertical-align: top;\n",
              "    }\n",
              "\n",
              "    .dataframe thead th {\n",
              "        text-align: right;\n",
              "    }\n",
              "</style>\n",
              "<table border=\"1\" class=\"dataframe\">\n",
              "  <thead>\n",
              "    <tr style=\"text-align: right;\">\n",
              "      <th></th>\n",
              "      <th>ID</th>\n",
              "      <th>variable</th>\n",
              "      <th>value</th>\n",
              "    </tr>\n",
              "  </thead>\n",
              "  <tbody>\n",
              "    <tr>\n",
              "      <th>0</th>\n",
              "      <td>1826</td>\n",
              "      <td>Wines</td>\n",
              "      <td>189</td>\n",
              "    </tr>\n",
              "    <tr>\n",
              "      <th>1</th>\n",
              "      <td>1</td>\n",
              "      <td>Wines</td>\n",
              "      <td>464</td>\n",
              "    </tr>\n",
              "    <tr>\n",
              "      <th>2</th>\n",
              "      <td>10476</td>\n",
              "      <td>Wines</td>\n",
              "      <td>134</td>\n",
              "    </tr>\n",
              "    <tr>\n",
              "      <th>3</th>\n",
              "      <td>1386</td>\n",
              "      <td>Wines</td>\n",
              "      <td>10</td>\n",
              "    </tr>\n",
              "    <tr>\n",
              "      <th>4</th>\n",
              "      <td>5371</td>\n",
              "      <td>Wines</td>\n",
              "      <td>6</td>\n",
              "    </tr>\n",
              "    <tr>\n",
              "      <th>...</th>\n",
              "      <td>...</td>\n",
              "      <td>...</td>\n",
              "      <td>...</td>\n",
              "    </tr>\n",
              "    <tr>\n",
              "      <th>13411</th>\n",
              "      <td>5043</td>\n",
              "      <td>Gold</td>\n",
              "      <td>144</td>\n",
              "    </tr>\n",
              "    <tr>\n",
              "      <th>13412</th>\n",
              "      <td>1951</td>\n",
              "      <td>Gold</td>\n",
              "      <td>30</td>\n",
              "    </tr>\n",
              "    <tr>\n",
              "      <th>13413</th>\n",
              "      <td>3628</td>\n",
              "      <td>Gold</td>\n",
              "      <td>26</td>\n",
              "    </tr>\n",
              "    <tr>\n",
              "      <th>13414</th>\n",
              "      <td>8373</td>\n",
              "      <td>Gold</td>\n",
              "      <td>9</td>\n",
              "    </tr>\n",
              "    <tr>\n",
              "      <th>13415</th>\n",
              "      <td>3829</td>\n",
              "      <td>Gold</td>\n",
              "      <td>9</td>\n",
              "    </tr>\n",
              "  </tbody>\n",
              "</table>\n",
              "<p>13416 rows × 3 columns</p>\n",
              "</div>"
            ],
            "text/plain": [
              "          ID variable  value\n",
              "0       1826    Wines    189\n",
              "1          1    Wines    464\n",
              "2      10476    Wines    134\n",
              "3       1386    Wines     10\n",
              "4       5371    Wines      6\n",
              "...      ...      ...    ...\n",
              "13411   5043     Gold    144\n",
              "13412   1951     Gold     30\n",
              "13413   3628     Gold     26\n",
              "13414   8373     Gold      9\n",
              "13415   3829     Gold      9\n",
              "\n",
              "[13416 rows x 3 columns]"
            ]
          },
          "metadata": {},
          "execution_count": 41
        }
      ]
    },
    {
      "cell_type": "code",
      "metadata": {
        "id": "lxMaWd88UMWs"
      },
      "source": [
        "categories.to_csv('/categories.csv', index=False)\n",
        "!cp /categories.csv \"drive/My Drive/exportados Colab/\""
      ],
      "execution_count": null,
      "outputs": []
    }
  ]
}