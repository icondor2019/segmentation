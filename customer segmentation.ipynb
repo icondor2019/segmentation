{
  "nbformat": 4,
  "nbformat_minor": 0,
  "metadata": {
    "colab": {
      "name": "Copy of hypothesis_testing.ipynb",
      "provenance": [],
      "collapsed_sections": []
    },
    "kernelspec": {
      "name": "python3",
      "display_name": "Python 3"
    },
    "language_info": {
      "name": "python"
    }
  },
  "cells": [
    {
      "cell_type": "code",
      "metadata": {
        "id": "RcLIm1fQpOjH"
      },
      "source": [
        "import pandas as pd\n",
        "import numpy as np\n",
        "import matplotlib.pyplot as plt\n",
        "import seaborn as sns\n",
        "from sklearn.impute import KNNImputer\n",
        "\n",
        "\n"
      ],
      "execution_count": null,
      "outputs": []
    },
    {
      "cell_type": "code",
      "metadata": {
        "id": "b3FMhdWYp8AQ"
      },
      "source": [
        "path='//content/drive/MyDrive/DataSets'\n",
        "df=pd.read_csv(path+'/marketing_data.csv', sep=',')"
      ],
      "execution_count": null,
      "outputs": []
    },
    {
      "cell_type": "markdown",
      "metadata": {
        "id": "vx0a8kegrjfV"
      },
      "source": [
        "#Getting familiar with data"
      ]
    },
    {
      "cell_type": "code",
      "metadata": {
        "colab": {
          "base_uri": "https://localhost:8080/"
        },
        "id": "ceYs7bJWrPMv",
        "outputId": "c226ad09-651e-4dd8-a7bb-187d6f584867"
      },
      "source": [
        "df.info()\n"
      ],
      "execution_count": null,
      "outputs": [
        {
          "output_type": "stream",
          "name": "stdout",
          "text": [
            "<class 'pandas.core.frame.DataFrame'>\n",
            "RangeIndex: 2240 entries, 0 to 2239\n",
            "Data columns (total 28 columns):\n",
            " #   Column               Non-Null Count  Dtype \n",
            "---  ------               --------------  ----- \n",
            " 0   ID                   2240 non-null   int64 \n",
            " 1   Year_Birth           2240 non-null   int64 \n",
            " 2   Education            2240 non-null   object\n",
            " 3   Marital_Status       2240 non-null   object\n",
            " 4    Income              2216 non-null   object\n",
            " 5   Kidhome              2240 non-null   int64 \n",
            " 6   Teenhome             2240 non-null   int64 \n",
            " 7   Dt_Customer          2240 non-null   object\n",
            " 8   Recency              2240 non-null   int64 \n",
            " 9   MntWines             2240 non-null   int64 \n",
            " 10  MntFruits            2240 non-null   int64 \n",
            " 11  MntMeatProducts      2240 non-null   int64 \n",
            " 12  MntFishProducts      2240 non-null   int64 \n",
            " 13  MntSweetProducts     2240 non-null   int64 \n",
            " 14  MntGoldProds         2240 non-null   int64 \n",
            " 15  NumDealsPurchases    2240 non-null   int64 \n",
            " 16  NumWebPurchases      2240 non-null   int64 \n",
            " 17  NumCatalogPurchases  2240 non-null   int64 \n",
            " 18  NumStorePurchases    2240 non-null   int64 \n",
            " 19  NumWebVisitsMonth    2240 non-null   int64 \n",
            " 20  AcceptedCmp3         2240 non-null   int64 \n",
            " 21  AcceptedCmp4         2240 non-null   int64 \n",
            " 22  AcceptedCmp5         2240 non-null   int64 \n",
            " 23  AcceptedCmp1         2240 non-null   int64 \n",
            " 24  AcceptedCmp2         2240 non-null   int64 \n",
            " 25  Response             2240 non-null   int64 \n",
            " 26  Complain             2240 non-null   int64 \n",
            " 27  Country              2240 non-null   object\n",
            "dtypes: int64(23), object(5)\n",
            "memory usage: 490.1+ KB\n"
          ]
        }
      ]
    },
    {
      "cell_type": "code",
      "metadata": {
        "id": "feyV-2gGr1_-"
      },
      "source": [
        "#we can see that the column' Income', has an exra 'space' it's name. This mistake could cause problems in further analysis, \n",
        "#so we need to rename it. And change the data type\n",
        "df.rename(columns={' Income ':'Income'}, inplace=True)\n",
        "df['Income']=df['Income'].str.replace('$','').str.replace(',','')\n",
        "df['Income']=df['Income'].astype(float)"
      ],
      "execution_count": null,
      "outputs": []
    },
    {
      "cell_type": "code",
      "metadata": {
        "id": "deF5uiApsrgX"
      },
      "source": [
        "#Let's create some useful columns to better understand the dataset and reveal interesting information\n",
        "\n",
        "#Age\n",
        "df['Age']=2021-df['Year_Birth']\n",
        "\n",
        "#Total Amount spended\n",
        "df['Spending']=df.MntWines+df.MntFruits+df.MntMeatProducts+df.MntFishProducts+df.MntSweetProducts+df.MntGoldProds\n",
        "\n",
        "#total of children  at home\n",
        "df['Children'] = df.Kidhome+df.Teenhome"
      ],
      "execution_count": null,
      "outputs": []
    },
    {
      "cell_type": "code",
      "metadata": {
        "id": "le6Xw9sGu4VA"
      },
      "source": [
        "#total years of education \n",
        "df.Education.unique().tolist()\n",
        "years_edu={'Education': ['Graduation', 'PhD', '2n Cycle', 'Master', 'Basic'],\n",
        "           'Edu_years':[16,21,12,18,6]}\n",
        "years_edu=pd.DataFrame(years_edu)\n",
        "df=pd.merge(df,years_edu,on='Education')\n"
      ],
      "execution_count": null,
      "outputs": []
    },
    {
      "cell_type": "markdown",
      "metadata": {
        "id": "2sJ76Yhit_NP"
      },
      "source": [
        "##Dealing with missing values\n",
        "There are different techniques to deal with missing values, in this case I decided to try a KNN Imputer."
      ]
    },
    {
      "cell_type": "code",
      "metadata": {
        "colab": {
          "base_uri": "https://localhost:8080/"
        },
        "id": "t188N45RrRBo",
        "outputId": "3791db61-35b1-45e9-ecab-e8519261c2ab"
      },
      "source": [
        "#looking for missing values\n",
        "df.isna().sum()"
      ],
      "execution_count": null,
      "outputs": [
        {
          "output_type": "execute_result",
          "data": {
            "text/plain": [
              "ID                      0\n",
              "Year_Birth              0\n",
              "Education               0\n",
              "Marital_Status          0\n",
              "Income                 24\n",
              "Kidhome                 0\n",
              "Teenhome                0\n",
              "Dt_Customer             0\n",
              "Recency                 0\n",
              "MntWines                0\n",
              "MntFruits               0\n",
              "MntMeatProducts         0\n",
              "MntFishProducts         0\n",
              "MntSweetProducts        0\n",
              "MntGoldProds            0\n",
              "NumDealsPurchases       0\n",
              "NumWebPurchases         0\n",
              "NumCatalogPurchases     0\n",
              "NumStorePurchases       0\n",
              "NumWebVisitsMonth       0\n",
              "AcceptedCmp3            0\n",
              "AcceptedCmp4            0\n",
              "AcceptedCmp5            0\n",
              "AcceptedCmp1            0\n",
              "AcceptedCmp2            0\n",
              "Response                0\n",
              "Complain                0\n",
              "Country                 0\n",
              "Age                     0\n",
              "Spending                0\n",
              "Children                0\n",
              "Edu_years               0\n",
              "dtype: int64"
            ]
          },
          "metadata": {},
          "execution_count": 8
        }
      ]
    },
    {
      "cell_type": "code",
      "metadata": {
        "colab": {
          "base_uri": "https://localhost:8080/"
        },
        "id": "hivspfIpBaA3",
        "outputId": "06507357-bd9c-42c2-9281-534633446e03"
      },
      "source": [
        "#Complete missing values with KNN Imputation\n",
        "imputer = KNNImputer()\n",
        "imputer = KNNImputer(n_neighbors=5,metric='nan_euclidean')\n",
        "# fit on the dataset\n",
        "imputer.fit(df[['Income','Age','Edu_years']])\n",
        "# transform the dataset\n",
        "X = imputer.transform(df[['Income','Age','Edu_years']])\n",
        "Income_impute=pd.DataFrame(X,columns=['Income','Age','Edu_years'])\n",
        "df['Income']=Income_impute['Income'].reset_index(drop=True)\n",
        "df.isnull().sum()"
      ],
      "execution_count": null,
      "outputs": [
        {
          "output_type": "execute_result",
          "data": {
            "text/plain": [
              "ID                     0\n",
              "Year_Birth             0\n",
              "Education              0\n",
              "Marital_Status         0\n",
              "Income                 0\n",
              "Kidhome                0\n",
              "Teenhome               0\n",
              "Dt_Customer            0\n",
              "Recency                0\n",
              "MntWines               0\n",
              "MntFruits              0\n",
              "MntMeatProducts        0\n",
              "MntFishProducts        0\n",
              "MntSweetProducts       0\n",
              "MntGoldProds           0\n",
              "NumDealsPurchases      0\n",
              "NumWebPurchases        0\n",
              "NumCatalogPurchases    0\n",
              "NumStorePurchases      0\n",
              "NumWebVisitsMonth      0\n",
              "AcceptedCmp3           0\n",
              "AcceptedCmp4           0\n",
              "AcceptedCmp5           0\n",
              "AcceptedCmp1           0\n",
              "AcceptedCmp2           0\n",
              "Response               0\n",
              "Complain               0\n",
              "Country                0\n",
              "Age                    0\n",
              "Spending               0\n",
              "Children               0\n",
              "Edu_years              0\n",
              "dtype: int64"
            ]
          },
          "metadata": {},
          "execution_count": 7
        }
      ]
    },
    {
      "cell_type": "markdown",
      "metadata": {
        "id": "RqsBvTC602fh"
      },
      "source": [
        "#Statistical summary"
      ]
    },
    {
      "cell_type": "code",
      "metadata": {
        "colab": {
          "base_uri": "https://localhost:8080/",
          "height": 290
        },
        "id": "kU5KkNWlxsaX",
        "outputId": "0de8091f-3af2-40d0-ddce-86a9a05a07aa"
      },
      "source": [
        "pd.options.display.float_format='{:.2f}'.format\n",
        "df[['Income','Age','Spending','Children','Edu_years']].describe()\n"
      ],
      "execution_count": null,
      "outputs": [
        {
          "output_type": "execute_result",
          "data": {
            "text/html": [
              "<div>\n",
              "<style scoped>\n",
              "    .dataframe tbody tr th:only-of-type {\n",
              "        vertical-align: middle;\n",
              "    }\n",
              "\n",
              "    .dataframe tbody tr th {\n",
              "        vertical-align: top;\n",
              "    }\n",
              "\n",
              "    .dataframe thead th {\n",
              "        text-align: right;\n",
              "    }\n",
              "</style>\n",
              "<table border=\"1\" class=\"dataframe\">\n",
              "  <thead>\n",
              "    <tr style=\"text-align: right;\">\n",
              "      <th></th>\n",
              "      <th>Income</th>\n",
              "      <th>Age</th>\n",
              "      <th>Spending</th>\n",
              "      <th>Children</th>\n",
              "      <th>Edu_years</th>\n",
              "    </tr>\n",
              "  </thead>\n",
              "  <tbody>\n",
              "    <tr>\n",
              "      <th>count</th>\n",
              "      <td>2240.00</td>\n",
              "      <td>2240.00</td>\n",
              "      <td>2240.00</td>\n",
              "      <td>2240.00</td>\n",
              "      <td>2240.00</td>\n",
              "    </tr>\n",
              "    <tr>\n",
              "      <th>mean</th>\n",
              "      <td>52252.06</td>\n",
              "      <td>52.19</td>\n",
              "      <td>605.80</td>\n",
              "      <td>0.95</td>\n",
              "      <td>16.81</td>\n",
              "    </tr>\n",
              "    <tr>\n",
              "      <th>std</th>\n",
              "      <td>25049.52</td>\n",
              "      <td>11.98</td>\n",
              "      <td>602.25</td>\n",
              "      <td>0.75</td>\n",
              "      <td>3.05</td>\n",
              "    </tr>\n",
              "    <tr>\n",
              "      <th>min</th>\n",
              "      <td>1730.00</td>\n",
              "      <td>25.00</td>\n",
              "      <td>5.00</td>\n",
              "      <td>0.00</td>\n",
              "      <td>6.00</td>\n",
              "    </tr>\n",
              "    <tr>\n",
              "      <th>25%</th>\n",
              "      <td>35502.50</td>\n",
              "      <td>44.00</td>\n",
              "      <td>68.75</td>\n",
              "      <td>0.00</td>\n",
              "      <td>16.00</td>\n",
              "    </tr>\n",
              "    <tr>\n",
              "      <th>50%</th>\n",
              "      <td>51445.50</td>\n",
              "      <td>51.00</td>\n",
              "      <td>396.00</td>\n",
              "      <td>1.00</td>\n",
              "      <td>16.00</td>\n",
              "    </tr>\n",
              "    <tr>\n",
              "      <th>75%</th>\n",
              "      <td>68289.75</td>\n",
              "      <td>62.00</td>\n",
              "      <td>1045.50</td>\n",
              "      <td>1.00</td>\n",
              "      <td>18.00</td>\n",
              "    </tr>\n",
              "    <tr>\n",
              "      <th>max</th>\n",
              "      <td>666666.00</td>\n",
              "      <td>128.00</td>\n",
              "      <td>2525.00</td>\n",
              "      <td>3.00</td>\n",
              "      <td>21.00</td>\n",
              "    </tr>\n",
              "  </tbody>\n",
              "</table>\n",
              "</div>"
            ],
            "text/plain": [
              "         Income     Age  Spending  Children  Edu_years\n",
              "count   2240.00 2240.00   2240.00   2240.00    2240.00\n",
              "mean   52252.06   52.19    605.80      0.95      16.81\n",
              "std    25049.52   11.98    602.25      0.75       3.05\n",
              "min     1730.00   25.00      5.00      0.00       6.00\n",
              "25%    35502.50   44.00     68.75      0.00      16.00\n",
              "50%    51445.50   51.00    396.00      1.00      16.00\n",
              "75%    68289.75   62.00   1045.50      1.00      18.00\n",
              "max   666666.00  128.00   2525.00      3.00      21.00"
            ]
          },
          "metadata": {},
          "execution_count": 8
        }
      ]
    },
    {
      "cell_type": "code",
      "metadata": {
        "colab": {
          "base_uri": "https://localhost:8080/",
          "height": 158
        },
        "id": "qMhjgwwKyJg_",
        "outputId": "ddae1a21-6063-4e4a-f064-caac79682dbb"
      },
      "source": [
        "df[df['Age']>df['Age'].mean()+3*df['Age'].std()]"
      ],
      "execution_count": null,
      "outputs": [
        {
          "output_type": "execute_result",
          "data": {
            "text/html": [
              "<div>\n",
              "<style scoped>\n",
              "    .dataframe tbody tr th:only-of-type {\n",
              "        vertical-align: middle;\n",
              "    }\n",
              "\n",
              "    .dataframe tbody tr th {\n",
              "        vertical-align: top;\n",
              "    }\n",
              "\n",
              "    .dataframe thead th {\n",
              "        text-align: right;\n",
              "    }\n",
              "</style>\n",
              "<table border=\"1\" class=\"dataframe\">\n",
              "  <thead>\n",
              "    <tr style=\"text-align: right;\">\n",
              "      <th></th>\n",
              "      <th>ID</th>\n",
              "      <th>Year_Birth</th>\n",
              "      <th>Education</th>\n",
              "      <th>Marital_Status</th>\n",
              "      <th>Income</th>\n",
              "      <th>Kidhome</th>\n",
              "      <th>Teenhome</th>\n",
              "      <th>Dt_Customer</th>\n",
              "      <th>Recency</th>\n",
              "      <th>MntWines</th>\n",
              "      <th>MntFruits</th>\n",
              "      <th>MntMeatProducts</th>\n",
              "      <th>MntFishProducts</th>\n",
              "      <th>MntSweetProducts</th>\n",
              "      <th>MntGoldProds</th>\n",
              "      <th>NumDealsPurchases</th>\n",
              "      <th>NumWebPurchases</th>\n",
              "      <th>NumCatalogPurchases</th>\n",
              "      <th>NumStorePurchases</th>\n",
              "      <th>NumWebVisitsMonth</th>\n",
              "      <th>AcceptedCmp3</th>\n",
              "      <th>AcceptedCmp4</th>\n",
              "      <th>AcceptedCmp5</th>\n",
              "      <th>AcceptedCmp1</th>\n",
              "      <th>AcceptedCmp2</th>\n",
              "      <th>Response</th>\n",
              "      <th>Complain</th>\n",
              "      <th>Country</th>\n",
              "      <th>Age</th>\n",
              "      <th>Spending</th>\n",
              "      <th>Children</th>\n",
              "      <th>Edu_years</th>\n",
              "    </tr>\n",
              "  </thead>\n",
              "  <tbody>\n",
              "    <tr>\n",
              "      <th>1299</th>\n",
              "      <td>1150</td>\n",
              "      <td>1899</td>\n",
              "      <td>PhD</td>\n",
              "      <td>Together</td>\n",
              "      <td>83532.00</td>\n",
              "      <td>0</td>\n",
              "      <td>0</td>\n",
              "      <td>9/26/13</td>\n",
              "      <td>36</td>\n",
              "      <td>755</td>\n",
              "      <td>144</td>\n",
              "      <td>562</td>\n",
              "      <td>104</td>\n",
              "      <td>64</td>\n",
              "      <td>224</td>\n",
              "      <td>1</td>\n",
              "      <td>4</td>\n",
              "      <td>6</td>\n",
              "      <td>4</td>\n",
              "      <td>1</td>\n",
              "      <td>0</td>\n",
              "      <td>0</td>\n",
              "      <td>1</td>\n",
              "      <td>0</td>\n",
              "      <td>0</td>\n",
              "      <td>0</td>\n",
              "      <td>0</td>\n",
              "      <td>SP</td>\n",
              "      <td>122</td>\n",
              "      <td>1853</td>\n",
              "      <td>0</td>\n",
              "      <td>21</td>\n",
              "    </tr>\n",
              "    <tr>\n",
              "      <th>1662</th>\n",
              "      <td>11004</td>\n",
              "      <td>1893</td>\n",
              "      <td>2n Cycle</td>\n",
              "      <td>Single</td>\n",
              "      <td>60182.00</td>\n",
              "      <td>0</td>\n",
              "      <td>1</td>\n",
              "      <td>5/17/14</td>\n",
              "      <td>23</td>\n",
              "      <td>8</td>\n",
              "      <td>0</td>\n",
              "      <td>5</td>\n",
              "      <td>7</td>\n",
              "      <td>0</td>\n",
              "      <td>2</td>\n",
              "      <td>1</td>\n",
              "      <td>1</td>\n",
              "      <td>0</td>\n",
              "      <td>2</td>\n",
              "      <td>4</td>\n",
              "      <td>0</td>\n",
              "      <td>0</td>\n",
              "      <td>0</td>\n",
              "      <td>0</td>\n",
              "      <td>0</td>\n",
              "      <td>0</td>\n",
              "      <td>0</td>\n",
              "      <td>SA</td>\n",
              "      <td>128</td>\n",
              "      <td>22</td>\n",
              "      <td>1</td>\n",
              "      <td>12</td>\n",
              "    </tr>\n",
              "    <tr>\n",
              "      <th>1814</th>\n",
              "      <td>7829</td>\n",
              "      <td>1900</td>\n",
              "      <td>2n Cycle</td>\n",
              "      <td>Divorced</td>\n",
              "      <td>36640.00</td>\n",
              "      <td>1</td>\n",
              "      <td>0</td>\n",
              "      <td>9/26/13</td>\n",
              "      <td>99</td>\n",
              "      <td>15</td>\n",
              "      <td>6</td>\n",
              "      <td>8</td>\n",
              "      <td>7</td>\n",
              "      <td>4</td>\n",
              "      <td>25</td>\n",
              "      <td>1</td>\n",
              "      <td>2</td>\n",
              "      <td>1</td>\n",
              "      <td>2</td>\n",
              "      <td>5</td>\n",
              "      <td>0</td>\n",
              "      <td>0</td>\n",
              "      <td>0</td>\n",
              "      <td>0</td>\n",
              "      <td>0</td>\n",
              "      <td>0</td>\n",
              "      <td>1</td>\n",
              "      <td>IND</td>\n",
              "      <td>121</td>\n",
              "      <td>65</td>\n",
              "      <td>1</td>\n",
              "      <td>12</td>\n",
              "    </tr>\n",
              "  </tbody>\n",
              "</table>\n",
              "</div>"
            ],
            "text/plain": [
              "         ID  Year_Birth Education  ... Spending  Children  Edu_years\n",
              "1299   1150        1899       PhD  ...     1853         0         21\n",
              "1662  11004        1893  2n Cycle  ...       22         1         12\n",
              "1814   7829        1900  2n Cycle  ...       65         1         12\n",
              "\n",
              "[3 rows x 32 columns]"
            ]
          },
          "metadata": {},
          "execution_count": 18
        }
      ]
    },
    {
      "cell_type": "code",
      "metadata": {
        "colab": {
          "base_uri": "https://localhost:8080/",
          "height": 310
        },
        "id": "fpvaTS2KyzbA",
        "outputId": "588247ac-e516-4eea-8327-5d50e1b686d6"
      },
      "source": [
        "df[df['Income']>df['Income'].mean()+3*df['Income'].std()]"
      ],
      "execution_count": null,
      "outputs": [
        {
          "output_type": "execute_result",
          "data": {
            "text/html": [
              "<div>\n",
              "<style scoped>\n",
              "    .dataframe tbody tr th:only-of-type {\n",
              "        vertical-align: middle;\n",
              "    }\n",
              "\n",
              "    .dataframe tbody tr th {\n",
              "        vertical-align: top;\n",
              "    }\n",
              "\n",
              "    .dataframe thead th {\n",
              "        text-align: right;\n",
              "    }\n",
              "</style>\n",
              "<table border=\"1\" class=\"dataframe\">\n",
              "  <thead>\n",
              "    <tr style=\"text-align: right;\">\n",
              "      <th></th>\n",
              "      <th>ID</th>\n",
              "      <th>Year_Birth</th>\n",
              "      <th>Education</th>\n",
              "      <th>Marital_Status</th>\n",
              "      <th>Income</th>\n",
              "      <th>Kidhome</th>\n",
              "      <th>Teenhome</th>\n",
              "      <th>Dt_Customer</th>\n",
              "      <th>Recency</th>\n",
              "      <th>MntWines</th>\n",
              "      <th>MntFruits</th>\n",
              "      <th>MntMeatProducts</th>\n",
              "      <th>MntFishProducts</th>\n",
              "      <th>MntSweetProducts</th>\n",
              "      <th>MntGoldProds</th>\n",
              "      <th>NumDealsPurchases</th>\n",
              "      <th>NumWebPurchases</th>\n",
              "      <th>NumCatalogPurchases</th>\n",
              "      <th>NumStorePurchases</th>\n",
              "      <th>NumWebVisitsMonth</th>\n",
              "      <th>AcceptedCmp3</th>\n",
              "      <th>AcceptedCmp4</th>\n",
              "      <th>AcceptedCmp5</th>\n",
              "      <th>AcceptedCmp1</th>\n",
              "      <th>AcceptedCmp2</th>\n",
              "      <th>Response</th>\n",
              "      <th>Complain</th>\n",
              "      <th>Country</th>\n",
              "      <th>Age</th>\n",
              "      <th>Spending</th>\n",
              "      <th>Children</th>\n",
              "      <th>Edu_years</th>\n",
              "    </tr>\n",
              "  </thead>\n",
              "  <tbody>\n",
              "    <tr>\n",
              "      <th>147</th>\n",
              "      <td>4931</td>\n",
              "      <td>1977</td>\n",
              "      <td>Graduation</td>\n",
              "      <td>Together</td>\n",
              "      <td>157146.00</td>\n",
              "      <td>0</td>\n",
              "      <td>0</td>\n",
              "      <td>4/29/13</td>\n",
              "      <td>13</td>\n",
              "      <td>1</td>\n",
              "      <td>0</td>\n",
              "      <td>1725</td>\n",
              "      <td>2</td>\n",
              "      <td>1</td>\n",
              "      <td>1</td>\n",
              "      <td>0</td>\n",
              "      <td>0</td>\n",
              "      <td>28</td>\n",
              "      <td>0</td>\n",
              "      <td>1</td>\n",
              "      <td>0</td>\n",
              "      <td>0</td>\n",
              "      <td>0</td>\n",
              "      <td>0</td>\n",
              "      <td>0</td>\n",
              "      <td>0</td>\n",
              "      <td>0</td>\n",
              "      <td>SA</td>\n",
              "      <td>44</td>\n",
              "      <td>1730</td>\n",
              "      <td>0</td>\n",
              "      <td>16</td>\n",
              "    </tr>\n",
              "    <tr>\n",
              "      <th>248</th>\n",
              "      <td>9432</td>\n",
              "      <td>1977</td>\n",
              "      <td>Graduation</td>\n",
              "      <td>Together</td>\n",
              "      <td>666666.00</td>\n",
              "      <td>1</td>\n",
              "      <td>0</td>\n",
              "      <td>6/2/13</td>\n",
              "      <td>23</td>\n",
              "      <td>9</td>\n",
              "      <td>14</td>\n",
              "      <td>18</td>\n",
              "      <td>8</td>\n",
              "      <td>1</td>\n",
              "      <td>12</td>\n",
              "      <td>4</td>\n",
              "      <td>3</td>\n",
              "      <td>1</td>\n",
              "      <td>3</td>\n",
              "      <td>6</td>\n",
              "      <td>0</td>\n",
              "      <td>0</td>\n",
              "      <td>0</td>\n",
              "      <td>0</td>\n",
              "      <td>0</td>\n",
              "      <td>0</td>\n",
              "      <td>0</td>\n",
              "      <td>SA</td>\n",
              "      <td>44</td>\n",
              "      <td>62</td>\n",
              "      <td>1</td>\n",
              "      <td>16</td>\n",
              "    </tr>\n",
              "    <tr>\n",
              "      <th>909</th>\n",
              "      <td>5555</td>\n",
              "      <td>1975</td>\n",
              "      <td>Graduation</td>\n",
              "      <td>Divorced</td>\n",
              "      <td>153924.00</td>\n",
              "      <td>0</td>\n",
              "      <td>0</td>\n",
              "      <td>2/7/14</td>\n",
              "      <td>81</td>\n",
              "      <td>1</td>\n",
              "      <td>1</td>\n",
              "      <td>1</td>\n",
              "      <td>1</td>\n",
              "      <td>1</td>\n",
              "      <td>1</td>\n",
              "      <td>0</td>\n",
              "      <td>0</td>\n",
              "      <td>0</td>\n",
              "      <td>0</td>\n",
              "      <td>0</td>\n",
              "      <td>0</td>\n",
              "      <td>0</td>\n",
              "      <td>0</td>\n",
              "      <td>0</td>\n",
              "      <td>0</td>\n",
              "      <td>0</td>\n",
              "      <td>0</td>\n",
              "      <td>SP</td>\n",
              "      <td>46</td>\n",
              "      <td>6</td>\n",
              "      <td>0</td>\n",
              "      <td>16</td>\n",
              "    </tr>\n",
              "    <tr>\n",
              "      <th>1237</th>\n",
              "      <td>1501</td>\n",
              "      <td>1982</td>\n",
              "      <td>PhD</td>\n",
              "      <td>Married</td>\n",
              "      <td>160803.00</td>\n",
              "      <td>0</td>\n",
              "      <td>0</td>\n",
              "      <td>8/4/12</td>\n",
              "      <td>21</td>\n",
              "      <td>55</td>\n",
              "      <td>16</td>\n",
              "      <td>1622</td>\n",
              "      <td>17</td>\n",
              "      <td>3</td>\n",
              "      <td>4</td>\n",
              "      <td>15</td>\n",
              "      <td>0</td>\n",
              "      <td>28</td>\n",
              "      <td>1</td>\n",
              "      <td>0</td>\n",
              "      <td>0</td>\n",
              "      <td>0</td>\n",
              "      <td>0</td>\n",
              "      <td>0</td>\n",
              "      <td>0</td>\n",
              "      <td>0</td>\n",
              "      <td>0</td>\n",
              "      <td>US</td>\n",
              "      <td>39</td>\n",
              "      <td>1717</td>\n",
              "      <td>0</td>\n",
              "      <td>21</td>\n",
              "    </tr>\n",
              "    <tr>\n",
              "      <th>1280</th>\n",
              "      <td>1503</td>\n",
              "      <td>1976</td>\n",
              "      <td>PhD</td>\n",
              "      <td>Together</td>\n",
              "      <td>162397.00</td>\n",
              "      <td>1</td>\n",
              "      <td>1</td>\n",
              "      <td>6/3/13</td>\n",
              "      <td>31</td>\n",
              "      <td>85</td>\n",
              "      <td>1</td>\n",
              "      <td>16</td>\n",
              "      <td>2</td>\n",
              "      <td>1</td>\n",
              "      <td>2</td>\n",
              "      <td>0</td>\n",
              "      <td>0</td>\n",
              "      <td>0</td>\n",
              "      <td>1</td>\n",
              "      <td>1</td>\n",
              "      <td>0</td>\n",
              "      <td>0</td>\n",
              "      <td>0</td>\n",
              "      <td>0</td>\n",
              "      <td>0</td>\n",
              "      <td>0</td>\n",
              "      <td>0</td>\n",
              "      <td>SP</td>\n",
              "      <td>45</td>\n",
              "      <td>107</td>\n",
              "      <td>2</td>\n",
              "      <td>21</td>\n",
              "    </tr>\n",
              "    <tr>\n",
              "      <th>1551</th>\n",
              "      <td>11181</td>\n",
              "      <td>1949</td>\n",
              "      <td>PhD</td>\n",
              "      <td>Married</td>\n",
              "      <td>156924.00</td>\n",
              "      <td>0</td>\n",
              "      <td>0</td>\n",
              "      <td>8/29/13</td>\n",
              "      <td>85</td>\n",
              "      <td>2</td>\n",
              "      <td>1</td>\n",
              "      <td>2</td>\n",
              "      <td>1</td>\n",
              "      <td>1</td>\n",
              "      <td>1</td>\n",
              "      <td>0</td>\n",
              "      <td>0</td>\n",
              "      <td>0</td>\n",
              "      <td>0</td>\n",
              "      <td>0</td>\n",
              "      <td>0</td>\n",
              "      <td>0</td>\n",
              "      <td>0</td>\n",
              "      <td>0</td>\n",
              "      <td>0</td>\n",
              "      <td>0</td>\n",
              "      <td>0</td>\n",
              "      <td>CA</td>\n",
              "      <td>72</td>\n",
              "      <td>8</td>\n",
              "      <td>0</td>\n",
              "      <td>21</td>\n",
              "    </tr>\n",
              "    <tr>\n",
              "      <th>1604</th>\n",
              "      <td>8475</td>\n",
              "      <td>1973</td>\n",
              "      <td>PhD</td>\n",
              "      <td>Married</td>\n",
              "      <td>157243.00</td>\n",
              "      <td>0</td>\n",
              "      <td>1</td>\n",
              "      <td>3/1/14</td>\n",
              "      <td>98</td>\n",
              "      <td>20</td>\n",
              "      <td>2</td>\n",
              "      <td>1582</td>\n",
              "      <td>1</td>\n",
              "      <td>2</td>\n",
              "      <td>1</td>\n",
              "      <td>15</td>\n",
              "      <td>0</td>\n",
              "      <td>22</td>\n",
              "      <td>0</td>\n",
              "      <td>0</td>\n",
              "      <td>0</td>\n",
              "      <td>0</td>\n",
              "      <td>0</td>\n",
              "      <td>0</td>\n",
              "      <td>0</td>\n",
              "      <td>0</td>\n",
              "      <td>0</td>\n",
              "      <td>IND</td>\n",
              "      <td>48</td>\n",
              "      <td>1608</td>\n",
              "      <td>1</td>\n",
              "      <td>21</td>\n",
              "    </tr>\n",
              "    <tr>\n",
              "      <th>1965</th>\n",
              "      <td>5336</td>\n",
              "      <td>1971</td>\n",
              "      <td>Master</td>\n",
              "      <td>Together</td>\n",
              "      <td>157733.00</td>\n",
              "      <td>1</td>\n",
              "      <td>0</td>\n",
              "      <td>6/4/13</td>\n",
              "      <td>37</td>\n",
              "      <td>39</td>\n",
              "      <td>1</td>\n",
              "      <td>9</td>\n",
              "      <td>2</td>\n",
              "      <td>0</td>\n",
              "      <td>8</td>\n",
              "      <td>0</td>\n",
              "      <td>1</td>\n",
              "      <td>0</td>\n",
              "      <td>1</td>\n",
              "      <td>1</td>\n",
              "      <td>0</td>\n",
              "      <td>0</td>\n",
              "      <td>0</td>\n",
              "      <td>0</td>\n",
              "      <td>0</td>\n",
              "      <td>0</td>\n",
              "      <td>0</td>\n",
              "      <td>SP</td>\n",
              "      <td>50</td>\n",
              "      <td>59</td>\n",
              "      <td>1</td>\n",
              "      <td>18</td>\n",
              "    </tr>\n",
              "  </tbody>\n",
              "</table>\n",
              "</div>"
            ],
            "text/plain": [
              "         ID  Year_Birth   Education  ... Spending  Children  Edu_years\n",
              "147    4931        1977  Graduation  ...     1730         0         16\n",
              "248    9432        1977  Graduation  ...       62         1         16\n",
              "909    5555        1975  Graduation  ...        6         0         16\n",
              "1237   1501        1982         PhD  ...     1717         0         21\n",
              "1280   1503        1976         PhD  ...      107         2         21\n",
              "1551  11181        1949         PhD  ...        8         0         21\n",
              "1604   8475        1973         PhD  ...     1608         1         21\n",
              "1965   5336        1971      Master  ...       59         1         18\n",
              "\n",
              "[8 rows x 32 columns]"
            ]
          },
          "metadata": {},
          "execution_count": 19
        }
      ]
    },
    {
      "cell_type": "code",
      "metadata": {
        "id": "bbMu_E15KNGJ",
        "colab": {
          "base_uri": "https://localhost:8080/",
          "height": 408
        },
        "outputId": "6728323c-cdef-4022-fddb-c2e19dbffb79"
      },
      "source": [
        "df_plot=df[['Income','Age','Spending','Children','Edu_years']]\n",
        "df_plot_melt=pd.melt(df_plot,value_vars=df_plot)\n",
        "df_plot_melt"
      ],
      "execution_count": null,
      "outputs": [
        {
          "output_type": "execute_result",
          "data": {
            "text/html": [
              "<div>\n",
              "<style scoped>\n",
              "    .dataframe tbody tr th:only-of-type {\n",
              "        vertical-align: middle;\n",
              "    }\n",
              "\n",
              "    .dataframe tbody tr th {\n",
              "        vertical-align: top;\n",
              "    }\n",
              "\n",
              "    .dataframe thead th {\n",
              "        text-align: right;\n",
              "    }\n",
              "</style>\n",
              "<table border=\"1\" class=\"dataframe\">\n",
              "  <thead>\n",
              "    <tr style=\"text-align: right;\">\n",
              "      <th></th>\n",
              "      <th>variable</th>\n",
              "      <th>value</th>\n",
              "    </tr>\n",
              "  </thead>\n",
              "  <tbody>\n",
              "    <tr>\n",
              "      <th>0</th>\n",
              "      <td>Income</td>\n",
              "      <td>84835.00</td>\n",
              "    </tr>\n",
              "    <tr>\n",
              "      <th>1</th>\n",
              "      <td>Income</td>\n",
              "      <td>57091.00</td>\n",
              "    </tr>\n",
              "    <tr>\n",
              "      <th>2</th>\n",
              "      <td>Income</td>\n",
              "      <td>67267.00</td>\n",
              "    </tr>\n",
              "    <tr>\n",
              "      <th>3</th>\n",
              "      <td>Income</td>\n",
              "      <td>32474.00</td>\n",
              "    </tr>\n",
              "    <tr>\n",
              "      <th>4</th>\n",
              "      <td>Income</td>\n",
              "      <td>21474.00</td>\n",
              "    </tr>\n",
              "    <tr>\n",
              "      <th>...</th>\n",
              "      <td>...</td>\n",
              "      <td>...</td>\n",
              "    </tr>\n",
              "    <tr>\n",
              "      <th>11195</th>\n",
              "      <td>Edu_years</td>\n",
              "      <td>6.00</td>\n",
              "    </tr>\n",
              "    <tr>\n",
              "      <th>11196</th>\n",
              "      <td>Edu_years</td>\n",
              "      <td>6.00</td>\n",
              "    </tr>\n",
              "    <tr>\n",
              "      <th>11197</th>\n",
              "      <td>Edu_years</td>\n",
              "      <td>6.00</td>\n",
              "    </tr>\n",
              "    <tr>\n",
              "      <th>11198</th>\n",
              "      <td>Edu_years</td>\n",
              "      <td>6.00</td>\n",
              "    </tr>\n",
              "    <tr>\n",
              "      <th>11199</th>\n",
              "      <td>Edu_years</td>\n",
              "      <td>6.00</td>\n",
              "    </tr>\n",
              "  </tbody>\n",
              "</table>\n",
              "<p>11200 rows × 2 columns</p>\n",
              "</div>"
            ],
            "text/plain": [
              "        variable    value\n",
              "0         Income 84835.00\n",
              "1         Income 57091.00\n",
              "2         Income 67267.00\n",
              "3         Income 32474.00\n",
              "4         Income 21474.00\n",
              "...          ...      ...\n",
              "11195  Edu_years     6.00\n",
              "11196  Edu_years     6.00\n",
              "11197  Edu_years     6.00\n",
              "11198  Edu_years     6.00\n",
              "11199  Edu_years     6.00\n",
              "\n",
              "[11200 rows x 2 columns]"
            ]
          },
          "metadata": {},
          "execution_count": 9
        }
      ]
    },
    {
      "cell_type": "code",
      "metadata": {
        "colab": {
          "base_uri": "https://localhost:8080/",
          "height": 441
        },
        "id": "2dubLOiAwX_d",
        "outputId": "256bdedd-82ee-4d16-a3f1-25eaf4f794bd"
      },
      "source": [
        "p1 = sns.FacetGrid (df_plot_melt, col='variable', col_wrap=3, sharex=False, sharey = False) #sharex y sharey hacen que cada gráfico tenga sus escalas en axis\n",
        "p1 = p1.map(sns.histplot, 'value')"
      ],
      "execution_count": null,
      "outputs": [
        {
          "output_type": "display_data",
          "data": {
            "image/png": "[encoded data removed]",
            "text/plain": [
              "<Figure size 648x432 with 5 Axes>"
            ]
          },
          "metadata": {
            "needs_background": "light"
          }
        }
      ]
    },
    {
      "cell_type": "code",
      "metadata": {
        "colab": {
          "base_uri": "https://localhost:8080/",
          "height": 473
        },
        "id": "VrwHjxJT5WIX",
        "outputId": "fefe2ba4-8a75-491a-f28f-0cd61ec69969"
      },
      "source": [
        "p2=sns.FacetGrid(df_plot_melt, col='variable', col_wrap=3, sharex=False, sharey=False)\n",
        "p2=p2.map(sns.boxplot,'value', color='#f5df4c')"
      ],
      "execution_count": null,
      "outputs": [
        {
          "output_type": "stream",
          "name": "stderr",
          "text": [
            "/usr/local/lib/python3.7/dist-packages/seaborn/axisgrid.py:670: UserWarning: Using the boxplot function without specifying `order` is likely to produce an incorrect plot.\n",
            "  warnings.warn(warning)\n"
          ]
        },
        {
          "output_type": "display_data",
          "data": {
            "image/png": "[encoded data removed]",
            "text/plain": [
              "<Figure size 648x432 with 5 Axes>"
            ]
          },
          "metadata": {
            "needs_background": "light"
          }
        }
      ]
    },
    {
      "cell_type": "code",
      "metadata": {
        "id": "zuoF6QFe7WkD"
      },
      "source": [
        "#Let's remove ouliers from the columns 'Income'\n",
        "df=df.drop(df[df['Income']>600000].index)\n"
      ],
      "execution_count": null,
      "outputs": []
    },
    {
      "cell_type": "code",
      "metadata": {
        "id": "xjhOBiAH_VDJ"
      },
      "source": [
        "#Age have 3 values that are above the upper fence, as they are 121, 122, 128, we can consider these as outliers, so let's drop them.\n",
        "df=df.drop(df[df['Age']>120].index)"
      ],
      "execution_count": null,
      "outputs": []
    },
    {
      "cell_type": "markdown",
      "metadata": {
        "id": "sGkygc4fOiQe"
      },
      "source": [
        "#Visual EDA\n",
        "\n",
        "* which country purchases the most?\n",
        "* Which educational segment purchase more Wine?\n",
        "* People with no chirldren buy less than people with kinds?\n",
        "* How much do people spend according to their income?\n",
        "* Which sales channel is the most effective?\n",
        "* How many products per category are sell in every sales channel?\n",
        "* Is the a correlation between the number of visits to the web site and the purchases made through the web site?\n",
        "* what is the % of customers that accepted the offer through the 5th campaigns?\n",
        "* Can we identify, what kind of customers would accept the offer in the 1st and 2th campaign?\n",
        "* what segment of clients complains the most?\n",
        "* Is there any correlation between variables?"
      ]
    },
    {
      "cell_type": "code",
      "metadata": {
        "id": "f8Knisi69Jwt"
      },
      "source": [
        "revenue=df[['Spending','Country']].groupby(by='Country', as_index=False).sum().sort_values('Spending', ascending=False)"
      ],
      "execution_count": null,
      "outputs": []
    },
    {
      "cell_type": "code",
      "metadata": {
        "colab": {
          "base_uri": "https://localhost:8080/",
          "height": 301
        },
        "id": "Jcxwa11Inc3M",
        "outputId": "1339b7d0-d181-43ed-9965-2720ed7b66d3"
      },
      "source": [
        "#which country purchases the most?\n",
        "f, ax=plt.subplots(figsize=(6,4))\n",
        "sns.barplot(x=revenue['Spending'], y=revenue['Country'], color='#cc5803')"
      ],
      "execution_count": null,
      "outputs": [
        {
          "output_type": "execute_result",
          "data": {
            "text/plain": [
              "<matplotlib.axes._subplots.AxesSubplot at 0x7f3528bd0ad0>"
            ]
          },
          "metadata": {},
          "execution_count": 95
        },
        {
          "output_type": "display_data",
          "data": {
            "image/png": "[encoded data removed]",
            "text/plain": [
              "<Figure size 432x288 with 1 Axes>"
            ]
          },
          "metadata": {}
        }
      ]
    },
    {
      "cell_type": "code",
      "metadata": {
        "id": "NWlE7mSHFQdH"
      },
      "source": [
        "wines=df[['Education','MntWines']].groupby(by='Education', as_index=False).sum().sort_values('MntWines', ascending=False)"
      ],
      "execution_count": null,
      "outputs": []
    },
    {
      "cell_type": "code",
      "metadata": {
        "colab": {
          "base_uri": "https://localhost:8080/",
          "height": 301
        },
        "id": "4_6sZDvioAXP",
        "outputId": "8497b8e1-6895-4061-9b11-dd301d46bc5f"
      },
      "source": [
        "#Which educational segment purchase more Wine?\n",
        "f, ax=plt.subplots(figsize=(6,4))\n",
        "sns.barplot(x=wines['MntWines'],y=wines['Education'], color='#f5df4c')"
      ],
      "execution_count": null,
      "outputs": [
        {
          "output_type": "execute_result",
          "data": {
            "text/plain": [
              "<matplotlib.axes._subplots.AxesSubplot at 0x7f3536243bd0>"
            ]
          },
          "metadata": {},
          "execution_count": 98
        },
        {
          "output_type": "display_data",
          "data": {
            "image/png": "[encoded data removed]",
            "text/plain": [
              "<Figure size 432x288 with 1 Axes>"
            ]
          },
          "metadata": {}
        }
      ]
    },
    {
      "cell_type": "code",
      "metadata": {
        "id": "hJtYtl1EICcJ"
      },
      "source": [
        "kids=df[['Children','Spending']].groupby(by='Children', as_index=False).sum().sort_values('Spending', ascending=False)"
      ],
      "execution_count": null,
      "outputs": []
    },
    {
      "cell_type": "code",
      "metadata": {
        "colab": {
          "base_uri": "https://localhost:8080/",
          "height": 301
        },
        "id": "T1UDBvjModXj",
        "outputId": "72900d2d-9367-4654-8894-96e5d800db7a"
      },
      "source": [
        "#People with no chirldren buy less than people with kinds?\n",
        "f, ax=plt.subplots(figsize=(6,4))\n",
        "sns.barplot(y=kids['Spending'], x=kids['Children'], color='#efa9ae')"
      ],
      "execution_count": null,
      "outputs": [
        {
          "output_type": "execute_result",
          "data": {
            "text/plain": [
              "<matplotlib.axes._subplots.AxesSubplot at 0x7f35360a8810>"
            ]
          },
          "metadata": {},
          "execution_count": 102
        },
        {
          "output_type": "display_data",
          "data": {
            "image/png": "[encoded data removed]",
            "text/plain": [
              "<Figure size 432x288 with 1 Axes>"
            ]
          },
          "metadata": {}
        }
      ]
    },
    {
      "cell_type": "code",
      "metadata": {
        "colab": {
          "base_uri": "https://localhost:8080/",
          "height": 303
        },
        "id": "NkOsqInhJK9x",
        "outputId": "cee2acac-a0c2-4616-c01b-78eea507f739"
      },
      "source": [
        "f, ax=plt.subplots(figsize=(6,4))\n",
        "sns.barplot(y=df['Spending'], x=df['Children'], color='#efa9ae')"
      ],
      "execution_count": null,
      "outputs": [
        {
          "output_type": "execute_result",
          "data": {
            "text/plain": [
              "<matplotlib.axes._subplots.AxesSubplot at 0x7f3535f09790>"
            ]
          },
          "metadata": {},
          "execution_count": 103
        },
        {
          "output_type": "display_data",
          "data": {
            "image/png": "[encoded data removed]",
            "text/plain": [
              "<Figure size 432x288 with 1 Axes>"
            ]
          },
          "metadata": {}
        }
      ]
    },
    {
      "cell_type": "code",
      "metadata": {
        "colab": {
          "base_uri": "https://localhost:8080/",
          "height": 381
        },
        "id": "3AywjGOMMJTW",
        "outputId": "53120fb9-d702-4840-b1ad-24c3a7777a7d"
      },
      "source": [
        "#distibution of customer by age?\n",
        "sns.displot(df, x=df['Age'], color='#cc5803')"
      ],
      "execution_count": null,
      "outputs": [
        {
          "output_type": "execute_result",
          "data": {
            "text/plain": [
              "<seaborn.axisgrid.FacetGrid at 0x7f3534234210>"
            ]
          },
          "metadata": {},
          "execution_count": 111
        },
        {
          "output_type": "display_data",
          "data": {
            "image/png": "[encoded data removed]",
            "text/plain": [
              "<Figure size 360x360 with 1 Axes>"
            ]
          },
          "metadata": {}
        }
      ]
    },
    {
      "cell_type": "code",
      "metadata": {
        "id": "WbSYRBW_XkcI"
      },
      "source": [
        "#customer distribution by marital status\n",
        "MaritalS=df[['Marital_Status','ID']].groupby(by='Marital_Status', as_index=False).nunique().sort_values('ID', ascending=False)"
      ],
      "execution_count": null,
      "outputs": []
    },
    {
      "cell_type": "code",
      "metadata": {
        "colab": {
          "base_uri": "https://localhost:8080/",
          "height": 301
        },
        "id": "pBVU0JSRb_cF",
        "outputId": "135ebfed-0764-41bf-8b20-8da3fb36b3bc"
      },
      "source": [
        "f, ax=plt.subplots(figsize=(6,4))\n",
        "sns.barplot(x=MaritalS['ID'],y=MaritalS['Marital_Status'], color='#f5df4c')\n",
        "plt.xlabel('Number of customers')"
      ],
      "execution_count": null,
      "outputs": [
        {
          "output_type": "execute_result",
          "data": {
            "text/plain": [
              "Text(0.5, 0, 'Number of customers')"
            ]
          },
          "metadata": {},
          "execution_count": 119
        },
        {
          "output_type": "display_data",
          "data": {
            "image/png": "[encoded data removed]",
            "text/plain": [
              "<Figure size 432x288 with 1 Axes>"
            ]
          },
          "metadata": {}
        }
      ]
    },
    {
      "cell_type": "code",
      "metadata": {
        "colab": {
          "base_uri": "https://localhost:8080/",
          "height": 460
        },
        "id": "UHOZA1IapOaY",
        "outputId": "0da51727-12b8-4eef-f3c7-d622a68593f1"
      },
      "source": [
        "#How much do people spend according to their income?\n",
        "f, ax=plt.subplots(figsize=(7,7))\n",
        "sns.kdeplot(data=df, x=df['Income'], y=df['Spending'])"
      ],
      "execution_count": null,
      "outputs": [
        {
          "output_type": "execute_result",
          "data": {
            "text/plain": [
              "<matplotlib.axes._subplots.AxesSubplot at 0x7f04d3065610>"
            ]
          },
          "metadata": {},
          "execution_count": 40
        },
        {
          "output_type": "display_data",
          "data": {
            "image/png": "[encoded data removed]",
            "text/plain": [
              "<Figure size 504x504 with 1 Axes>"
            ]
          },
          "metadata": {
            "needs_background": "light"
          }
        }
      ]
    },
    {
      "cell_type": "code",
      "metadata": {
        "id": "S3U9XfI-dyrG"
      },
      "source": [
        "#which sale channel is more effective\n",
        "channels=df[['NumCatalogPurchases','NumDealsPurchases','NumWebPurchases','NumStorePurchases']].sum()"
      ],
      "execution_count": null,
      "outputs": []
    },
    {
      "cell_type": "code",
      "metadata": {
        "id": "v5PoTcqifPPa"
      },
      "source": [
        "channels=pd.DataFrame(channels)"
      ],
      "execution_count": null,
      "outputs": []
    },
    {
      "cell_type": "code",
      "metadata": {
        "id": "KYD4ZDf-fX-E"
      },
      "source": [
        "channels=channels.reset_index()"
      ],
      "execution_count": null,
      "outputs": []
    },
    {
      "cell_type": "code",
      "metadata": {
        "id": "zYQ5cJqQfyR0"
      },
      "source": [
        "channels.rename(columns={'index':'channel',0:'Transactions'}, inplace=True)"
      ],
      "execution_count": null,
      "outputs": []
    },
    {
      "cell_type": "code",
      "metadata": {
        "colab": {
          "base_uri": "https://localhost:8080/",
          "height": 350
        },
        "id": "8-DSxTzPfGHD",
        "outputId": "7e200fcb-ef85-4223-e216-0b22215b87cd"
      },
      "source": [
        "f, ax=plt.subplots(figsize=(5,4))\n",
        "ax1=sns.barplot(y=channels['channel'],x=channels['Transactions'], color='#cc5803')\n",
        "ax1.set_yticklabels(['Catalog','Discount','Web','Store'])"
      ],
      "execution_count": null,
      "outputs": [
        {
          "output_type": "execute_result",
          "data": {
            "text/plain": [
              "[Text(0, 0, 'Catalog'),\n",
              " Text(0, 0, 'Discount'),\n",
              " Text(0, 0, 'Web'),\n",
              " Text(0, 0, 'Store')]"
            ]
          },
          "metadata": {},
          "execution_count": 152
        },
        {
          "output_type": "display_data",
          "data": {
            "image/png": "[encoded data removed]",
            "text/plain": [
              "<Figure size 360x288 with 1 Axes>"
            ]
          },
          "metadata": {}
        }
      ]
    },
    {
      "cell_type": "code",
      "metadata": {
        "colab": {
          "base_uri": "https://localhost:8080/",
          "height": 170
        },
        "id": "BE_VpjDYgvUI",
        "outputId": "38cfa9f3-799a-41db-9b17-46573b3c9a37"
      },
      "source": [
        "channels['share']=channels.Transactions/channels.Transactions.sum()\n",
        "channels "
      ],
      "execution_count": null,
      "outputs": [
        {
          "output_type": "execute_result",
          "data": {
            "text/html": [
              "<div>\n",
              "<style scoped>\n",
              "    .dataframe tbody tr th:only-of-type {\n",
              "        vertical-align: middle;\n",
              "    }\n",
              "\n",
              "    .dataframe tbody tr th {\n",
              "        vertical-align: top;\n",
              "    }\n",
              "\n",
              "    .dataframe thead th {\n",
              "        text-align: right;\n",
              "    }\n",
              "</style>\n",
              "<table border=\"1\" class=\"dataframe\">\n",
              "  <thead>\n",
              "    <tr style=\"text-align: right;\">\n",
              "      <th></th>\n",
              "      <th>channel</th>\n",
              "      <th>Transactions</th>\n",
              "      <th>share</th>\n",
              "    </tr>\n",
              "  </thead>\n",
              "  <tbody>\n",
              "    <tr>\n",
              "      <th>0</th>\n",
              "      <td>NumCatalogPurchases</td>\n",
              "      <td>5955</td>\n",
              "      <td>0.18</td>\n",
              "    </tr>\n",
              "    <tr>\n",
              "      <th>1</th>\n",
              "      <td>NumDealsPurchases</td>\n",
              "      <td>5201</td>\n",
              "      <td>0.16</td>\n",
              "    </tr>\n",
              "    <tr>\n",
              "      <th>2</th>\n",
              "      <td>NumWebPurchases</td>\n",
              "      <td>9140</td>\n",
              "      <td>0.27</td>\n",
              "    </tr>\n",
              "    <tr>\n",
              "      <th>3</th>\n",
              "      <td>NumStorePurchases</td>\n",
              "      <td>12959</td>\n",
              "      <td>0.39</td>\n",
              "    </tr>\n",
              "  </tbody>\n",
              "</table>\n",
              "</div>"
            ],
            "text/plain": [
              "               channel  Transactions  share\n",
              "0  NumCatalogPurchases          5955   0.18\n",
              "1    NumDealsPurchases          5201   0.16\n",
              "2      NumWebPurchases          9140   0.27\n",
              "3    NumStorePurchases         12959   0.39"
            ]
          },
          "metadata": {},
          "execution_count": 154
        }
      ]
    },
    {
      "cell_type": "code",
      "metadata": {
        "colab": {
          "base_uri": "https://localhost:8080/"
        },
        "id": "IXRuDSdQhkfI",
        "outputId": "f67ba046-b335-4ac6-f637-5c813bfc2101"
      },
      "source": [
        "channels.Transactions.sum()"
      ],
      "execution_count": null,
      "outputs": [
        {
          "output_type": "execute_result",
          "data": {
            "text/plain": [
              "33255"
            ]
          },
          "metadata": {},
          "execution_count": 155
        }
      ]
    },
    {
      "cell_type": "code",
      "metadata": {
        "id": "hOGOxUnJ0H7Z"
      },
      "source": [
        "#what is the total amount spended in every product category?\n",
        "products=df[['MntWines',\t'MntFruits',\t'MntMeatProducts','MntFishProducts', 'MntSweetProducts','MntGoldProds']]\n",
        "products=products.melt()\n"
      ],
      "execution_count": null,
      "outputs": []
    },
    {
      "cell_type": "code",
      "metadata": {
        "id": "HkwEbfDc204D"
      },
      "source": [
        "total_products=products.groupby(by=products['variable'],as_index=False).sum()"
      ],
      "execution_count": null,
      "outputs": []
    },
    {
      "cell_type": "code",
      "metadata": {
        "colab": {
          "base_uri": "https://localhost:8080/",
          "height": 295
        },
        "id": "wCMTqnWa2b_r",
        "outputId": "8e59df5d-8051-4f31-b3be-b307300cae0c"
      },
      "source": [
        "f, ax=plt.subplots(figsize=(5,4))\n",
        "sns.barplot(x=total_products['value'], y=total_products['variable'], color='#efa9ae')"
      ],
      "execution_count": null,
      "outputs": [
        {
          "output_type": "execute_result",
          "data": {
            "text/plain": [
              "<matplotlib.axes._subplots.AxesSubplot at 0x7f352a5d9750>"
            ]
          },
          "metadata": {},
          "execution_count": 71
        },
        {
          "output_type": "display_data",
          "data": {
            "image/png": "[encoded data removed]",
            "text/plain": [
              "<Figure size 360x288 with 1 Axes>"
            ]
          },
          "metadata": {
            "needs_background": "light"
          }
        }
      ]
    },
    {
      "cell_type": "code",
      "metadata": {
        "colab": {
          "base_uri": "https://localhost:8080/"
        },
        "id": "C0W4xhcu3qiC",
        "outputId": "8b2e1621-535b-4ab8-eb21-adb7f02e4563"
      },
      "source": [
        "#what is the % of customers that accepted the offer through the 5th campaigns?\n",
        "campaign=df[['AcceptedCmp3',\t'AcceptedCmp4',\t'AcceptedCmp5',\t'AcceptedCmp1',\t'AcceptedCmp2']]\n",
        "campaign.melt().sum()"
      ],
      "execution_count": null,
      "outputs": [
        {
          "output_type": "execute_result",
          "data": {
            "text/plain": [
              "variable    AcceptedCmp3AcceptedCmp3AcceptedCmp3AcceptedCm...\n",
              "value                                                     666\n",
              "dtype: object"
            ]
          },
          "metadata": {},
          "execution_count": 156
        }
      ]
    },
    {
      "cell_type": "code",
      "metadata": {
        "id": "UZ24LiBpHpIi"
      },
      "source": [
        "camp_perform=campaign.melt().groupby('variable').sum()"
      ],
      "execution_count": null,
      "outputs": []
    },
    {
      "cell_type": "code",
      "metadata": {
        "colab": {
          "base_uri": "https://localhost:8080/",
          "height": 230
        },
        "id": "fqilQ8swIPPs",
        "outputId": "dcfe9208-72ef-4388-ea63-95e20cb59d0a"
      },
      "source": [
        "camp_perform['percent']=camp_perform['value']/666\n",
        "camp_perform"
      ],
      "execution_count": null,
      "outputs": [
        {
          "output_type": "execute_result",
          "data": {
            "text/html": [
              "<div>\n",
              "<style scoped>\n",
              "    .dataframe tbody tr th:only-of-type {\n",
              "        vertical-align: middle;\n",
              "    }\n",
              "\n",
              "    .dataframe tbody tr th {\n",
              "        vertical-align: top;\n",
              "    }\n",
              "\n",
              "    .dataframe thead th {\n",
              "        text-align: right;\n",
              "    }\n",
              "</style>\n",
              "<table border=\"1\" class=\"dataframe\">\n",
              "  <thead>\n",
              "    <tr style=\"text-align: right;\">\n",
              "      <th></th>\n",
              "      <th>value</th>\n",
              "      <th>percent</th>\n",
              "    </tr>\n",
              "    <tr>\n",
              "      <th>variable</th>\n",
              "      <th></th>\n",
              "      <th></th>\n",
              "    </tr>\n",
              "  </thead>\n",
              "  <tbody>\n",
              "    <tr>\n",
              "      <th>AcceptedCmp1</th>\n",
              "      <td>144</td>\n",
              "      <td>0.22</td>\n",
              "    </tr>\n",
              "    <tr>\n",
              "      <th>AcceptedCmp2</th>\n",
              "      <td>30</td>\n",
              "      <td>0.05</td>\n",
              "    </tr>\n",
              "    <tr>\n",
              "      <th>AcceptedCmp3</th>\n",
              "      <td>163</td>\n",
              "      <td>0.24</td>\n",
              "    </tr>\n",
              "    <tr>\n",
              "      <th>AcceptedCmp4</th>\n",
              "      <td>167</td>\n",
              "      <td>0.25</td>\n",
              "    </tr>\n",
              "    <tr>\n",
              "      <th>AcceptedCmp5</th>\n",
              "      <td>162</td>\n",
              "      <td>0.24</td>\n",
              "    </tr>\n",
              "  </tbody>\n",
              "</table>\n",
              "</div>"
            ],
            "text/plain": [
              "              value  percent\n",
              "variable                    \n",
              "AcceptedCmp1    144     0.22\n",
              "AcceptedCmp2     30     0.05\n",
              "AcceptedCmp3    163     0.24\n",
              "AcceptedCmp4    167     0.25\n",
              "AcceptedCmp5    162     0.24"
            ]
          },
          "metadata": {},
          "execution_count": 33
        }
      ]
    },
    {
      "cell_type": "markdown",
      "metadata": {
        "id": "o5BXP7owJml6"
      },
      "source": [
        "##Logistic Regression"
      ]
    },
    {
      "cell_type": "code",
      "metadata": {
        "colab": {
          "base_uri": "https://localhost:8080/",
          "height": 290
        },
        "id": "wQ0muNepNVvU",
        "outputId": "fc05aaa5-f083-4a0f-fde6-951b82fb0449"
      },
      "source": [
        "# let's build a model\n",
        "first_camp=df[df['AcceptedCmp1']>0]\n",
        "first_camp[['Age','Income','Edu_years','Spending','Recency','Children']].describe()"
      ],
      "execution_count": null,
      "outputs": [
        {
          "output_type": "execute_result",
          "data": {
            "text/html": [
              "<div>\n",
              "<style scoped>\n",
              "    .dataframe tbody tr th:only-of-type {\n",
              "        vertical-align: middle;\n",
              "    }\n",
              "\n",
              "    .dataframe tbody tr th {\n",
              "        vertical-align: top;\n",
              "    }\n",
              "\n",
              "    .dataframe thead th {\n",
              "        text-align: right;\n",
              "    }\n",
              "</style>\n",
              "<table border=\"1\" class=\"dataframe\">\n",
              "  <thead>\n",
              "    <tr style=\"text-align: right;\">\n",
              "      <th></th>\n",
              "      <th>Age</th>\n",
              "      <th>Income</th>\n",
              "      <th>Edu_years</th>\n",
              "      <th>Spending</th>\n",
              "      <th>Recency</th>\n",
              "      <th>Children</th>\n",
              "    </tr>\n",
              "  </thead>\n",
              "  <tbody>\n",
              "    <tr>\n",
              "      <th>count</th>\n",
              "      <td>144.00</td>\n",
              "      <td>144.00</td>\n",
              "      <td>144.00</td>\n",
              "      <td>144.00</td>\n",
              "      <td>144.00</td>\n",
              "      <td>144.00</td>\n",
              "    </tr>\n",
              "    <tr>\n",
              "      <th>mean</th>\n",
              "      <td>52.47</td>\n",
              "      <td>78324.44</td>\n",
              "      <td>15.64</td>\n",
              "      <td>1482.22</td>\n",
              "      <td>46.98</td>\n",
              "      <td>0.31</td>\n",
              "    </tr>\n",
              "    <tr>\n",
              "      <th>std</th>\n",
              "      <td>13.53</td>\n",
              "      <td>12180.69</td>\n",
              "      <td>3.02</td>\n",
              "      <td>507.38</td>\n",
              "      <td>28.38</td>\n",
              "      <td>0.63</td>\n",
              "    </tr>\n",
              "    <tr>\n",
              "      <th>min</th>\n",
              "      <td>27.00</td>\n",
              "      <td>36086.00</td>\n",
              "      <td>12.00</td>\n",
              "      <td>265.00</td>\n",
              "      <td>1.00</td>\n",
              "      <td>0.00</td>\n",
              "    </tr>\n",
              "    <tr>\n",
              "      <th>25%</th>\n",
              "      <td>42.00</td>\n",
              "      <td>72904.50</td>\n",
              "      <td>14.00</td>\n",
              "      <td>1126.25</td>\n",
              "      <td>25.00</td>\n",
              "      <td>0.00</td>\n",
              "    </tr>\n",
              "    <tr>\n",
              "      <th>50%</th>\n",
              "      <td>51.50</td>\n",
              "      <td>79767.00</td>\n",
              "      <td>14.00</td>\n",
              "      <td>1513.50</td>\n",
              "      <td>45.50</td>\n",
              "      <td>0.00</td>\n",
              "    </tr>\n",
              "    <tr>\n",
              "      <th>75%</th>\n",
              "      <td>64.00</td>\n",
              "      <td>85625.25</td>\n",
              "      <td>17.00</td>\n",
              "      <td>1853.00</td>\n",
              "      <td>71.25</td>\n",
              "      <td>0.00</td>\n",
              "    </tr>\n",
              "    <tr>\n",
              "      <th>max</th>\n",
              "      <td>77.00</td>\n",
              "      <td>105471.00</td>\n",
              "      <td>21.00</td>\n",
              "      <td>2524.00</td>\n",
              "      <td>99.00</td>\n",
              "      <td>3.00</td>\n",
              "    </tr>\n",
              "  </tbody>\n",
              "</table>\n",
              "</div>"
            ],
            "text/plain": [
              "         Age    Income  Edu_years  Spending  Recency  Children\n",
              "count 144.00    144.00     144.00    144.00   144.00    144.00\n",
              "mean   52.47  78324.44      15.64   1482.22    46.98      0.31\n",
              "std    13.53  12180.69       3.02    507.38    28.38      0.63\n",
              "min    27.00  36086.00      12.00    265.00     1.00      0.00\n",
              "25%    42.00  72904.50      14.00   1126.25    25.00      0.00\n",
              "50%    51.50  79767.00      14.00   1513.50    45.50      0.00\n",
              "75%    64.00  85625.25      17.00   1853.00    71.25      0.00\n",
              "max    77.00 105471.00      21.00   2524.00    99.00      3.00"
            ]
          },
          "metadata": {},
          "execution_count": 22
        }
      ]
    },
    {
      "cell_type": "code",
      "metadata": {
        "id": "1J59XKtwJgmy"
      },
      "source": [
        "#Develop a model to predict if a customer would accept an offer in the 1st campaing\n",
        "In_couple={'Marital_Status':['Divorced', 'Single', 'Married', 'Together', 'Widow', 'Alone','Absurd', 'YOLO'],\n",
        "            'Couple':[0,0,1,1,0,0,0,0]}\n",
        "In_couple=pd.DataFrame(In_couple)"
      ],
      "execution_count": null,
      "outputs": []
    },
    {
      "cell_type": "code",
      "metadata": {
        "id": "EhZq6EhtKA3S"
      },
      "source": [
        "df=pd.merge(df,In_couple, on='Marital_Status')"
      ],
      "execution_count": null,
      "outputs": []
    },
    {
      "cell_type": "code",
      "metadata": {
        "id": "fnLWgpTpIs98"
      },
      "source": [
        "#Now, let's define the variables we are going to use\n",
        "X=df[['Age','Edu_years','Income','Couple','Children']]\n",
        "y=df['AcceptedCmp1']"
      ],
      "execution_count": null,
      "outputs": []
    },
    {
      "cell_type": "code",
      "metadata": {
        "colab": {
          "base_uri": "https://localhost:8080/"
        },
        "id": "CYt2bTtbMcfb",
        "outputId": "879a1923-f231-4599-f16b-06b4b3b34746"
      },
      "source": [
        "from sklearn.model_selection import train_test_split\n",
        "X_train, X_test, y_train, y_test = train_test_split(X,y,train_size=0.3)\n",
        "\n",
        "from sklearn.linear_model import LogisticRegression\n",
        "model = LogisticRegression()\n",
        "\n",
        "model.fit(X_train, y_train)"
      ],
      "execution_count": null,
      "outputs": [
        {
          "output_type": "execute_result",
          "data": {
            "text/plain": [
              "LogisticRegression(C=1.0, class_weight=None, dual=False, fit_intercept=True,\n",
              "                   intercept_scaling=1, l1_ratio=None, max_iter=100,\n",
              "                   multi_class='auto', n_jobs=None, penalty='l2',\n",
              "                   random_state=None, solver='lbfgs', tol=0.0001, verbose=0,\n",
              "                   warm_start=False)"
            ]
          },
          "metadata": {},
          "execution_count": 27
        }
      ]
    },
    {
      "cell_type": "code",
      "metadata": {
        "colab": {
          "base_uri": "https://localhost:8080/"
        },
        "id": "lmTmgRynMjzd",
        "outputId": "31b93636-1f86-4834-8f77-e046f07a1860"
      },
      "source": [
        "model.predict(X_test)"
      ],
      "execution_count": null,
      "outputs": [
        {
          "output_type": "execute_result",
          "data": {
            "text/plain": [
              "array([1, 0, 0, ..., 0, 0, 0])"
            ]
          },
          "metadata": {},
          "execution_count": 28
        }
      ]
    },
    {
      "cell_type": "code",
      "metadata": {
        "colab": {
          "base_uri": "https://localhost:8080/"
        },
        "id": "5XqLdljdMmJK",
        "outputId": "c7600087-3ee9-4b3f-9859-c09f5ffadb35"
      },
      "source": [
        "model.score(X_test,y_test)"
      ],
      "execution_count": null,
      "outputs": [
        {
          "output_type": "execute_result",
          "data": {
            "text/plain": [
              "0.9323116219667944"
            ]
          },
          "metadata": {},
          "execution_count": 29
        }
      ]
    },
    {
      "cell_type": "code",
      "metadata": {
        "id": "PdEz4PDmQ4WY"
      },
      "source": [
        "#what segment of clients complains the most?\n",
        "complains=df[df['Complain']>0]"
      ],
      "execution_count": null,
      "outputs": []
    },
    {
      "cell_type": "code",
      "metadata": {
        "id": "JhvDSwFGRjEt"
      },
      "source": [
        "complains=complains[['Age','Edu_years','Income','Couple','Children','Spending']]"
      ],
      "execution_count": null,
      "outputs": []
    },
    {
      "cell_type": "code",
      "metadata": {
        "id": "eeJ6HRq7Slww"
      },
      "source": [
        "complains_melt=pd.melt(complains,value_vars=complains)"
      ],
      "execution_count": null,
      "outputs": []
    },
    {
      "cell_type": "code",
      "metadata": {
        "colab": {
          "base_uri": "https://localhost:8080/",
          "height": 441
        },
        "id": "KWOGFgiPSuv1",
        "outputId": "858012cb-8e15-4348-f419-310864143598"
      },
      "source": [
        "plot1=sns.FacetGrid(complains_melt, col='variable',col_wrap=3, sharex=False, sharey=False)\n",
        "plot1=plot1.map(sns.histplot,'value', color='#cc5803')"
      ],
      "execution_count": null,
      "outputs": [
        {
          "output_type": "display_data",
          "data": {
            "image/png": "[encoded data removed]",
            "text/plain": [
              "<Figure size 648x432 with 6 Axes>"
            ]
          },
          "metadata": {
            "needs_background": "light"
          }
        }
      ]
    },
    {
      "cell_type": "code",
      "metadata": {
        "id": "9PWAVy53UcsP"
      },
      "source": [
        "correlation=df[['Age','Income', 'Spending', 'Children', 'Edu_years','NumDealsPurchases', 'NumWebPurchases','NumCatalogPurchases','NumStorePurchases']]"
      ],
      "execution_count": null,
      "outputs": []
    },
    {
      "cell_type": "code",
      "metadata": {
        "colab": {
          "base_uri": "https://localhost:8080/",
          "height": 618
        },
        "id": "q5ihvKmUU__g",
        "outputId": "eb522ade-a614-4666-bf55-11080c910dee"
      },
      "source": [
        "sns.set(rc={'figure.figsize':(8,8)})\n",
        "sns.heatmap(correlation.corr(),annot=True,fmt='.1g', cmap='YlOrBr')"
      ],
      "execution_count": null,
      "outputs": [
        {
          "output_type": "execute_result",
          "data": {
            "text/plain": [
              "<matplotlib.axes._subplots.AxesSubplot at 0x7f35289f7a90>"
            ]
          },
          "metadata": {},
          "execution_count": 80
        },
        {
          "output_type": "display_data",
          "data": {
            "image/png": "[encoded data removed]",
            "text/plain": [
              "<Figure size 576x576 with 2 Axes>"
            ]
          },
          "metadata": {}
        }
      ]
    },
    {
      "cell_type": "code",
      "metadata": {
        "id": "29JGDNnBaBOn"
      },
      "source": [
        "df.to_csv('/sales_analysis.csv', index=False)\n",
        "!cp /sales_analysis.csv \"drive/My Drive/\""
      ],
      "execution_count": null,
      "outputs": []
    }
  ]
}